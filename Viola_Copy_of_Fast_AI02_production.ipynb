{
  "nbformat": 4,
  "nbformat_minor": 0,
  "metadata": {
    "jupytext": {
      "split_at_heading": true
    },
    "kernelspec": {
      "display_name": "Python 3",
      "language": "python",
      "name": "python3"
    },
    "colab": {
      "name": "Viola Copy of Fast AI02_production.ipynb",
      "provenance": [],
      "collapsed_sections": [],
      "include_colab_link": true
    },
    "widgets": {
      "application/vnd.jupyter.widget-state+json": {
        "bdb9f37f9375471e86954d71076f6504": {
          "model_module": "@jupyter-widgets/controls",
          "model_name": "HBoxModel",
          "state": {
            "_view_name": "HBoxView",
            "_dom_classes": [],
            "_model_name": "HBoxModel",
            "_view_module": "@jupyter-widgets/controls",
            "_model_module_version": "1.5.0",
            "_view_count": null,
            "_view_module_version": "1.5.0",
            "box_style": "",
            "layout": "IPY_MODEL_3d7b9c020b684a72b0275265140afbd0",
            "_model_module": "@jupyter-widgets/controls",
            "children": [
              "IPY_MODEL_17f33b10ca1142a9a24a66a506668605",
              "IPY_MODEL_fecd0f4c0aef48ac9f9e579134ec83ea"
            ]
          }
        },
        "3d7b9c020b684a72b0275265140afbd0": {
          "model_module": "@jupyter-widgets/base",
          "model_name": "LayoutModel",
          "state": {
            "_view_name": "LayoutView",
            "grid_template_rows": null,
            "right": null,
            "justify_content": null,
            "_view_module": "@jupyter-widgets/base",
            "overflow": null,
            "_model_module_version": "1.2.0",
            "_view_count": null,
            "flex_flow": null,
            "width": null,
            "min_width": null,
            "border": null,
            "align_items": null,
            "bottom": null,
            "_model_module": "@jupyter-widgets/base",
            "top": null,
            "grid_column": null,
            "overflow_y": null,
            "overflow_x": null,
            "grid_auto_flow": null,
            "grid_area": null,
            "grid_template_columns": null,
            "flex": null,
            "_model_name": "LayoutModel",
            "justify_items": null,
            "grid_row": null,
            "max_height": null,
            "align_content": null,
            "visibility": null,
            "align_self": null,
            "height": null,
            "min_height": null,
            "padding": null,
            "grid_auto_rows": null,
            "grid_gap": null,
            "max_width": null,
            "order": null,
            "_view_module_version": "1.2.0",
            "grid_template_areas": null,
            "object_position": null,
            "object_fit": null,
            "grid_auto_columns": null,
            "margin": null,
            "display": null,
            "left": null
          }
        },
        "17f33b10ca1142a9a24a66a506668605": {
          "model_module": "@jupyter-widgets/controls",
          "model_name": "FloatProgressModel",
          "state": {
            "_view_name": "ProgressView",
            "style": "IPY_MODEL_c0785af89d9e4ab1b7002b1effb04fe6",
            "_dom_classes": [],
            "description": "100%",
            "_model_name": "FloatProgressModel",
            "bar_style": "success",
            "max": 46827520,
            "_view_module": "@jupyter-widgets/controls",
            "_model_module_version": "1.5.0",
            "value": 46827520,
            "_view_count": null,
            "_view_module_version": "1.5.0",
            "orientation": "horizontal",
            "min": 0,
            "description_tooltip": null,
            "_model_module": "@jupyter-widgets/controls",
            "layout": "IPY_MODEL_4f5bf9e072fa4deeb566c4a16d8a6f9f"
          }
        },
        "fecd0f4c0aef48ac9f9e579134ec83ea": {
          "model_module": "@jupyter-widgets/controls",
          "model_name": "HTMLModel",
          "state": {
            "_view_name": "HTMLView",
            "style": "IPY_MODEL_8a263710ab3847cdb191e35a8bb33b51",
            "_dom_classes": [],
            "description": "",
            "_model_name": "HTMLModel",
            "placeholder": "​",
            "_view_module": "@jupyter-widgets/controls",
            "_model_module_version": "1.5.0",
            "value": " 44.7M/44.7M [06:03&lt;00:00, 129kB/s]",
            "_view_count": null,
            "_view_module_version": "1.5.0",
            "description_tooltip": null,
            "_model_module": "@jupyter-widgets/controls",
            "layout": "IPY_MODEL_52739649ea134682ab9af51342f67e38"
          }
        },
        "c0785af89d9e4ab1b7002b1effb04fe6": {
          "model_module": "@jupyter-widgets/controls",
          "model_name": "ProgressStyleModel",
          "state": {
            "_view_name": "StyleView",
            "_model_name": "ProgressStyleModel",
            "description_width": "initial",
            "_view_module": "@jupyter-widgets/base",
            "_model_module_version": "1.5.0",
            "_view_count": null,
            "_view_module_version": "1.2.0",
            "bar_color": null,
            "_model_module": "@jupyter-widgets/controls"
          }
        },
        "4f5bf9e072fa4deeb566c4a16d8a6f9f": {
          "model_module": "@jupyter-widgets/base",
          "model_name": "LayoutModel",
          "state": {
            "_view_name": "LayoutView",
            "grid_template_rows": null,
            "right": null,
            "justify_content": null,
            "_view_module": "@jupyter-widgets/base",
            "overflow": null,
            "_model_module_version": "1.2.0",
            "_view_count": null,
            "flex_flow": null,
            "width": null,
            "min_width": null,
            "border": null,
            "align_items": null,
            "bottom": null,
            "_model_module": "@jupyter-widgets/base",
            "top": null,
            "grid_column": null,
            "overflow_y": null,
            "overflow_x": null,
            "grid_auto_flow": null,
            "grid_area": null,
            "grid_template_columns": null,
            "flex": null,
            "_model_name": "LayoutModel",
            "justify_items": null,
            "grid_row": null,
            "max_height": null,
            "align_content": null,
            "visibility": null,
            "align_self": null,
            "height": null,
            "min_height": null,
            "padding": null,
            "grid_auto_rows": null,
            "grid_gap": null,
            "max_width": null,
            "order": null,
            "_view_module_version": "1.2.0",
            "grid_template_areas": null,
            "object_position": null,
            "object_fit": null,
            "grid_auto_columns": null,
            "margin": null,
            "display": null,
            "left": null
          }
        },
        "8a263710ab3847cdb191e35a8bb33b51": {
          "model_module": "@jupyter-widgets/controls",
          "model_name": "DescriptionStyleModel",
          "state": {
            "_view_name": "StyleView",
            "_model_name": "DescriptionStyleModel",
            "description_width": "",
            "_view_module": "@jupyter-widgets/base",
            "_model_module_version": "1.5.0",
            "_view_count": null,
            "_view_module_version": "1.2.0",
            "_model_module": "@jupyter-widgets/controls"
          }
        },
        "52739649ea134682ab9af51342f67e38": {
          "model_module": "@jupyter-widgets/base",
          "model_name": "LayoutModel",
          "state": {
            "_view_name": "LayoutView",
            "grid_template_rows": null,
            "right": null,
            "justify_content": null,
            "_view_module": "@jupyter-widgets/base",
            "overflow": null,
            "_model_module_version": "1.2.0",
            "_view_count": null,
            "flex_flow": null,
            "width": null,
            "min_width": null,
            "border": null,
            "align_items": null,
            "bottom": null,
            "_model_module": "@jupyter-widgets/base",
            "top": null,
            "grid_column": null,
            "overflow_y": null,
            "overflow_x": null,
            "grid_auto_flow": null,
            "grid_area": null,
            "grid_template_columns": null,
            "flex": null,
            "_model_name": "LayoutModel",
            "justify_items": null,
            "grid_row": null,
            "max_height": null,
            "align_content": null,
            "visibility": null,
            "align_self": null,
            "height": null,
            "min_height": null,
            "padding": null,
            "grid_auto_rows": null,
            "grid_gap": null,
            "max_width": null,
            "order": null,
            "_view_module_version": "1.2.0",
            "grid_template_areas": null,
            "object_position": null,
            "object_fit": null,
            "grid_auto_columns": null,
            "margin": null,
            "display": null,
            "left": null
          }
        },
        "52c3066a41244b74b34ec6ae7c247043": {
          "model_module": "@jupyter-widgets/controls",
          "model_name": "FileUploadModel",
          "state": {
            "_view_name": "FileUploadView",
            "_counter": 1,
            "style": "IPY_MODEL_c256d28433b84f75b6c29d3cc82b3915",
            "_dom_classes": [],
            "description": "Upload",
            "multiple": false,
            "_model_name": "FileUploadModel",
            "data": [
              null
            ],
            "button_style": "",
            "_view_module": "@jupyter-widgets/controls",
            "_model_module_version": "1.5.0",
            "accept": "",
            "_view_count": null,
            "disabled": false,
            "_view_module_version": "1.5.0",
            "error": "",
            "description_tooltip": null,
            "metadata": [
              {
                "name": "bear5.jpg",
                "type": "image/jpeg",
                "size": 9879,
                "lastModified": 1619209476825
              }
            ],
            "_model_module": "@jupyter-widgets/controls",
            "layout": "IPY_MODEL_78d8bea1402a41c98c26683f9169ee80",
            "icon": "upload"
          }
        },
        "c256d28433b84f75b6c29d3cc82b3915": {
          "model_module": "@jupyter-widgets/controls",
          "model_name": "ButtonStyleModel",
          "state": {
            "_view_name": "StyleView",
            "_model_name": "ButtonStyleModel",
            "_view_module": "@jupyter-widgets/base",
            "_model_module_version": "1.5.0",
            "_view_count": null,
            "button_color": null,
            "font_weight": "",
            "_view_module_version": "1.2.0",
            "_model_module": "@jupyter-widgets/controls"
          }
        },
        "78d8bea1402a41c98c26683f9169ee80": {
          "model_module": "@jupyter-widgets/base",
          "model_name": "LayoutModel",
          "state": {
            "_view_name": "LayoutView",
            "grid_template_rows": null,
            "right": null,
            "justify_content": null,
            "_view_module": "@jupyter-widgets/base",
            "overflow": null,
            "_model_module_version": "1.2.0",
            "_view_count": null,
            "flex_flow": null,
            "width": null,
            "min_width": null,
            "border": null,
            "align_items": null,
            "bottom": null,
            "_model_module": "@jupyter-widgets/base",
            "top": null,
            "grid_column": null,
            "overflow_y": null,
            "overflow_x": null,
            "grid_auto_flow": null,
            "grid_area": null,
            "grid_template_columns": null,
            "flex": null,
            "_model_name": "LayoutModel",
            "justify_items": null,
            "grid_row": null,
            "max_height": null,
            "align_content": null,
            "visibility": null,
            "align_self": null,
            "height": null,
            "min_height": null,
            "padding": null,
            "grid_auto_rows": null,
            "grid_gap": null,
            "max_width": null,
            "order": null,
            "_view_module_version": "1.2.0",
            "grid_template_areas": null,
            "object_position": null,
            "object_fit": null,
            "grid_auto_columns": null,
            "margin": null,
            "display": null,
            "left": null
          }
        },
        "9a0a2fd3ff7b43e1a43ac6cb9af989ba": {
          "model_module": "@jupyter-widgets/output",
          "model_name": "OutputModel",
          "state": {
            "_view_name": "OutputView",
            "msg_id": "",
            "_dom_classes": [],
            "_model_name": "OutputModel",
            "outputs": [
              {
                "output_type": "display_data",
                "metadata": {
                  "tags": []
                },
                "image/png": "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\n",
                "text/plain": "<PIL.Image.Image image mode=RGB size=128x64 at 0x7F63AA194550>"
              }
            ],
            "_view_module": "@jupyter-widgets/output",
            "_model_module_version": "1.0.0",
            "_view_count": null,
            "_view_module_version": "1.0.0",
            "layout": "IPY_MODEL_f06f1ca88a8248e38d225ca958cbd908",
            "_model_module": "@jupyter-widgets/output"
          }
        },
        "f06f1ca88a8248e38d225ca958cbd908": {
          "model_module": "@jupyter-widgets/base",
          "model_name": "LayoutModel",
          "state": {
            "_view_name": "LayoutView",
            "grid_template_rows": null,
            "right": null,
            "justify_content": null,
            "_view_module": "@jupyter-widgets/base",
            "overflow": null,
            "_model_module_version": "1.2.0",
            "_view_count": null,
            "flex_flow": null,
            "width": null,
            "min_width": null,
            "border": null,
            "align_items": null,
            "bottom": null,
            "_model_module": "@jupyter-widgets/base",
            "top": null,
            "grid_column": null,
            "overflow_y": null,
            "overflow_x": null,
            "grid_auto_flow": null,
            "grid_area": null,
            "grid_template_columns": null,
            "flex": null,
            "_model_name": "LayoutModel",
            "justify_items": null,
            "grid_row": null,
            "max_height": null,
            "align_content": null,
            "visibility": null,
            "align_self": null,
            "height": null,
            "min_height": null,
            "padding": null,
            "grid_auto_rows": null,
            "grid_gap": null,
            "max_width": null,
            "order": null,
            "_view_module_version": "1.2.0",
            "grid_template_areas": null,
            "object_position": null,
            "object_fit": null,
            "grid_auto_columns": null,
            "margin": null,
            "display": null,
            "left": null
          }
        },
        "181e33188d624d87a75ea04ae1e5e195": {
          "model_module": "@jupyter-widgets/controls",
          "model_name": "LabelModel",
          "state": {
            "_view_name": "LabelView",
            "style": "IPY_MODEL_f6f42e2d26784b88bbc2104aa39c05cd",
            "_dom_classes": [],
            "description": "",
            "_model_name": "LabelModel",
            "placeholder": "​",
            "_view_module": "@jupyter-widgets/controls",
            "_model_module_version": "1.5.0",
            "value": "Prediction: teddy; Probability: 0.9492",
            "_view_count": null,
            "_view_module_version": "1.5.0",
            "description_tooltip": null,
            "_model_module": "@jupyter-widgets/controls",
            "layout": "IPY_MODEL_67a2db1bf1244d94b3c9e8ec8f935de3"
          }
        },
        "f6f42e2d26784b88bbc2104aa39c05cd": {
          "model_module": "@jupyter-widgets/controls",
          "model_name": "DescriptionStyleModel",
          "state": {
            "_view_name": "StyleView",
            "_model_name": "DescriptionStyleModel",
            "description_width": "",
            "_view_module": "@jupyter-widgets/base",
            "_model_module_version": "1.5.0",
            "_view_count": null,
            "_view_module_version": "1.2.0",
            "_model_module": "@jupyter-widgets/controls"
          }
        },
        "67a2db1bf1244d94b3c9e8ec8f935de3": {
          "model_module": "@jupyter-widgets/base",
          "model_name": "LayoutModel",
          "state": {
            "_view_name": "LayoutView",
            "grid_template_rows": null,
            "right": null,
            "justify_content": null,
            "_view_module": "@jupyter-widgets/base",
            "overflow": null,
            "_model_module_version": "1.2.0",
            "_view_count": null,
            "flex_flow": null,
            "width": null,
            "min_width": null,
            "border": null,
            "align_items": null,
            "bottom": null,
            "_model_module": "@jupyter-widgets/base",
            "top": null,
            "grid_column": null,
            "overflow_y": null,
            "overflow_x": null,
            "grid_auto_flow": null,
            "grid_area": null,
            "grid_template_columns": null,
            "flex": null,
            "_model_name": "LayoutModel",
            "justify_items": null,
            "grid_row": null,
            "max_height": null,
            "align_content": null,
            "visibility": null,
            "align_self": null,
            "height": null,
            "min_height": null,
            "padding": null,
            "grid_auto_rows": null,
            "grid_gap": null,
            "max_width": null,
            "order": null,
            "_view_module_version": "1.2.0",
            "grid_template_areas": null,
            "object_position": null,
            "object_fit": null,
            "grid_auto_columns": null,
            "margin": null,
            "display": null,
            "left": null
          }
        },
        "a1ad458a8d4d40c8a8c9e5dc4b41864f": {
          "model_module": "@jupyter-widgets/controls",
          "model_name": "ButtonModel",
          "state": {
            "_view_name": "ButtonView",
            "style": "IPY_MODEL_c948adcc712649fb94a22722d892017a",
            "_dom_classes": [],
            "description": "Classify",
            "_model_name": "ButtonModel",
            "button_style": "",
            "_view_module": "@jupyter-widgets/controls",
            "_model_module_version": "1.5.0",
            "tooltip": "",
            "_view_count": null,
            "disabled": false,
            "_view_module_version": "1.5.0",
            "layout": "IPY_MODEL_c4627ec051b64f00afe1699665c21428",
            "_model_module": "@jupyter-widgets/controls",
            "icon": ""
          }
        },
        "c948adcc712649fb94a22722d892017a": {
          "model_module": "@jupyter-widgets/controls",
          "model_name": "ButtonStyleModel",
          "state": {
            "_view_name": "StyleView",
            "_model_name": "ButtonStyleModel",
            "_view_module": "@jupyter-widgets/base",
            "_model_module_version": "1.5.0",
            "_view_count": null,
            "button_color": null,
            "font_weight": "",
            "_view_module_version": "1.2.0",
            "_model_module": "@jupyter-widgets/controls"
          }
        },
        "c4627ec051b64f00afe1699665c21428": {
          "model_module": "@jupyter-widgets/base",
          "model_name": "LayoutModel",
          "state": {
            "_view_name": "LayoutView",
            "grid_template_rows": null,
            "right": null,
            "justify_content": null,
            "_view_module": "@jupyter-widgets/base",
            "overflow": null,
            "_model_module_version": "1.2.0",
            "_view_count": null,
            "flex_flow": null,
            "width": null,
            "min_width": null,
            "border": null,
            "align_items": null,
            "bottom": null,
            "_model_module": "@jupyter-widgets/base",
            "top": null,
            "grid_column": null,
            "overflow_y": null,
            "overflow_x": null,
            "grid_auto_flow": null,
            "grid_area": null,
            "grid_template_columns": null,
            "flex": null,
            "_model_name": "LayoutModel",
            "justify_items": null,
            "grid_row": null,
            "max_height": null,
            "align_content": null,
            "visibility": null,
            "align_self": null,
            "height": null,
            "min_height": null,
            "padding": null,
            "grid_auto_rows": null,
            "grid_gap": null,
            "max_width": null,
            "order": null,
            "_view_module_version": "1.2.0",
            "grid_template_areas": null,
            "object_position": null,
            "object_fit": null,
            "grid_auto_columns": null,
            "margin": null,
            "display": null,
            "left": null
          }
        },
        "7187e9beeef54e4d8e196726310fa144": {
          "model_module": "@jupyter-widgets/controls",
          "model_name": "VBoxModel",
          "state": {
            "_view_name": "VBoxView",
            "_dom_classes": [],
            "_model_name": "VBoxModel",
            "_view_module": "@jupyter-widgets/controls",
            "_model_module_version": "1.5.0",
            "_view_count": null,
            "_view_module_version": "1.5.0",
            "box_style": "",
            "layout": "IPY_MODEL_27a2a1bc9fe24b8886454b925eac66a0",
            "_model_module": "@jupyter-widgets/controls",
            "children": [
              "IPY_MODEL_fd4a0c00ad47470f9a0be12f80a52d2d",
              "IPY_MODEL_215c3adb46024726a87cdc6127f02566",
              "IPY_MODEL_a1ad458a8d4d40c8a8c9e5dc4b41864f",
              "IPY_MODEL_9a0a2fd3ff7b43e1a43ac6cb9af989ba",
              "IPY_MODEL_181e33188d624d87a75ea04ae1e5e195"
            ]
          }
        },
        "27a2a1bc9fe24b8886454b925eac66a0": {
          "model_module": "@jupyter-widgets/base",
          "model_name": "LayoutModel",
          "state": {
            "_view_name": "LayoutView",
            "grid_template_rows": null,
            "right": null,
            "justify_content": null,
            "_view_module": "@jupyter-widgets/base",
            "overflow": null,
            "_model_module_version": "1.2.0",
            "_view_count": null,
            "flex_flow": null,
            "width": null,
            "min_width": null,
            "border": null,
            "align_items": null,
            "bottom": null,
            "_model_module": "@jupyter-widgets/base",
            "top": null,
            "grid_column": null,
            "overflow_y": null,
            "overflow_x": null,
            "grid_auto_flow": null,
            "grid_area": null,
            "grid_template_columns": null,
            "flex": null,
            "_model_name": "LayoutModel",
            "justify_items": null,
            "grid_row": null,
            "max_height": null,
            "align_content": null,
            "visibility": null,
            "align_self": null,
            "height": null,
            "min_height": null,
            "padding": null,
            "grid_auto_rows": null,
            "grid_gap": null,
            "max_width": null,
            "order": null,
            "_view_module_version": "1.2.0",
            "grid_template_areas": null,
            "object_position": null,
            "object_fit": null,
            "grid_auto_columns": null,
            "margin": null,
            "display": null,
            "left": null
          }
        },
        "fd4a0c00ad47470f9a0be12f80a52d2d": {
          "model_module": "@jupyter-widgets/controls",
          "model_name": "LabelModel",
          "state": {
            "_view_name": "LabelView",
            "style": "IPY_MODEL_61398aaf9eb54e318002b37afb88e0dd",
            "_dom_classes": [],
            "description": "",
            "_model_name": "LabelModel",
            "placeholder": "​",
            "_view_module": "@jupyter-widgets/controls",
            "_model_module_version": "1.5.0",
            "value": "Select your bear!",
            "_view_count": null,
            "_view_module_version": "1.5.0",
            "description_tooltip": null,
            "_model_module": "@jupyter-widgets/controls",
            "layout": "IPY_MODEL_1db3fc05b78e44d08a2e77ec888b8168"
          }
        },
        "215c3adb46024726a87cdc6127f02566": {
          "model_module": "@jupyter-widgets/controls",
          "model_name": "FileUploadModel",
          "state": {
            "_view_name": "FileUploadView",
            "_counter": 3,
            "style": "IPY_MODEL_dfb517a33b6d47f987e8b1582a57d5b6",
            "_dom_classes": [],
            "description": "Upload",
            "multiple": false,
            "_model_name": "FileUploadModel",
            "data": [
              null
            ],
            "button_style": "",
            "_view_module": "@jupyter-widgets/controls",
            "_model_module_version": "1.5.0",
            "accept": "",
            "_view_count": null,
            "disabled": false,
            "_view_module_version": "1.5.0",
            "error": "",
            "description_tooltip": null,
            "metadata": [
              {
                "name": "dog.jpg",
                "type": "image/jpeg",
                "size": 6341,
                "lastModified": 1618969774761
              }
            ],
            "_model_module": "@jupyter-widgets/controls",
            "layout": "IPY_MODEL_c0f9d1d137b044608df6bab41bc599eb",
            "icon": "upload"
          }
        },
        "61398aaf9eb54e318002b37afb88e0dd": {
          "model_module": "@jupyter-widgets/controls",
          "model_name": "DescriptionStyleModel",
          "state": {
            "_view_name": "StyleView",
            "_model_name": "DescriptionStyleModel",
            "description_width": "",
            "_view_module": "@jupyter-widgets/base",
            "_model_module_version": "1.5.0",
            "_view_count": null,
            "_view_module_version": "1.2.0",
            "_model_module": "@jupyter-widgets/controls"
          }
        },
        "1db3fc05b78e44d08a2e77ec888b8168": {
          "model_module": "@jupyter-widgets/base",
          "model_name": "LayoutModel",
          "state": {
            "_view_name": "LayoutView",
            "grid_template_rows": null,
            "right": null,
            "justify_content": null,
            "_view_module": "@jupyter-widgets/base",
            "overflow": null,
            "_model_module_version": "1.2.0",
            "_view_count": null,
            "flex_flow": null,
            "width": null,
            "min_width": null,
            "border": null,
            "align_items": null,
            "bottom": null,
            "_model_module": "@jupyter-widgets/base",
            "top": null,
            "grid_column": null,
            "overflow_y": null,
            "overflow_x": null,
            "grid_auto_flow": null,
            "grid_area": null,
            "grid_template_columns": null,
            "flex": null,
            "_model_name": "LayoutModel",
            "justify_items": null,
            "grid_row": null,
            "max_height": null,
            "align_content": null,
            "visibility": null,
            "align_self": null,
            "height": null,
            "min_height": null,
            "padding": null,
            "grid_auto_rows": null,
            "grid_gap": null,
            "max_width": null,
            "order": null,
            "_view_module_version": "1.2.0",
            "grid_template_areas": null,
            "object_position": null,
            "object_fit": null,
            "grid_auto_columns": null,
            "margin": null,
            "display": null,
            "left": null
          }
        },
        "dfb517a33b6d47f987e8b1582a57d5b6": {
          "model_module": "@jupyter-widgets/controls",
          "model_name": "ButtonStyleModel",
          "state": {
            "_view_name": "StyleView",
            "_model_name": "ButtonStyleModel",
            "_view_module": "@jupyter-widgets/base",
            "_model_module_version": "1.5.0",
            "_view_count": null,
            "button_color": null,
            "font_weight": "",
            "_view_module_version": "1.2.0",
            "_model_module": "@jupyter-widgets/controls"
          }
        },
        "c0f9d1d137b044608df6bab41bc599eb": {
          "model_module": "@jupyter-widgets/base",
          "model_name": "LayoutModel",
          "state": {
            "_view_name": "LayoutView",
            "grid_template_rows": null,
            "right": null,
            "justify_content": null,
            "_view_module": "@jupyter-widgets/base",
            "overflow": null,
            "_model_module_version": "1.2.0",
            "_view_count": null,
            "flex_flow": null,
            "width": null,
            "min_width": null,
            "border": null,
            "align_items": null,
            "bottom": null,
            "_model_module": "@jupyter-widgets/base",
            "top": null,
            "grid_column": null,
            "overflow_y": null,
            "overflow_x": null,
            "grid_auto_flow": null,
            "grid_area": null,
            "grid_template_columns": null,
            "flex": null,
            "_model_name": "LayoutModel",
            "justify_items": null,
            "grid_row": null,
            "max_height": null,
            "align_content": null,
            "visibility": null,
            "align_self": null,
            "height": null,
            "min_height": null,
            "padding": null,
            "grid_auto_rows": null,
            "grid_gap": null,
            "max_width": null,
            "order": null,
            "_view_module_version": "1.2.0",
            "grid_template_areas": null,
            "object_position": null,
            "object_fit": null,
            "grid_auto_columns": null,
            "margin": null,
            "display": null,
            "left": null
          }
        }
      }
    }
  },
  "cells": [
    {
      "cell_type": "markdown",
      "metadata": {
        "id": "view-in-github",
        "colab_type": "text"
      },
      "source": [
        "<a href=\"https://colab.research.google.com/github/mazon1/Voilabear/blob/main/Viola_Copy_of_Fast_AI02_production.ipynb\" target=\"_parent\"><img src=\"https://colab.research.google.com/assets/colab-badge.svg\" alt=\"Open In Colab\"/></a>"
      ]
    },
    {
      "cell_type": "code",
      "metadata": {
        "id": "DRCnNj_0WzJv"
      },
      "source": [
        "#hide\n",
        "!pip install -Uqq fastbook\n",
        "import fastbook\n",
        "fastbook.setup_book()"
      ],
      "execution_count": null,
      "outputs": []
    },
    {
      "cell_type": "code",
      "metadata": {
        "id": "yOiWbxQlWEIS"
      },
      "source": [
        "#hide\n",
        "from fastbook import *\n",
        "from fastai.vision.widgets import *"
      ],
      "execution_count": null,
      "outputs": []
    },
    {
      "cell_type": "code",
      "metadata": {
        "colab": {
          "base_uri": "https://localhost:8080/"
        },
        "id": "r6decsa6ca3v",
        "outputId": "c4aceb01-ef8b-47af-da00-e6c5fa74e894"
      },
      "source": [
        "#hide\n",
        "!pip install -Uqq fastbook\n",
        "import fastbook\n",
        "fastbook.setup_book()"
      ],
      "execution_count": 1,
      "outputs": [
        {
          "output_type": "stream",
          "text": [
            "\u001b[K     |████████████████████████████████| 727kB 5.8MB/s \n",
            "\u001b[K     |████████████████████████████████| 194kB 7.7MB/s \n",
            "\u001b[K     |████████████████████████████████| 1.2MB 10.6MB/s \n",
            "\u001b[K     |████████████████████████████████| 51kB 4.5MB/s \n",
            "\u001b[K     |████████████████████████████████| 12.8MB 279kB/s \n",
            "\u001b[K     |████████████████████████████████| 776.8MB 23kB/s \n",
            "\u001b[K     |████████████████████████████████| 61kB 5.6MB/s \n",
            "\u001b[K     |████████████████████████████████| 51kB 5.3MB/s \n",
            "\u001b[31mERROR: torchtext 0.9.1 has requirement torch==1.8.1, but you'll have torch 1.7.1 which is incompatible.\u001b[0m\n",
            "\u001b[?25hMounted at /content/gdrive\n"
          ],
          "name": "stdout"
        }
      ]
    },
    {
      "cell_type": "code",
      "metadata": {
        "id": "9DG3FYnBdKO8"
      },
      "source": [
        "#hide\n",
        "from fastbook import *\n",
        "from fastai.vision.widgets import *"
      ],
      "execution_count": 2,
      "outputs": []
    },
    {
      "cell_type": "markdown",
      "metadata": {
        "id": "2rdX6r3RbGyD"
      },
      "source": [
        "# Alternatively, Install the Bing Image Downloader"
      ]
    },
    {
      "cell_type": "code",
      "metadata": {
        "colab": {
          "base_uri": "https://localhost:8080/"
        },
        "id": "YgigORQVYFK_",
        "outputId": "144914b5-071f-4dbe-d348-ea65ff4a704a"
      },
      "source": [
        "pip install bing-image-downloader"
      ],
      "execution_count": 3,
      "outputs": [
        {
          "output_type": "stream",
          "text": [
            "Collecting bing-image-downloader\n",
            "  Downloading https://files.pythonhosted.org/packages/0d/bf/537a61030b84ae4cd5022d5c7b014fd9bc3ce7c02358919153a6658a61d3/bing_image_downloader-1.0.4-py3-none-any.whl\n",
            "Installing collected packages: bing-image-downloader\n",
            "Successfully installed bing-image-downloader-1.0.4\n"
          ],
          "name": "stdout"
        }
      ]
    },
    {
      "cell_type": "code",
      "metadata": {
        "id": "WuNfG2RfYxBh"
      },
      "source": [
        "from bing_image_downloader import downloader \n"
      ],
      "execution_count": 4,
      "outputs": []
    },
    {
      "cell_type": "markdown",
      "metadata": {
        "id": "5xcrtUKWa1Um"
      },
      "source": [
        "Note if you copied and pasted this code, you will need to retype the quotation marks \"\" and ''"
      ]
    },
    {
      "cell_type": "code",
      "metadata": {
        "colab": {
          "base_uri": "https://localhost:8080/"
        },
        "id": "I83TvZ4oZNou",
        "outputId": "35d60bec-7265-49ab-e945-6d196700961d"
      },
      "source": [
        "# forced limit to 150 images\n",
        "for q in [\"grizzly bear\",\"black bear\",\"teddy\"]: \n",
        "  downloader.download(q, limit=150, output_dir='bears', adult_filter_off=True, force_replace=False, timeout=5)"
      ],
      "execution_count": 5,
      "outputs": [
        {
          "output_type": "stream",
          "text": [
            "\n",
            "\n",
            "[!!]Indexing page: 1\n",
            "\n",
            "[%] Indexed 12 Images on Page 1.\n",
            "\n",
            "===============================================\n",
            "\n",
            "[%] Downloading Image #1 from https://rlmillerphoto.com/wp-content/uploads/2013/09/Glacier-National-Park-Grizzly-Bear.jpg\n",
            "[%] File Downloaded !\n",
            "\n",
            "[%] Downloading Image #2 from http://www.funnyalltime.com/wp-content/uploads/2012/09/crazy-roads-in-the-world-7.jpg\n",
            "[%] File Downloaded !\n",
            "\n",
            "[%] Downloading Image #3 from https://i.pinimg.com/736x/d5/3d/51/d53d51d9913a26f769a2b041e87375ce--hairy-cactus-grizzly-bear.jpg\n",
            "[%] File Downloaded !\n",
            "\n",
            "[%] Downloading Image #4 from https://www.schultzphoto.com/wp-content/uploads/2016/11/160917-5M8461.jpg\n",
            "[%] File Downloaded !\n",
            "\n",
            "[%] Downloading Image #5 from http://www.skolaiimages.com/journal/wp-content/uploads/2011/12/10_JUL1894.jpg\n",
            "[%] File Downloaded !\n",
            "\n",
            "[%] Downloading Image #6 from http://www.thecountryworkshop.com/i/Chaisaw carving/BEARS_4-07-08_003.jpg\n",
            "[!] Issue getting: http://www.thecountryworkshop.com/i/Chaisaw carving/BEARS_4-07-08_003.jpg\n",
            "[!] Error:: URL can't contain control characters. '/i/Chaisaw carving/BEARS_4-07-08_003.jpg' (found at least ' ')\n",
            "[%] Downloading Image #6 from https://s1.ibtimes.com/sites/www.ibtimes.com/files/styles/full/public/2012/10/03/2011/07/24/136818-deadly-bear-mauls-alaskan-teens-plus-20-horrific-animal-attacks-photos.jpg\n",
            "[%] File Downloaded !\n",
            "\n",
            "[%] Downloading Image #7 from https://www.distinctlymontana.com/sites/default/files/2020-08/runningbear2.jpg\n",
            "[%] File Downloaded !\n",
            "\n",
            "[%] Downloading Image #8 from https://defenders.org/sites/default/files/styles/meta_image/public/mariana-crow-emily-weiser.jpg?itok=dtXAdv9g\n",
            "[%] File Downloaded !\n",
            "\n",
            "[%] Downloading Image #9 from http://www.shakahariblog.com/wp-content/uploads/2014/06/African-Lion.jpg\n",
            "[%] File Downloaded !\n",
            "\n",
            "[%] Downloading Image #10 from https://vignette.wikia.nocookie.net/bakugan/images/3/33/Ventus_Boxer_and_Darkus_Grizzly_fight.png/revision/latest/zoom-crop/width/480/height/480?cb=20200430082223\n",
            "[%] File Downloaded !\n",
            "\n",
            "[%] Downloading Image #11 from http://www.outthereimages.com/blog/wp-content/uploads/2010/04/hagen_100408_1172_silverfox.jpg\n",
            "[%] File Downloaded !\n",
            "\n",
            "\n",
            "\n",
            "[!!]Indexing page: 2\n",
            "\n",
            "[%] Indexed 12 Images on Page 2.\n",
            "\n",
            "===============================================\n",
            "\n",
            "[%] Downloading Image #12 from https://rlmillerphoto.com/wp-content/uploads/2013/09/Glacier-National-Park-Grizzly-Bear.jpg\n",
            "[%] File Downloaded !\n",
            "\n",
            "[%] Downloading Image #13 from http://www.funnyalltime.com/wp-content/uploads/2012/09/crazy-roads-in-the-world-7.jpg\n",
            "[%] File Downloaded !\n",
            "\n",
            "[%] Downloading Image #14 from https://i.pinimg.com/736x/d5/3d/51/d53d51d9913a26f769a2b041e87375ce--hairy-cactus-grizzly-bear.jpg\n",
            "[%] File Downloaded !\n",
            "\n",
            "[%] Downloading Image #15 from https://www.schultzphoto.com/wp-content/uploads/2016/11/160917-5M8461.jpg\n",
            "[%] File Downloaded !\n",
            "\n",
            "[%] Downloading Image #16 from http://www.skolaiimages.com/journal/wp-content/uploads/2011/12/10_JUL1894.jpg\n",
            "[%] File Downloaded !\n",
            "\n",
            "[%] Downloading Image #17 from http://www.thecountryworkshop.com/i/Chaisaw carving/BEARS_4-07-08_003.jpg\n",
            "[!] Issue getting: http://www.thecountryworkshop.com/i/Chaisaw carving/BEARS_4-07-08_003.jpg\n",
            "[!] Error:: URL can't contain control characters. '/i/Chaisaw carving/BEARS_4-07-08_003.jpg' (found at least ' ')\n",
            "[%] Downloading Image #17 from https://s1.ibtimes.com/sites/www.ibtimes.com/files/styles/full/public/2012/10/03/2011/07/24/136818-deadly-bear-mauls-alaskan-teens-plus-20-horrific-animal-attacks-photos.jpg\n",
            "[%] File Downloaded !\n",
            "\n",
            "[%] Downloading Image #18 from https://www.distinctlymontana.com/sites/default/files/2020-08/runningbear2.jpg\n",
            "[%] File Downloaded !\n",
            "\n",
            "[%] Downloading Image #19 from https://defenders.org/sites/default/files/styles/meta_image/public/mariana-crow-emily-weiser.jpg?itok=dtXAdv9g\n",
            "[%] File Downloaded !\n",
            "\n",
            "[%] Downloading Image #20 from http://www.shakahariblog.com/wp-content/uploads/2014/06/African-Lion.jpg\n",
            "[%] File Downloaded !\n",
            "\n",
            "[%] Downloading Image #21 from https://vignette.wikia.nocookie.net/bakugan/images/3/33/Ventus_Boxer_and_Darkus_Grizzly_fight.png/revision/latest/zoom-crop/width/480/height/480?cb=20200430082223\n",
            "[%] File Downloaded !\n",
            "\n",
            "[%] Downloading Image #22 from http://www.outthereimages.com/blog/wp-content/uploads/2010/04/hagen_100408_1172_silverfox.jpg\n",
            "[%] File Downloaded !\n",
            "\n",
            "\n",
            "\n",
            "[!!]Indexing page: 3\n",
            "\n",
            "[%] Indexed 11 Images on Page 3.\n",
            "\n",
            "===============================================\n",
            "\n",
            "[%] Downloading Image #23 from https://i.pinimg.com/736x/d5/3d/51/d53d51d9913a26f769a2b041e87375ce--hairy-cactus-grizzly-bear.jpg\n",
            "[%] File Downloaded !\n",
            "\n",
            "[%] Downloading Image #24 from https://www.schultzphoto.com/wp-content/uploads/2016/11/160917-5M8461.jpg\n",
            "[%] File Downloaded !\n",
            "\n",
            "[%] Downloading Image #25 from http://www.skolaiimages.com/journal/wp-content/uploads/2011/12/10_JUL1894.jpg\n",
            "[%] File Downloaded !\n",
            "\n",
            "[%] Downloading Image #26 from http://www.thecountryworkshop.com/i/Chaisaw carving/BEARS_4-07-08_003.jpg\n",
            "[!] Issue getting: http://www.thecountryworkshop.com/i/Chaisaw carving/BEARS_4-07-08_003.jpg\n",
            "[!] Error:: URL can't contain control characters. '/i/Chaisaw carving/BEARS_4-07-08_003.jpg' (found at least ' ')\n",
            "[%] Downloading Image #26 from https://s1.ibtimes.com/sites/www.ibtimes.com/files/styles/full/public/2012/10/03/2011/07/24/136818-deadly-bear-mauls-alaskan-teens-plus-20-horrific-animal-attacks-photos.jpg\n",
            "[%] File Downloaded !\n",
            "\n",
            "[%] Downloading Image #27 from http://www.outthereimages.com/blog/wp-content/uploads/2010/04/hagen_100408_1172_silverfox.jpg\n",
            "[%] File Downloaded !\n",
            "\n",
            "[%] Downloading Image #28 from http://www.funnyalltime.com/wp-content/uploads/2012/09/crazy-roads-in-the-world-7.jpg\n",
            "[%] File Downloaded !\n",
            "\n",
            "[%] Downloading Image #29 from https://vignette.wikia.nocookie.net/bakugan/images/3/33/Ventus_Boxer_and_Darkus_Grizzly_fight.png/revision/latest/zoom-crop/width/480/height/480?cb=20200430082223\n",
            "[%] File Downloaded !\n",
            "\n",
            "[%] Downloading Image #30 from https://defenders.org/sites/default/files/styles/meta_image/public/mariana-crow-emily-weiser.jpg?itok=dtXAdv9g\n",
            "[%] File Downloaded !\n",
            "\n",
            "[%] Downloading Image #31 from http://www.shakahariblog.com/wp-content/uploads/2014/06/African-Lion.jpg\n",
            "[%] File Downloaded !\n",
            "\n",
            "[%] Downloading Image #32 from https://www.distinctlymontana.com/sites/default/files/2020-08/runningbear2.jpg\n",
            "[%] File Downloaded !\n",
            "\n",
            "\n",
            "\n",
            "[!!]Indexing page: 4\n",
            "\n",
            "[%] Indexed 10 Images on Page 4.\n",
            "\n",
            "===============================================\n",
            "\n",
            "[%] Downloading Image #33 from http://www.skolaiimages.com/journal/wp-content/uploads/2011/12/10_JUL1894.jpg\n",
            "[%] File Downloaded !\n",
            "\n",
            "[%] Downloading Image #34 from http://www.funnyalltime.com/wp-content/uploads/2012/09/crazy-roads-in-the-world-7.jpg\n",
            "[%] File Downloaded !\n",
            "\n",
            "[%] Downloading Image #35 from https://s1.ibtimes.com/sites/www.ibtimes.com/files/styles/full/public/2012/10/03/2011/07/24/136818-deadly-bear-mauls-alaskan-teens-plus-20-horrific-animal-attacks-photos.jpg\n",
            "[%] File Downloaded !\n",
            "\n",
            "[%] Downloading Image #36 from https://defenders.org/sites/default/files/styles/meta_image/public/mariana-crow-emily-weiser.jpg?itok=dtXAdv9g\n",
            "[%] File Downloaded !\n",
            "\n",
            "[%] Downloading Image #37 from http://www.thecountryworkshop.com/i/Chaisaw carving/BEARS_4-07-08_003.jpg\n",
            "[!] Issue getting: http://www.thecountryworkshop.com/i/Chaisaw carving/BEARS_4-07-08_003.jpg\n",
            "[!] Error:: URL can't contain control characters. '/i/Chaisaw carving/BEARS_4-07-08_003.jpg' (found at least ' ')\n",
            "[%] Downloading Image #37 from https://vignette.wikia.nocookie.net/bakugan/images/3/33/Ventus_Boxer_and_Darkus_Grizzly_fight.png/revision/latest/zoom-crop/width/480/height/480?cb=20200430082223\n",
            "[%] File Downloaded !\n",
            "\n",
            "[%] Downloading Image #38 from https://www.schultzphoto.com/wp-content/uploads/2016/11/160917-5M8461.jpg\n",
            "[%] File Downloaded !\n",
            "\n",
            "[%] Downloading Image #39 from https://www.distinctlymontana.com/sites/default/files/2020-08/runningbear2.jpg\n",
            "[%] File Downloaded !\n",
            "\n",
            "[%] Downloading Image #40 from http://www.outthereimages.com/blog/wp-content/uploads/2010/04/hagen_100408_1172_silverfox.jpg\n",
            "[%] File Downloaded !\n",
            "\n",
            "[%] Downloading Image #41 from http://www.shakahariblog.com/wp-content/uploads/2014/06/African-Lion.jpg\n",
            "[%] File Downloaded !\n",
            "\n",
            "\n",
            "\n",
            "[!!]Indexing page: 5\n",
            "\n",
            "[%] Indexed 9 Images on Page 5.\n",
            "\n",
            "===============================================\n",
            "\n",
            "[%] Downloading Image #42 from https://s1.ibtimes.com/sites/www.ibtimes.com/files/styles/full/public/2012/10/03/2011/07/24/136818-deadly-bear-mauls-alaskan-teens-plus-20-horrific-animal-attacks-photos.jpg\n",
            "[%] File Downloaded !\n",
            "\n",
            "[%] Downloading Image #43 from https://vignette.wikia.nocookie.net/bakugan/images/3/33/Ventus_Boxer_and_Darkus_Grizzly_fight.png/revision/latest/zoom-crop/width/480/height/480?cb=20200430082223\n",
            "[%] File Downloaded !\n",
            "\n",
            "[%] Downloading Image #44 from https://www.distinctlymontana.com/sites/default/files/2020-08/runningbear2.jpg\n",
            "[%] File Downloaded !\n",
            "\n",
            "[%] Downloading Image #45 from http://www.outthereimages.com/blog/wp-content/uploads/2010/04/hagen_100408_1172_silverfox.jpg\n",
            "[%] File Downloaded !\n",
            "\n",
            "[%] Downloading Image #46 from https://defenders.org/sites/default/files/styles/meta_image/public/mariana-crow-emily-weiser.jpg?itok=dtXAdv9g\n",
            "[%] File Downloaded !\n",
            "\n",
            "[%] Downloading Image #47 from https://www.schultzphoto.com/wp-content/uploads/2016/11/160917-5M8461.jpg\n",
            "[%] File Downloaded !\n",
            "\n",
            "[%] Downloading Image #48 from http://www.thecountryworkshop.com/i/Chaisaw carving/BEARS_4-07-08_003.jpg\n",
            "[!] Issue getting: http://www.thecountryworkshop.com/i/Chaisaw carving/BEARS_4-07-08_003.jpg\n",
            "[!] Error:: URL can't contain control characters. '/i/Chaisaw carving/BEARS_4-07-08_003.jpg' (found at least ' ')\n",
            "[%] Downloading Image #48 from http://www.shakahariblog.com/wp-content/uploads/2014/06/African-Lion.jpg\n",
            "[%] File Downloaded !\n",
            "\n",
            "[%] Downloading Image #49 from http://www.funnyalltime.com/wp-content/uploads/2012/09/crazy-roads-in-the-world-7.jpg\n",
            "[%] File Downloaded !\n",
            "\n",
            "\n",
            "\n",
            "[!!]Indexing page: 6\n",
            "\n",
            "[%] Indexed 8 Images on Page 6.\n",
            "\n",
            "===============================================\n",
            "\n",
            "[%] Downloading Image #50 from https://vignette.wikia.nocookie.net/bakugan/images/3/33/Ventus_Boxer_and_Darkus_Grizzly_fight.png/revision/latest/zoom-crop/width/480/height/480?cb=20200430082223\n",
            "[%] File Downloaded !\n",
            "\n",
            "[%] Downloading Image #51 from http://www.funnyalltime.com/wp-content/uploads/2012/09/crazy-roads-in-the-world-7.jpg\n",
            "[%] File Downloaded !\n",
            "\n",
            "[%] Downloading Image #52 from https://www.distinctlymontana.com/sites/default/files/2020-08/runningbear2.jpg\n",
            "[%] File Downloaded !\n",
            "\n",
            "[%] Downloading Image #53 from http://www.thecountryworkshop.com/i/Chaisaw carving/BEARS_4-07-08_003.jpg\n",
            "[!] Issue getting: http://www.thecountryworkshop.com/i/Chaisaw carving/BEARS_4-07-08_003.jpg\n",
            "[!] Error:: URL can't contain control characters. '/i/Chaisaw carving/BEARS_4-07-08_003.jpg' (found at least ' ')\n",
            "[%] Downloading Image #53 from http://www.outthereimages.com/blog/wp-content/uploads/2010/04/hagen_100408_1172_silverfox.jpg\n",
            "[%] File Downloaded !\n",
            "\n",
            "[%] Downloading Image #54 from https://defenders.org/sites/default/files/styles/meta_image/public/mariana-crow-emily-weiser.jpg?itok=dtXAdv9g\n",
            "[%] File Downloaded !\n",
            "\n",
            "[%] Downloading Image #55 from http://www.shakahariblog.com/wp-content/uploads/2014/06/African-Lion.jpg\n",
            "[%] File Downloaded !\n",
            "\n",
            "[%] Downloading Image #56 from https://www.schultzphoto.com/wp-content/uploads/2016/11/160917-5M8461.jpg\n",
            "[%] File Downloaded !\n",
            "\n",
            "\n",
            "\n",
            "[!!]Indexing page: 7\n",
            "\n",
            "[%] Indexed 7 Images on Page 7.\n",
            "\n",
            "===============================================\n",
            "\n",
            "[%] Downloading Image #57 from https://www.distinctlymontana.com/sites/default/files/2020-08/runningbear2.jpg\n",
            "[%] File Downloaded !\n",
            "\n",
            "[%] Downloading Image #58 from http://www.outthereimages.com/blog/wp-content/uploads/2010/04/hagen_100408_1172_silverfox.jpg\n",
            "[%] File Downloaded !\n",
            "\n",
            "[%] Downloading Image #59 from https://defenders.org/sites/default/files/styles/meta_image/public/mariana-crow-emily-weiser.jpg?itok=dtXAdv9g\n",
            "[%] File Downloaded !\n",
            "\n",
            "[%] Downloading Image #60 from http://www.shakahariblog.com/wp-content/uploads/2014/06/African-Lion.jpg\n",
            "[%] File Downloaded !\n",
            "\n",
            "[%] Downloading Image #61 from https://www.schultzphoto.com/wp-content/uploads/2016/11/160917-5M8461.jpg\n",
            "[%] File Downloaded !\n",
            "\n",
            "[%] Downloading Image #62 from http://www.thecountryworkshop.com/i/Chaisaw carving/BEARS_4-07-08_003.jpg\n",
            "[!] Issue getting: http://www.thecountryworkshop.com/i/Chaisaw carving/BEARS_4-07-08_003.jpg\n",
            "[!] Error:: URL can't contain control characters. '/i/Chaisaw carving/BEARS_4-07-08_003.jpg' (found at least ' ')\n",
            "[%] Downloading Image #62 from http://www.funnyalltime.com/wp-content/uploads/2012/09/crazy-roads-in-the-world-7.jpg\n",
            "[%] File Downloaded !\n",
            "\n",
            "\n",
            "\n",
            "[!!]Indexing page: 8\n",
            "\n",
            "[%] Indexed 6 Images on Page 8.\n",
            "\n",
            "===============================================\n",
            "\n",
            "[%] Downloading Image #63 from http://www.outthereimages.com/blog/wp-content/uploads/2010/04/hagen_100408_1172_silverfox.jpg\n",
            "[%] File Downloaded !\n",
            "\n",
            "[%] Downloading Image #64 from https://defenders.org/sites/default/files/styles/meta_image/public/mariana-crow-emily-weiser.jpg?itok=dtXAdv9g\n",
            "[%] File Downloaded !\n",
            "\n",
            "[%] Downloading Image #65 from https://www.schultzphoto.com/wp-content/uploads/2016/11/160917-5M8461.jpg\n",
            "[%] File Downloaded !\n",
            "\n",
            "[%] Downloading Image #66 from http://www.thecountryworkshop.com/i/Chaisaw carving/BEARS_4-07-08_003.jpg\n",
            "[!] Issue getting: http://www.thecountryworkshop.com/i/Chaisaw carving/BEARS_4-07-08_003.jpg\n",
            "[!] Error:: URL can't contain control characters. '/i/Chaisaw carving/BEARS_4-07-08_003.jpg' (found at least ' ')\n",
            "[%] Downloading Image #66 from http://www.shakahariblog.com/wp-content/uploads/2014/06/African-Lion.jpg\n",
            "[%] File Downloaded !\n",
            "\n",
            "[%] Downloading Image #67 from http://www.funnyalltime.com/wp-content/uploads/2012/09/crazy-roads-in-the-world-7.jpg\n",
            "[%] File Downloaded !\n",
            "\n",
            "\n",
            "\n",
            "[!!]Indexing page: 9\n",
            "\n",
            "[%] Indexed 5 Images on Page 9.\n",
            "\n",
            "===============================================\n",
            "\n",
            "[%] Downloading Image #68 from https://defenders.org/sites/default/files/styles/meta_image/public/mariana-crow-emily-weiser.jpg?itok=dtXAdv9g\n",
            "[%] File Downloaded !\n",
            "\n",
            "[%] Downloading Image #69 from https://www.schultzphoto.com/wp-content/uploads/2016/11/160917-5M8461.jpg\n",
            "[%] File Downloaded !\n",
            "\n",
            "[%] Downloading Image #70 from http://www.thecountryworkshop.com/i/Chaisaw carving/BEARS_4-07-08_003.jpg\n",
            "[!] Issue getting: http://www.thecountryworkshop.com/i/Chaisaw carving/BEARS_4-07-08_003.jpg\n",
            "[!] Error:: URL can't contain control characters. '/i/Chaisaw carving/BEARS_4-07-08_003.jpg' (found at least ' ')\n",
            "[%] Downloading Image #70 from http://www.shakahariblog.com/wp-content/uploads/2014/06/African-Lion.jpg\n",
            "[%] File Downloaded !\n",
            "\n",
            "[%] Downloading Image #71 from http://www.funnyalltime.com/wp-content/uploads/2012/09/crazy-roads-in-the-world-7.jpg\n",
            "[%] File Downloaded !\n",
            "\n",
            "\n",
            "\n",
            "[!!]Indexing page: 10\n",
            "\n",
            "[%] Indexed 4 Images on Page 10.\n",
            "\n",
            "===============================================\n",
            "\n",
            "[%] Downloading Image #72 from https://www.schultzphoto.com/wp-content/uploads/2016/11/160917-5M8461.jpg\n",
            "[%] File Downloaded !\n",
            "\n",
            "[%] Downloading Image #73 from http://www.thecountryworkshop.com/i/Chaisaw carving/BEARS_4-07-08_003.jpg\n",
            "[!] Issue getting: http://www.thecountryworkshop.com/i/Chaisaw carving/BEARS_4-07-08_003.jpg\n",
            "[!] Error:: URL can't contain control characters. '/i/Chaisaw carving/BEARS_4-07-08_003.jpg' (found at least ' ')\n",
            "[%] Downloading Image #73 from http://www.shakahariblog.com/wp-content/uploads/2014/06/African-Lion.jpg\n",
            "[%] File Downloaded !\n",
            "\n",
            "[%] Downloading Image #74 from http://www.funnyalltime.com/wp-content/uploads/2012/09/crazy-roads-in-the-world-7.jpg\n",
            "[%] File Downloaded !\n",
            "\n",
            "\n",
            "\n",
            "[!!]Indexing page: 11\n",
            "\n",
            "[%] Indexed 3 Images on Page 11.\n",
            "\n",
            "===============================================\n",
            "\n",
            "[%] Downloading Image #75 from http://www.thecountryworkshop.com/i/Chaisaw carving/BEARS_4-07-08_003.jpg\n",
            "[!] Issue getting: http://www.thecountryworkshop.com/i/Chaisaw carving/BEARS_4-07-08_003.jpg\n",
            "[!] Error:: URL can't contain control characters. '/i/Chaisaw carving/BEARS_4-07-08_003.jpg' (found at least ' ')\n",
            "[%] Downloading Image #75 from http://www.shakahariblog.com/wp-content/uploads/2014/06/African-Lion.jpg\n",
            "[%] File Downloaded !\n",
            "\n",
            "[%] Downloading Image #76 from http://www.funnyalltime.com/wp-content/uploads/2012/09/crazy-roads-in-the-world-7.jpg\n",
            "[%] File Downloaded !\n",
            "\n",
            "\n",
            "\n",
            "[!!]Indexing page: 12\n",
            "\n",
            "[%] Indexed 2 Images on Page 12.\n",
            "\n",
            "===============================================\n",
            "\n",
            "[%] Downloading Image #77 from http://www.shakahariblog.com/wp-content/uploads/2014/06/African-Lion.jpg\n",
            "[%] File Downloaded !\n",
            "\n",
            "[%] Downloading Image #78 from http://www.funnyalltime.com/wp-content/uploads/2012/09/crazy-roads-in-the-world-7.jpg\n",
            "[%] File Downloaded !\n",
            "\n",
            "\n",
            "\n",
            "[!!]Indexing page: 13\n",
            "\n",
            "[%] Indexed 1 Images on Page 13.\n",
            "\n",
            "===============================================\n",
            "\n",
            "[%] Downloading Image #79 from http://www.funnyalltime.com/wp-content/uploads/2012/09/crazy-roads-in-the-world-7.jpg\n",
            "[%] File Downloaded !\n",
            "\n",
            "\n",
            "\n",
            "[!!]Indexing page: 14\n",
            "\n",
            "[%] Indexed 12 Images on Page 14.\n",
            "\n",
            "===============================================\n",
            "\n",
            "[%] Downloading Image #80 from https://rlmillerphoto.com/wp-content/uploads/2013/09/Glacier-National-Park-Grizzly-Bear.jpg\n",
            "[%] File Downloaded !\n",
            "\n",
            "[%] Downloading Image #81 from http://www.funnyalltime.com/wp-content/uploads/2012/09/crazy-roads-in-the-world-7.jpg\n",
            "[%] File Downloaded !\n",
            "\n",
            "[%] Downloading Image #82 from https://i.pinimg.com/736x/d5/3d/51/d53d51d9913a26f769a2b041e87375ce--hairy-cactus-grizzly-bear.jpg\n",
            "[%] File Downloaded !\n",
            "\n",
            "[%] Downloading Image #83 from https://www.schultzphoto.com/wp-content/uploads/2016/11/160917-5M8461.jpg\n",
            "[%] File Downloaded !\n",
            "\n",
            "[%] Downloading Image #84 from http://www.skolaiimages.com/journal/wp-content/uploads/2011/12/10_JUL1894.jpg\n",
            "[%] File Downloaded !\n",
            "\n",
            "[%] Downloading Image #85 from http://www.thecountryworkshop.com/i/Chaisaw carving/BEARS_4-07-08_003.jpg\n",
            "[!] Issue getting: http://www.thecountryworkshop.com/i/Chaisaw carving/BEARS_4-07-08_003.jpg\n",
            "[!] Error:: URL can't contain control characters. '/i/Chaisaw carving/BEARS_4-07-08_003.jpg' (found at least ' ')\n",
            "[%] Downloading Image #85 from https://s1.ibtimes.com/sites/www.ibtimes.com/files/styles/full/public/2012/10/03/2011/07/24/136818-deadly-bear-mauls-alaskan-teens-plus-20-horrific-animal-attacks-photos.jpg\n",
            "[%] File Downloaded !\n",
            "\n",
            "[%] Downloading Image #86 from https://www.distinctlymontana.com/sites/default/files/2020-08/runningbear2.jpg\n",
            "[%] File Downloaded !\n",
            "\n",
            "[%] Downloading Image #87 from https://defenders.org/sites/default/files/styles/meta_image/public/mariana-crow-emily-weiser.jpg?itok=dtXAdv9g\n",
            "[%] File Downloaded !\n",
            "\n",
            "[%] Downloading Image #88 from http://www.shakahariblog.com/wp-content/uploads/2014/06/African-Lion.jpg\n",
            "[%] File Downloaded !\n",
            "\n",
            "[%] Downloading Image #89 from https://vignette.wikia.nocookie.net/bakugan/images/3/33/Ventus_Boxer_and_Darkus_Grizzly_fight.png/revision/latest/zoom-crop/width/480/height/480?cb=20200430082223\n",
            "[%] File Downloaded !\n",
            "\n",
            "[%] Downloading Image #90 from http://www.outthereimages.com/blog/wp-content/uploads/2010/04/hagen_100408_1172_silverfox.jpg\n",
            "[%] File Downloaded !\n",
            "\n",
            "\n",
            "\n",
            "[!!]Indexing page: 15\n",
            "\n",
            "[%] Indexed 12 Images on Page 15.\n",
            "\n",
            "===============================================\n",
            "\n",
            "[%] Downloading Image #91 from https://rlmillerphoto.com/wp-content/uploads/2013/09/Glacier-National-Park-Grizzly-Bear.jpg\n",
            "[%] File Downloaded !\n",
            "\n",
            "[%] Downloading Image #92 from http://www.funnyalltime.com/wp-content/uploads/2012/09/crazy-roads-in-the-world-7.jpg\n",
            "[%] File Downloaded !\n",
            "\n",
            "[%] Downloading Image #93 from https://i.pinimg.com/736x/d5/3d/51/d53d51d9913a26f769a2b041e87375ce--hairy-cactus-grizzly-bear.jpg\n",
            "[%] File Downloaded !\n",
            "\n",
            "[%] Downloading Image #94 from https://www.schultzphoto.com/wp-content/uploads/2016/11/160917-5M8461.jpg\n",
            "[%] File Downloaded !\n",
            "\n",
            "[%] Downloading Image #95 from http://www.skolaiimages.com/journal/wp-content/uploads/2011/12/10_JUL1894.jpg\n",
            "[%] File Downloaded !\n",
            "\n",
            "[%] Downloading Image #96 from http://www.thecountryworkshop.com/i/Chaisaw carving/BEARS_4-07-08_003.jpg\n",
            "[!] Issue getting: http://www.thecountryworkshop.com/i/Chaisaw carving/BEARS_4-07-08_003.jpg\n",
            "[!] Error:: URL can't contain control characters. '/i/Chaisaw carving/BEARS_4-07-08_003.jpg' (found at least ' ')\n",
            "[%] Downloading Image #96 from https://s1.ibtimes.com/sites/www.ibtimes.com/files/styles/full/public/2012/10/03/2011/07/24/136818-deadly-bear-mauls-alaskan-teens-plus-20-horrific-animal-attacks-photos.jpg\n",
            "[%] File Downloaded !\n",
            "\n",
            "[%] Downloading Image #97 from https://www.distinctlymontana.com/sites/default/files/2020-08/runningbear2.jpg\n",
            "[%] File Downloaded !\n",
            "\n",
            "[%] Downloading Image #98 from https://defenders.org/sites/default/files/styles/meta_image/public/mariana-crow-emily-weiser.jpg?itok=dtXAdv9g\n",
            "[%] File Downloaded !\n",
            "\n",
            "[%] Downloading Image #99 from http://www.shakahariblog.com/wp-content/uploads/2014/06/African-Lion.jpg\n",
            "[%] File Downloaded !\n",
            "\n",
            "[%] Downloading Image #100 from https://vignette.wikia.nocookie.net/bakugan/images/3/33/Ventus_Boxer_and_Darkus_Grizzly_fight.png/revision/latest/zoom-crop/width/480/height/480?cb=20200430082223\n",
            "[%] File Downloaded !\n",
            "\n",
            "[%] Downloading Image #101 from http://www.outthereimages.com/blog/wp-content/uploads/2010/04/hagen_100408_1172_silverfox.jpg\n",
            "[%] File Downloaded !\n",
            "\n",
            "\n",
            "\n",
            "[!!]Indexing page: 16\n",
            "\n",
            "[%] Indexed 12 Images on Page 16.\n",
            "\n",
            "===============================================\n",
            "\n",
            "[%] Downloading Image #102 from https://rlmillerphoto.com/wp-content/uploads/2013/09/Glacier-National-Park-Grizzly-Bear.jpg\n",
            "[%] File Downloaded !\n",
            "\n",
            "[%] Downloading Image #103 from http://www.funnyalltime.com/wp-content/uploads/2012/09/crazy-roads-in-the-world-7.jpg\n",
            "[%] File Downloaded !\n",
            "\n",
            "[%] Downloading Image #104 from https://i.pinimg.com/736x/d5/3d/51/d53d51d9913a26f769a2b041e87375ce--hairy-cactus-grizzly-bear.jpg\n",
            "[%] File Downloaded !\n",
            "\n",
            "[%] Downloading Image #105 from https://www.schultzphoto.com/wp-content/uploads/2016/11/160917-5M8461.jpg\n",
            "[%] File Downloaded !\n",
            "\n",
            "[%] Downloading Image #106 from http://www.skolaiimages.com/journal/wp-content/uploads/2011/12/10_JUL1894.jpg\n",
            "[%] File Downloaded !\n",
            "\n",
            "[%] Downloading Image #107 from http://www.thecountryworkshop.com/i/Chaisaw carving/BEARS_4-07-08_003.jpg\n",
            "[!] Issue getting: http://www.thecountryworkshop.com/i/Chaisaw carving/BEARS_4-07-08_003.jpg\n",
            "[!] Error:: URL can't contain control characters. '/i/Chaisaw carving/BEARS_4-07-08_003.jpg' (found at least ' ')\n",
            "[%] Downloading Image #107 from https://s1.ibtimes.com/sites/www.ibtimes.com/files/styles/full/public/2012/10/03/2011/07/24/136818-deadly-bear-mauls-alaskan-teens-plus-20-horrific-animal-attacks-photos.jpg\n",
            "[%] File Downloaded !\n",
            "\n",
            "[%] Downloading Image #108 from https://www.distinctlymontana.com/sites/default/files/2020-08/runningbear2.jpg\n",
            "[%] File Downloaded !\n",
            "\n",
            "[%] Downloading Image #109 from https://defenders.org/sites/default/files/styles/meta_image/public/mariana-crow-emily-weiser.jpg?itok=dtXAdv9g\n",
            "[%] File Downloaded !\n",
            "\n",
            "[%] Downloading Image #110 from http://www.shakahariblog.com/wp-content/uploads/2014/06/African-Lion.jpg\n",
            "[%] File Downloaded !\n",
            "\n",
            "[%] Downloading Image #111 from https://vignette.wikia.nocookie.net/bakugan/images/3/33/Ventus_Boxer_and_Darkus_Grizzly_fight.png/revision/latest/zoom-crop/width/480/height/480?cb=20200430082223\n",
            "[%] File Downloaded !\n",
            "\n",
            "[%] Downloading Image #112 from http://www.outthereimages.com/blog/wp-content/uploads/2010/04/hagen_100408_1172_silverfox.jpg\n",
            "[%] File Downloaded !\n",
            "\n",
            "\n",
            "\n",
            "[!!]Indexing page: 17\n",
            "\n",
            "[%] Indexed 12 Images on Page 17.\n",
            "\n",
            "===============================================\n",
            "\n",
            "[%] Downloading Image #113 from https://rlmillerphoto.com/wp-content/uploads/2013/09/Glacier-National-Park-Grizzly-Bear.jpg\n",
            "[%] File Downloaded !\n",
            "\n",
            "[%] Downloading Image #114 from http://www.funnyalltime.com/wp-content/uploads/2012/09/crazy-roads-in-the-world-7.jpg\n",
            "[%] File Downloaded !\n",
            "\n",
            "[%] Downloading Image #115 from https://i.pinimg.com/736x/d5/3d/51/d53d51d9913a26f769a2b041e87375ce--hairy-cactus-grizzly-bear.jpg\n",
            "[%] File Downloaded !\n",
            "\n",
            "[%] Downloading Image #116 from https://www.schultzphoto.com/wp-content/uploads/2016/11/160917-5M8461.jpg\n",
            "[%] File Downloaded !\n",
            "\n",
            "[%] Downloading Image #117 from http://www.skolaiimages.com/journal/wp-content/uploads/2011/12/10_JUL1894.jpg\n",
            "[%] File Downloaded !\n",
            "\n",
            "[%] Downloading Image #118 from http://www.thecountryworkshop.com/i/Chaisaw carving/BEARS_4-07-08_003.jpg\n",
            "[!] Issue getting: http://www.thecountryworkshop.com/i/Chaisaw carving/BEARS_4-07-08_003.jpg\n",
            "[!] Error:: URL can't contain control characters. '/i/Chaisaw carving/BEARS_4-07-08_003.jpg' (found at least ' ')\n",
            "[%] Downloading Image #118 from https://s1.ibtimes.com/sites/www.ibtimes.com/files/styles/full/public/2012/10/03/2011/07/24/136818-deadly-bear-mauls-alaskan-teens-plus-20-horrific-animal-attacks-photos.jpg\n",
            "[%] File Downloaded !\n",
            "\n",
            "[%] Downloading Image #119 from https://www.distinctlymontana.com/sites/default/files/2020-08/runningbear2.jpg\n",
            "[%] File Downloaded !\n",
            "\n",
            "[%] Downloading Image #120 from https://defenders.org/sites/default/files/styles/meta_image/public/mariana-crow-emily-weiser.jpg?itok=dtXAdv9g\n",
            "[%] File Downloaded !\n",
            "\n",
            "[%] Downloading Image #121 from http://www.shakahariblog.com/wp-content/uploads/2014/06/African-Lion.jpg\n",
            "[%] File Downloaded !\n",
            "\n",
            "[%] Downloading Image #122 from https://vignette.wikia.nocookie.net/bakugan/images/3/33/Ventus_Boxer_and_Darkus_Grizzly_fight.png/revision/latest/zoom-crop/width/480/height/480?cb=20200430082223\n",
            "[%] File Downloaded !\n",
            "\n",
            "[%] Downloading Image #123 from http://www.outthereimages.com/blog/wp-content/uploads/2010/04/hagen_100408_1172_silverfox.jpg\n",
            "[%] File Downloaded !\n",
            "\n",
            "\n",
            "\n",
            "[!!]Indexing page: 18\n",
            "\n",
            "[%] Indexed 12 Images on Page 18.\n",
            "\n",
            "===============================================\n",
            "\n",
            "[%] Downloading Image #124 from https://rlmillerphoto.com/wp-content/uploads/2013/09/Glacier-National-Park-Grizzly-Bear.jpg\n",
            "[%] File Downloaded !\n",
            "\n",
            "[%] Downloading Image #125 from http://www.funnyalltime.com/wp-content/uploads/2012/09/crazy-roads-in-the-world-7.jpg\n",
            "[%] File Downloaded !\n",
            "\n",
            "[%] Downloading Image #126 from https://i.pinimg.com/736x/d5/3d/51/d53d51d9913a26f769a2b041e87375ce--hairy-cactus-grizzly-bear.jpg\n",
            "[%] File Downloaded !\n",
            "\n",
            "[%] Downloading Image #127 from https://www.schultzphoto.com/wp-content/uploads/2016/11/160917-5M8461.jpg\n",
            "[%] File Downloaded !\n",
            "\n",
            "[%] Downloading Image #128 from http://www.skolaiimages.com/journal/wp-content/uploads/2011/12/10_JUL1894.jpg\n",
            "[%] File Downloaded !\n",
            "\n",
            "[%] Downloading Image #129 from http://www.thecountryworkshop.com/i/Chaisaw carving/BEARS_4-07-08_003.jpg\n",
            "[!] Issue getting: http://www.thecountryworkshop.com/i/Chaisaw carving/BEARS_4-07-08_003.jpg\n",
            "[!] Error:: URL can't contain control characters. '/i/Chaisaw carving/BEARS_4-07-08_003.jpg' (found at least ' ')\n",
            "[%] Downloading Image #129 from https://s1.ibtimes.com/sites/www.ibtimes.com/files/styles/full/public/2012/10/03/2011/07/24/136818-deadly-bear-mauls-alaskan-teens-plus-20-horrific-animal-attacks-photos.jpg\n",
            "[%] File Downloaded !\n",
            "\n",
            "[%] Downloading Image #130 from https://www.distinctlymontana.com/sites/default/files/2020-08/runningbear2.jpg\n",
            "[%] File Downloaded !\n",
            "\n",
            "[%] Downloading Image #131 from https://defenders.org/sites/default/files/styles/meta_image/public/mariana-crow-emily-weiser.jpg?itok=dtXAdv9g\n",
            "[%] File Downloaded !\n",
            "\n",
            "[%] Downloading Image #132 from http://www.shakahariblog.com/wp-content/uploads/2014/06/African-Lion.jpg\n",
            "[%] File Downloaded !\n",
            "\n",
            "[%] Downloading Image #133 from https://vignette.wikia.nocookie.net/bakugan/images/3/33/Ventus_Boxer_and_Darkus_Grizzly_fight.png/revision/latest/zoom-crop/width/480/height/480?cb=20200430082223\n",
            "[%] File Downloaded !\n",
            "\n",
            "[%] Downloading Image #134 from http://www.outthereimages.com/blog/wp-content/uploads/2010/04/hagen_100408_1172_silverfox.jpg\n",
            "[%] File Downloaded !\n",
            "\n",
            "\n",
            "\n",
            "[!!]Indexing page: 19\n",
            "\n",
            "[%] Indexed 12 Images on Page 19.\n",
            "\n",
            "===============================================\n",
            "\n",
            "[%] Downloading Image #135 from https://rlmillerphoto.com/wp-content/uploads/2013/09/Glacier-National-Park-Grizzly-Bear.jpg\n",
            "[%] File Downloaded !\n",
            "\n",
            "[%] Downloading Image #136 from http://www.funnyalltime.com/wp-content/uploads/2012/09/crazy-roads-in-the-world-7.jpg\n",
            "[%] File Downloaded !\n",
            "\n",
            "[%] Downloading Image #137 from https://i.pinimg.com/736x/d5/3d/51/d53d51d9913a26f769a2b041e87375ce--hairy-cactus-grizzly-bear.jpg\n",
            "[%] File Downloaded !\n",
            "\n",
            "[%] Downloading Image #138 from https://www.schultzphoto.com/wp-content/uploads/2016/11/160917-5M8461.jpg\n",
            "[%] File Downloaded !\n",
            "\n",
            "[%] Downloading Image #139 from http://www.skolaiimages.com/journal/wp-content/uploads/2011/12/10_JUL1894.jpg\n",
            "[%] File Downloaded !\n",
            "\n",
            "[%] Downloading Image #140 from http://www.thecountryworkshop.com/i/Chaisaw carving/BEARS_4-07-08_003.jpg\n",
            "[!] Issue getting: http://www.thecountryworkshop.com/i/Chaisaw carving/BEARS_4-07-08_003.jpg\n",
            "[!] Error:: URL can't contain control characters. '/i/Chaisaw carving/BEARS_4-07-08_003.jpg' (found at least ' ')\n",
            "[%] Downloading Image #140 from https://s1.ibtimes.com/sites/www.ibtimes.com/files/styles/full/public/2012/10/03/2011/07/24/136818-deadly-bear-mauls-alaskan-teens-plus-20-horrific-animal-attacks-photos.jpg\n",
            "[%] File Downloaded !\n",
            "\n",
            "[%] Downloading Image #141 from https://www.distinctlymontana.com/sites/default/files/2020-08/runningbear2.jpg\n",
            "[%] File Downloaded !\n",
            "\n",
            "[%] Downloading Image #142 from https://defenders.org/sites/default/files/styles/meta_image/public/mariana-crow-emily-weiser.jpg?itok=dtXAdv9g\n",
            "[%] File Downloaded !\n",
            "\n",
            "[%] Downloading Image #143 from http://www.shakahariblog.com/wp-content/uploads/2014/06/African-Lion.jpg\n",
            "[%] File Downloaded !\n",
            "\n",
            "[%] Downloading Image #144 from https://vignette.wikia.nocookie.net/bakugan/images/3/33/Ventus_Boxer_and_Darkus_Grizzly_fight.png/revision/latest/zoom-crop/width/480/height/480?cb=20200430082223\n",
            "[%] File Downloaded !\n",
            "\n",
            "[%] Downloading Image #145 from http://www.outthereimages.com/blog/wp-content/uploads/2010/04/hagen_100408_1172_silverfox.jpg\n",
            "[%] File Downloaded !\n",
            "\n",
            "\n",
            "\n",
            "[!!]Indexing page: 20\n",
            "\n",
            "[%] Indexed 12 Images on Page 20.\n",
            "\n",
            "===============================================\n",
            "\n",
            "[%] Downloading Image #146 from https://rlmillerphoto.com/wp-content/uploads/2013/09/Glacier-National-Park-Grizzly-Bear.jpg\n",
            "[%] File Downloaded !\n",
            "\n",
            "[%] Downloading Image #147 from http://www.funnyalltime.com/wp-content/uploads/2012/09/crazy-roads-in-the-world-7.jpg\n",
            "[%] File Downloaded !\n",
            "\n",
            "[%] Downloading Image #148 from https://i.pinimg.com/736x/d5/3d/51/d53d51d9913a26f769a2b041e87375ce--hairy-cactus-grizzly-bear.jpg\n",
            "[%] File Downloaded !\n",
            "\n",
            "[%] Downloading Image #149 from https://www.schultzphoto.com/wp-content/uploads/2016/11/160917-5M8461.jpg\n",
            "[%] File Downloaded !\n",
            "\n",
            "[%] Downloading Image #150 from http://www.skolaiimages.com/journal/wp-content/uploads/2011/12/10_JUL1894.jpg\n",
            "[%] File Downloaded !\n",
            "\n",
            "\n",
            "\n",
            "[%] Done. Downloaded 150 images.\n",
            "\n",
            "===============================================\n",
            "\n",
            "\n",
            "\n",
            "[!!]Indexing page: 1\n",
            "\n",
            "[%] Indexed 12 Images on Page 1.\n",
            "\n",
            "===============================================\n",
            "\n",
            "[%] Downloading Image #1 from http://www.luvbat.com/uploads/baby_black_bear_smelling_flowers__362647883.jpg\n",
            "[%] File Downloaded !\n",
            "\n",
            "[%] Downloading Image #2 from http://www.ravenwoodpress.com/wp-content/uploads/picture-317.jpg\n",
            "[%] File Downloaded !\n",
            "\n",
            "[%] Downloading Image #3 from https://spongekids.com/wp-content/uploads/2014/04/pipe-cleaner-animals/52-pipe-cleaner-bees.JPG\n",
            "[%] File Downloaded !\n",
            "\n",
            "[%] Downloading Image #4 from https://hative.com/wp-content/uploads/2013/09/teddy-bear-drawings/teddy-bear-drawing-8.jpg\n",
            "[%] File Downloaded !\n",
            "\n",
            "[%] Downloading Image #5 from https://www.hdwallpapers.in/download/sunflowers_landscape-1366x768.jpg\n",
            "[%] File Downloaded !\n",
            "\n",
            "[%] Downloading Image #6 from https://weneedfun.com/wp-content/uploads/2016/03/Museum-Island-in-Berlin-8.jpg\n",
            "[%] File Downloaded !\n",
            "\n",
            "[%] Downloading Image #7 from https://www.theriaults.com/sites/default/files/lot_images/cat-1129_009_0.jpg\n",
            "[%] File Downloaded !\n",
            "\n",
            "[%] Downloading Image #8 from https://hative.com/wp-content/uploads/2014/04/pipe-cleaner-animals/18-pipe-cleaner-zebra.jpg\n",
            "[%] File Downloaded !\n",
            "\n",
            "[%] Downloading Image #9 from http://www.littlebcakes.com/wp-content/uploads/2014/01/Cat-Cakes-For-Kids.jpg\n",
            "[%] File Downloaded !\n",
            "\n",
            "[%] Downloading Image #10 from http://www.luvbat.com/uploads/cute_baby_gorilla_holding_onto_parents_arm_7638247678.jpg\n",
            "[%] File Downloaded !\n",
            "\n",
            "[%] Downloading Image #11 from https://spongekids.com/wp-content/uploads/2014/04/pipe-cleaner-animals/36-pipe-cleaner-rhino.jpg\n",
            "[%] File Downloaded !\n",
            "\n",
            "[%] Downloading Image #12 from https://www.wallpapers13.com/wp-content/uploads/2016/05/Maternal-love-Lioness-with-cub-Widescreen-free-download-1920x1440.jpg\n",
            "[%] File Downloaded !\n",
            "\n",
            "\n",
            "\n",
            "[!!]Indexing page: 2\n",
            "\n",
            "[%] Indexed 12 Images on Page 2.\n",
            "\n",
            "===============================================\n",
            "\n",
            "[%] Downloading Image #13 from http://www.luvbat.com/uploads/baby_black_bear_smelling_flowers__362647883.jpg\n",
            "[%] File Downloaded !\n",
            "\n",
            "[%] Downloading Image #14 from http://www.ravenwoodpress.com/wp-content/uploads/picture-317.jpg\n",
            "[%] File Downloaded !\n",
            "\n",
            "[%] Downloading Image #15 from https://spongekids.com/wp-content/uploads/2014/04/pipe-cleaner-animals/52-pipe-cleaner-bees.JPG\n",
            "[%] File Downloaded !\n",
            "\n",
            "[%] Downloading Image #16 from https://hative.com/wp-content/uploads/2013/09/teddy-bear-drawings/teddy-bear-drawing-8.jpg\n",
            "[%] File Downloaded !\n",
            "\n",
            "[%] Downloading Image #17 from https://www.hdwallpapers.in/download/sunflowers_landscape-1366x768.jpg\n",
            "[%] File Downloaded !\n",
            "\n",
            "[%] Downloading Image #18 from https://weneedfun.com/wp-content/uploads/2016/03/Museum-Island-in-Berlin-8.jpg\n",
            "[%] File Downloaded !\n",
            "\n",
            "[%] Downloading Image #19 from https://www.theriaults.com/sites/default/files/lot_images/cat-1129_009_0.jpg\n",
            "[%] File Downloaded !\n",
            "\n",
            "[%] Downloading Image #20 from https://hative.com/wp-content/uploads/2014/04/pipe-cleaner-animals/18-pipe-cleaner-zebra.jpg\n",
            "[%] File Downloaded !\n",
            "\n",
            "[%] Downloading Image #21 from http://www.littlebcakes.com/wp-content/uploads/2014/01/Cat-Cakes-For-Kids.jpg\n",
            "[%] File Downloaded !\n",
            "\n",
            "[%] Downloading Image #22 from http://www.luvbat.com/uploads/cute_baby_gorilla_holding_onto_parents_arm_7638247678.jpg\n",
            "[%] File Downloaded !\n",
            "\n",
            "[%] Downloading Image #23 from https://spongekids.com/wp-content/uploads/2014/04/pipe-cleaner-animals/36-pipe-cleaner-rhino.jpg\n",
            "[%] File Downloaded !\n",
            "\n",
            "[%] Downloading Image #24 from https://www.wallpapers13.com/wp-content/uploads/2016/05/Maternal-love-Lioness-with-cub-Widescreen-free-download-1920x1440.jpg\n",
            "[%] File Downloaded !\n",
            "\n",
            "\n",
            "\n",
            "[!!]Indexing page: 3\n",
            "\n",
            "[%] Indexed 11 Images on Page 3.\n",
            "\n",
            "===============================================\n",
            "\n",
            "[%] Downloading Image #25 from http://www.ravenwoodpress.com/wp-content/uploads/picture-317.jpg\n",
            "[%] File Downloaded !\n",
            "\n",
            "[%] Downloading Image #26 from https://hative.com/wp-content/uploads/2013/09/teddy-bear-drawings/teddy-bear-drawing-8.jpg\n",
            "[%] File Downloaded !\n",
            "\n",
            "[%] Downloading Image #27 from https://spongekids.com/wp-content/uploads/2014/04/pipe-cleaner-animals/36-pipe-cleaner-rhino.jpg\n",
            "[%] File Downloaded !\n",
            "\n",
            "[%] Downloading Image #28 from http://www.littlebcakes.com/wp-content/uploads/2014/01/Cat-Cakes-For-Kids.jpg\n",
            "[%] File Downloaded !\n",
            "\n",
            "[%] Downloading Image #29 from https://www.theriaults.com/sites/default/files/lot_images/cat-1129_009_0.jpg\n",
            "[%] File Downloaded !\n",
            "\n",
            "[%] Downloading Image #30 from https://weneedfun.com/wp-content/uploads/2016/03/Museum-Island-in-Berlin-8.jpg\n",
            "[%] File Downloaded !\n",
            "\n",
            "[%] Downloading Image #31 from http://www.luvbat.com/uploads/cute_baby_gorilla_holding_onto_parents_arm_7638247678.jpg\n",
            "[%] File Downloaded !\n",
            "\n",
            "[%] Downloading Image #32 from https://hative.com/wp-content/uploads/2014/04/pipe-cleaner-animals/18-pipe-cleaner-zebra.jpg\n",
            "[%] File Downloaded !\n",
            "\n",
            "[%] Downloading Image #33 from https://www.hdwallpapers.in/download/sunflowers_landscape-1366x768.jpg\n",
            "[%] File Downloaded !\n",
            "\n",
            "[%] Downloading Image #34 from https://spongekids.com/wp-content/uploads/2014/04/pipe-cleaner-animals/52-pipe-cleaner-bees.JPG\n",
            "[%] File Downloaded !\n",
            "\n",
            "[%] Downloading Image #35 from https://www.wallpapers13.com/wp-content/uploads/2016/05/Maternal-love-Lioness-with-cub-Widescreen-free-download-1920x1440.jpg\n",
            "[%] File Downloaded !\n",
            "\n",
            "\n",
            "\n",
            "[!!]Indexing page: 4\n",
            "\n",
            "[%] Indexed 10 Images on Page 4.\n",
            "\n",
            "===============================================\n",
            "\n",
            "[%] Downloading Image #36 from https://ww1.prweb.com/prfiles/2010/10/24/162169/BlackBear.JPG\n",
            "[%] File Downloaded !\n",
            "\n",
            "[%] Downloading Image #37 from http://www.wallpapers13.com/wp-content/uploads/2016/02/White-Leopard-lying-rock-ready-to-attack-Wallpaer-Hd-1280x960.jpg\n",
            "[%] File Downloaded !\n",
            "\n",
            "[%] Downloading Image #38 from http://ideastand.com/wp-content/uploads/2014/10/no-carve-pumpkin-ideas/15-monster.jpg\n",
            "[%] File Downloaded !\n",
            "\n",
            "[%] Downloading Image #39 from https://images.hellogiggles.com/uploads/2016/06/01063256/shutterstock_33057904.jpg\n",
            "[%] File Downloaded !\n",
            "\n",
            "[%] Downloading Image #40 from https://luvbat.com/uploads/black_rabbit_with_mouth_open_5068487799.jpg\n",
            "[%] File Downloaded !\n",
            "\n",
            "[%] Downloading Image #41 from https://newcombartmuseum.tulane.edu/wp-content/uploads/sites/52/2015/07/blackbear-681x1024.jpg\n",
            "[%] File Downloaded !\n",
            "\n",
            "[%] Downloading Image #42 from https://www.wallpapers13.com/wp-content/uploads/2016/02/Leopard-cubs-Wallpaper-Hd-1024x768.jpg\n",
            "[%] File Downloaded !\n",
            "\n",
            "[%] Downloading Image #43 from http://www.newslinq.com/wp-content/uploads/2016/08/cutest-puppies-in-the-world-8.jpg\n",
            "[%] File Downloaded !\n",
            "\n",
            "[%] Downloading Image #44 from https://weneedfun.com/wp-content/uploads/2016/02/New-York-Wallpaper-13.jpg\n",
            "[%] File Downloaded !\n",
            "\n",
            "[%] Downloading Image #45 from http://www.westernmontanafurcenter.com/uploads/3/9/8/7/39878327/s424719027744019185_p425_i1_w1611.jpeg?width=640\n",
            "[%] File Downloaded !\n",
            "\n",
            "\n",
            "\n",
            "[!!]Indexing page: 5\n",
            "\n",
            "[%] Indexed 9 Images on Page 5.\n",
            "\n",
            "===============================================\n",
            "\n",
            "[%] Downloading Image #46 from https://www.theriaults.com/sites/default/files/lot_images/cat-1129_009_0.jpg\n",
            "[%] File Downloaded !\n",
            "\n",
            "[%] Downloading Image #47 from http://www.luvbat.com/uploads/cute_baby_gorilla_holding_onto_parents_arm_7638247678.jpg\n",
            "[%] File Downloaded !\n",
            "\n",
            "[%] Downloading Image #48 from https://www.hdwallpapers.in/download/sunflowers_landscape-1366x768.jpg\n",
            "[%] File Downloaded !\n",
            "\n",
            "[%] Downloading Image #49 from https://spongekids.com/wp-content/uploads/2014/04/pipe-cleaner-animals/52-pipe-cleaner-bees.JPG\n",
            "[%] File Downloaded !\n",
            "\n",
            "[%] Downloading Image #50 from https://spongekids.com/wp-content/uploads/2014/04/pipe-cleaner-animals/36-pipe-cleaner-rhino.jpg\n",
            "[%] File Downloaded !\n",
            "\n",
            "[%] Downloading Image #51 from https://hative.com/wp-content/uploads/2014/04/pipe-cleaner-animals/18-pipe-cleaner-zebra.jpg\n",
            "[%] File Downloaded !\n",
            "\n",
            "[%] Downloading Image #52 from https://weneedfun.com/wp-content/uploads/2016/03/Museum-Island-in-Berlin-8.jpg\n",
            "[%] File Downloaded !\n",
            "\n",
            "[%] Downloading Image #53 from https://www.wallpapers13.com/wp-content/uploads/2016/05/Maternal-love-Lioness-with-cub-Widescreen-free-download-1920x1440.jpg\n",
            "[%] File Downloaded !\n",
            "\n",
            "[%] Downloading Image #54 from http://www.littlebcakes.com/wp-content/uploads/2014/01/Cat-Cakes-For-Kids.jpg\n",
            "[%] File Downloaded !\n",
            "\n",
            "\n",
            "\n",
            "[!!]Indexing page: 6\n",
            "\n",
            "[%] Indexed 8 Images on Page 6.\n",
            "\n",
            "===============================================\n",
            "\n",
            "[%] Downloading Image #55 from http://www.luvbat.com/uploads/cute_baby_gorilla_holding_onto_parents_arm_7638247678.jpg\n",
            "[%] File Downloaded !\n",
            "\n",
            "[%] Downloading Image #56 from https://www.hdwallpapers.in/download/sunflowers_landscape-1366x768.jpg\n",
            "[%] File Downloaded !\n",
            "\n",
            "[%] Downloading Image #57 from https://spongekids.com/wp-content/uploads/2014/04/pipe-cleaner-animals/52-pipe-cleaner-bees.JPG\n",
            "[%] File Downloaded !\n",
            "\n",
            "[%] Downloading Image #58 from https://spongekids.com/wp-content/uploads/2014/04/pipe-cleaner-animals/36-pipe-cleaner-rhino.jpg\n",
            "[%] File Downloaded !\n",
            "\n",
            "[%] Downloading Image #59 from https://hative.com/wp-content/uploads/2014/04/pipe-cleaner-animals/18-pipe-cleaner-zebra.jpg\n",
            "[%] File Downloaded !\n",
            "\n",
            "[%] Downloading Image #60 from https://weneedfun.com/wp-content/uploads/2016/03/Museum-Island-in-Berlin-8.jpg\n",
            "[%] File Downloaded !\n",
            "\n",
            "[%] Downloading Image #61 from https://www.wallpapers13.com/wp-content/uploads/2016/05/Maternal-love-Lioness-with-cub-Widescreen-free-download-1920x1440.jpg\n",
            "[%] File Downloaded !\n",
            "\n",
            "[%] Downloading Image #62 from http://www.littlebcakes.com/wp-content/uploads/2014/01/Cat-Cakes-For-Kids.jpg\n",
            "[%] File Downloaded !\n",
            "\n",
            "\n",
            "\n",
            "[!!]Indexing page: 7\n",
            "\n",
            "[%] Indexed 7 Images on Page 7.\n",
            "\n",
            "===============================================\n",
            "\n",
            "[%] Downloading Image #63 from https://www.hdwallpapers.in/download/sunflowers_landscape-1366x768.jpg\n",
            "[%] File Downloaded !\n",
            "\n",
            "[%] Downloading Image #64 from https://spongekids.com/wp-content/uploads/2014/04/pipe-cleaner-animals/52-pipe-cleaner-bees.JPG\n",
            "[%] File Downloaded !\n",
            "\n",
            "[%] Downloading Image #65 from https://spongekids.com/wp-content/uploads/2014/04/pipe-cleaner-animals/36-pipe-cleaner-rhino.jpg\n",
            "[%] File Downloaded !\n",
            "\n",
            "[%] Downloading Image #66 from https://hative.com/wp-content/uploads/2014/04/pipe-cleaner-animals/18-pipe-cleaner-zebra.jpg\n",
            "[%] File Downloaded !\n",
            "\n",
            "[%] Downloading Image #67 from https://weneedfun.com/wp-content/uploads/2016/03/Museum-Island-in-Berlin-8.jpg\n",
            "[%] File Downloaded !\n",
            "\n",
            "[%] Downloading Image #68 from https://www.wallpapers13.com/wp-content/uploads/2016/05/Maternal-love-Lioness-with-cub-Widescreen-free-download-1920x1440.jpg\n",
            "[%] File Downloaded !\n",
            "\n",
            "[%] Downloading Image #69 from http://www.littlebcakes.com/wp-content/uploads/2014/01/Cat-Cakes-For-Kids.jpg\n",
            "[%] File Downloaded !\n",
            "\n",
            "\n",
            "\n",
            "[!!]Indexing page: 8\n",
            "\n",
            "[%] Indexed 6 Images on Page 8.\n",
            "\n",
            "===============================================\n",
            "\n",
            "[%] Downloading Image #70 from https://spongekids.com/wp-content/uploads/2014/04/pipe-cleaner-animals/52-pipe-cleaner-bees.JPG\n",
            "[%] File Downloaded !\n",
            "\n",
            "[%] Downloading Image #71 from https://spongekids.com/wp-content/uploads/2014/04/pipe-cleaner-animals/36-pipe-cleaner-rhino.jpg\n",
            "[%] File Downloaded !\n",
            "\n",
            "[%] Downloading Image #72 from https://hative.com/wp-content/uploads/2014/04/pipe-cleaner-animals/18-pipe-cleaner-zebra.jpg\n",
            "[%] File Downloaded !\n",
            "\n",
            "[%] Downloading Image #73 from https://weneedfun.com/wp-content/uploads/2016/03/Museum-Island-in-Berlin-8.jpg\n",
            "[%] File Downloaded !\n",
            "\n",
            "[%] Downloading Image #74 from https://www.wallpapers13.com/wp-content/uploads/2016/05/Maternal-love-Lioness-with-cub-Widescreen-free-download-1920x1440.jpg\n",
            "[%] File Downloaded !\n",
            "\n",
            "[%] Downloading Image #75 from http://www.littlebcakes.com/wp-content/uploads/2014/01/Cat-Cakes-For-Kids.jpg\n",
            "[%] File Downloaded !\n",
            "\n",
            "\n",
            "\n",
            "[!!]Indexing page: 9\n",
            "\n",
            "[%] Indexed 5 Images on Page 9.\n",
            "\n",
            "===============================================\n",
            "\n",
            "[%] Downloading Image #76 from https://spongekids.com/wp-content/uploads/2014/04/pipe-cleaner-animals/36-pipe-cleaner-rhino.jpg\n",
            "[%] File Downloaded !\n",
            "\n",
            "[%] Downloading Image #77 from https://hative.com/wp-content/uploads/2014/04/pipe-cleaner-animals/18-pipe-cleaner-zebra.jpg\n",
            "[%] File Downloaded !\n",
            "\n",
            "[%] Downloading Image #78 from https://weneedfun.com/wp-content/uploads/2016/03/Museum-Island-in-Berlin-8.jpg\n",
            "[%] File Downloaded !\n",
            "\n",
            "[%] Downloading Image #79 from https://www.wallpapers13.com/wp-content/uploads/2016/05/Maternal-love-Lioness-with-cub-Widescreen-free-download-1920x1440.jpg\n",
            "[%] File Downloaded !\n",
            "\n",
            "[%] Downloading Image #80 from http://www.littlebcakes.com/wp-content/uploads/2014/01/Cat-Cakes-For-Kids.jpg\n",
            "[%] File Downloaded !\n",
            "\n",
            "\n",
            "\n",
            "[!!]Indexing page: 10\n",
            "\n",
            "[%] Indexed 4 Images on Page 10.\n",
            "\n",
            "===============================================\n",
            "\n",
            "[%] Downloading Image #81 from https://hative.com/wp-content/uploads/2014/04/pipe-cleaner-animals/18-pipe-cleaner-zebra.jpg\n",
            "[%] File Downloaded !\n",
            "\n",
            "[%] Downloading Image #82 from https://weneedfun.com/wp-content/uploads/2016/03/Museum-Island-in-Berlin-8.jpg\n",
            "[%] File Downloaded !\n",
            "\n",
            "[%] Downloading Image #83 from https://www.wallpapers13.com/wp-content/uploads/2016/05/Maternal-love-Lioness-with-cub-Widescreen-free-download-1920x1440.jpg\n",
            "[%] File Downloaded !\n",
            "\n",
            "[%] Downloading Image #84 from http://www.littlebcakes.com/wp-content/uploads/2014/01/Cat-Cakes-For-Kids.jpg\n",
            "[%] File Downloaded !\n",
            "\n",
            "\n",
            "\n",
            "[!!]Indexing page: 11\n",
            "\n",
            "[%] Indexed 3 Images on Page 11.\n",
            "\n",
            "===============================================\n",
            "\n",
            "[%] Downloading Image #85 from https://weneedfun.com/wp-content/uploads/2016/03/Museum-Island-in-Berlin-8.jpg\n",
            "[%] File Downloaded !\n",
            "\n",
            "[%] Downloading Image #86 from https://www.wallpapers13.com/wp-content/uploads/2016/05/Maternal-love-Lioness-with-cub-Widescreen-free-download-1920x1440.jpg\n",
            "[%] File Downloaded !\n",
            "\n",
            "[%] Downloading Image #87 from http://www.littlebcakes.com/wp-content/uploads/2014/01/Cat-Cakes-For-Kids.jpg\n",
            "[%] File Downloaded !\n",
            "\n",
            "\n",
            "\n",
            "[!!]Indexing page: 12\n",
            "\n",
            "[%] Indexed 2 Images on Page 12.\n",
            "\n",
            "===============================================\n",
            "\n",
            "[%] Downloading Image #88 from https://www.wallpapers13.com/wp-content/uploads/2016/05/Maternal-love-Lioness-with-cub-Widescreen-free-download-1920x1440.jpg\n",
            "[%] File Downloaded !\n",
            "\n",
            "[%] Downloading Image #89 from http://www.littlebcakes.com/wp-content/uploads/2014/01/Cat-Cakes-For-Kids.jpg\n",
            "[%] File Downloaded !\n",
            "\n",
            "\n",
            "\n",
            "[!!]Indexing page: 13\n",
            "\n",
            "[%] Indexed 1 Images on Page 13.\n",
            "\n",
            "===============================================\n",
            "\n",
            "[%] Downloading Image #90 from http://ideastand.com/wp-content/uploads/2014/10/no-carve-pumpkin-ideas/15-monster.jpg\n",
            "[%] File Downloaded !\n",
            "\n",
            "\n",
            "\n",
            "[!!]Indexing page: 14\n",
            "\n",
            "[%] Indexed 12 Images on Page 14.\n",
            "\n",
            "===============================================\n",
            "\n",
            "[%] Downloading Image #91 from http://www.luvbat.com/uploads/baby_black_bear_smelling_flowers__362647883.jpg\n",
            "[%] File Downloaded !\n",
            "\n",
            "[%] Downloading Image #92 from http://www.ravenwoodpress.com/wp-content/uploads/picture-317.jpg\n",
            "[%] File Downloaded !\n",
            "\n",
            "[%] Downloading Image #93 from https://spongekids.com/wp-content/uploads/2014/04/pipe-cleaner-animals/52-pipe-cleaner-bees.JPG\n",
            "[%] File Downloaded !\n",
            "\n",
            "[%] Downloading Image #94 from https://hative.com/wp-content/uploads/2013/09/teddy-bear-drawings/teddy-bear-drawing-8.jpg\n",
            "[%] File Downloaded !\n",
            "\n",
            "[%] Downloading Image #95 from https://www.hdwallpapers.in/download/sunflowers_landscape-1366x768.jpg\n",
            "[%] File Downloaded !\n",
            "\n",
            "[%] Downloading Image #96 from https://weneedfun.com/wp-content/uploads/2016/03/Museum-Island-in-Berlin-8.jpg\n",
            "[%] File Downloaded !\n",
            "\n",
            "[%] Downloading Image #97 from https://www.theriaults.com/sites/default/files/lot_images/cat-1129_009_0.jpg\n",
            "[%] File Downloaded !\n",
            "\n",
            "[%] Downloading Image #98 from https://hative.com/wp-content/uploads/2014/04/pipe-cleaner-animals/18-pipe-cleaner-zebra.jpg\n",
            "[%] File Downloaded !\n",
            "\n",
            "[%] Downloading Image #99 from http://www.littlebcakes.com/wp-content/uploads/2014/01/Cat-Cakes-For-Kids.jpg\n",
            "[%] File Downloaded !\n",
            "\n",
            "[%] Downloading Image #100 from http://www.luvbat.com/uploads/cute_baby_gorilla_holding_onto_parents_arm_7638247678.jpg\n",
            "[%] File Downloaded !\n",
            "\n",
            "[%] Downloading Image #101 from https://spongekids.com/wp-content/uploads/2014/04/pipe-cleaner-animals/36-pipe-cleaner-rhino.jpg\n",
            "[%] File Downloaded !\n",
            "\n",
            "[%] Downloading Image #102 from https://www.wallpapers13.com/wp-content/uploads/2016/05/Maternal-love-Lioness-with-cub-Widescreen-free-download-1920x1440.jpg\n",
            "[%] File Downloaded !\n",
            "\n",
            "\n",
            "\n",
            "[!!]Indexing page: 15\n",
            "\n",
            "[%] Indexed 12 Images on Page 15.\n",
            "\n",
            "===============================================\n",
            "\n",
            "[%] Downloading Image #103 from http://www.luvbat.com/uploads/baby_black_bear_smelling_flowers__362647883.jpg\n",
            "[%] File Downloaded !\n",
            "\n",
            "[%] Downloading Image #104 from http://www.ravenwoodpress.com/wp-content/uploads/picture-317.jpg\n",
            "[%] File Downloaded !\n",
            "\n",
            "[%] Downloading Image #105 from https://spongekids.com/wp-content/uploads/2014/04/pipe-cleaner-animals/52-pipe-cleaner-bees.JPG\n",
            "[%] File Downloaded !\n",
            "\n",
            "[%] Downloading Image #106 from https://hative.com/wp-content/uploads/2013/09/teddy-bear-drawings/teddy-bear-drawing-8.jpg\n",
            "[%] File Downloaded !\n",
            "\n",
            "[%] Downloading Image #107 from https://www.hdwallpapers.in/download/sunflowers_landscape-1366x768.jpg\n",
            "[%] File Downloaded !\n",
            "\n",
            "[%] Downloading Image #108 from https://weneedfun.com/wp-content/uploads/2016/03/Museum-Island-in-Berlin-8.jpg\n",
            "[%] File Downloaded !\n",
            "\n",
            "[%] Downloading Image #109 from https://www.theriaults.com/sites/default/files/lot_images/cat-1129_009_0.jpg\n",
            "[%] File Downloaded !\n",
            "\n",
            "[%] Downloading Image #110 from https://hative.com/wp-content/uploads/2014/04/pipe-cleaner-animals/18-pipe-cleaner-zebra.jpg\n",
            "[%] File Downloaded !\n",
            "\n",
            "[%] Downloading Image #111 from http://www.littlebcakes.com/wp-content/uploads/2014/01/Cat-Cakes-For-Kids.jpg\n",
            "[%] File Downloaded !\n",
            "\n",
            "[%] Downloading Image #112 from http://www.luvbat.com/uploads/cute_baby_gorilla_holding_onto_parents_arm_7638247678.jpg\n",
            "[%] File Downloaded !\n",
            "\n",
            "[%] Downloading Image #113 from https://spongekids.com/wp-content/uploads/2014/04/pipe-cleaner-animals/36-pipe-cleaner-rhino.jpg\n",
            "[%] File Downloaded !\n",
            "\n",
            "[%] Downloading Image #114 from https://www.wallpapers13.com/wp-content/uploads/2016/05/Maternal-love-Lioness-with-cub-Widescreen-free-download-1920x1440.jpg\n",
            "[%] File Downloaded !\n",
            "\n",
            "\n",
            "\n",
            "[!!]Indexing page: 16\n",
            "\n",
            "[%] Indexed 12 Images on Page 16.\n",
            "\n",
            "===============================================\n",
            "\n",
            "[%] Downloading Image #115 from http://www.luvbat.com/uploads/baby_black_bear_smelling_flowers__362647883.jpg\n",
            "[%] File Downloaded !\n",
            "\n",
            "[%] Downloading Image #116 from http://www.ravenwoodpress.com/wp-content/uploads/picture-317.jpg\n",
            "[%] File Downloaded !\n",
            "\n",
            "[%] Downloading Image #117 from https://spongekids.com/wp-content/uploads/2014/04/pipe-cleaner-animals/52-pipe-cleaner-bees.JPG\n",
            "[%] File Downloaded !\n",
            "\n",
            "[%] Downloading Image #118 from https://hative.com/wp-content/uploads/2013/09/teddy-bear-drawings/teddy-bear-drawing-8.jpg\n",
            "[%] File Downloaded !\n",
            "\n",
            "[%] Downloading Image #119 from https://www.hdwallpapers.in/download/sunflowers_landscape-1366x768.jpg\n",
            "[%] File Downloaded !\n",
            "\n",
            "[%] Downloading Image #120 from https://weneedfun.com/wp-content/uploads/2016/03/Museum-Island-in-Berlin-8.jpg\n",
            "[%] File Downloaded !\n",
            "\n",
            "[%] Downloading Image #121 from https://www.theriaults.com/sites/default/files/lot_images/cat-1129_009_0.jpg\n",
            "[%] File Downloaded !\n",
            "\n",
            "[%] Downloading Image #122 from https://hative.com/wp-content/uploads/2014/04/pipe-cleaner-animals/18-pipe-cleaner-zebra.jpg\n",
            "[%] File Downloaded !\n",
            "\n",
            "[%] Downloading Image #123 from http://www.littlebcakes.com/wp-content/uploads/2014/01/Cat-Cakes-For-Kids.jpg\n",
            "[%] File Downloaded !\n",
            "\n",
            "[%] Downloading Image #124 from http://www.luvbat.com/uploads/cute_baby_gorilla_holding_onto_parents_arm_7638247678.jpg\n",
            "[%] File Downloaded !\n",
            "\n",
            "[%] Downloading Image #125 from https://spongekids.com/wp-content/uploads/2014/04/pipe-cleaner-animals/36-pipe-cleaner-rhino.jpg\n",
            "[%] File Downloaded !\n",
            "\n",
            "[%] Downloading Image #126 from https://www.wallpapers13.com/wp-content/uploads/2016/05/Maternal-love-Lioness-with-cub-Widescreen-free-download-1920x1440.jpg\n",
            "[%] File Downloaded !\n",
            "\n",
            "\n",
            "\n",
            "[!!]Indexing page: 17\n",
            "\n",
            "[%] Indexed 12 Images on Page 17.\n",
            "\n",
            "===============================================\n",
            "\n",
            "[%] Downloading Image #127 from http://www.luvbat.com/uploads/baby_black_bear_smelling_flowers__362647883.jpg\n",
            "[%] File Downloaded !\n",
            "\n",
            "[%] Downloading Image #128 from http://www.ravenwoodpress.com/wp-content/uploads/picture-317.jpg\n",
            "[%] File Downloaded !\n",
            "\n",
            "[%] Downloading Image #129 from https://spongekids.com/wp-content/uploads/2014/04/pipe-cleaner-animals/52-pipe-cleaner-bees.JPG\n",
            "[%] File Downloaded !\n",
            "\n",
            "[%] Downloading Image #130 from https://hative.com/wp-content/uploads/2013/09/teddy-bear-drawings/teddy-bear-drawing-8.jpg\n",
            "[%] File Downloaded !\n",
            "\n",
            "[%] Downloading Image #131 from https://www.hdwallpapers.in/download/sunflowers_landscape-1366x768.jpg\n",
            "[%] File Downloaded !\n",
            "\n",
            "[%] Downloading Image #132 from https://weneedfun.com/wp-content/uploads/2016/03/Museum-Island-in-Berlin-8.jpg\n",
            "[%] File Downloaded !\n",
            "\n",
            "[%] Downloading Image #133 from https://www.theriaults.com/sites/default/files/lot_images/cat-1129_009_0.jpg\n",
            "[%] File Downloaded !\n",
            "\n",
            "[%] Downloading Image #134 from https://hative.com/wp-content/uploads/2014/04/pipe-cleaner-animals/18-pipe-cleaner-zebra.jpg\n",
            "[%] File Downloaded !\n",
            "\n",
            "[%] Downloading Image #135 from http://www.littlebcakes.com/wp-content/uploads/2014/01/Cat-Cakes-For-Kids.jpg\n",
            "[%] File Downloaded !\n",
            "\n",
            "[%] Downloading Image #136 from http://www.luvbat.com/uploads/cute_baby_gorilla_holding_onto_parents_arm_7638247678.jpg\n",
            "[%] File Downloaded !\n",
            "\n",
            "[%] Downloading Image #137 from https://spongekids.com/wp-content/uploads/2014/04/pipe-cleaner-animals/36-pipe-cleaner-rhino.jpg\n",
            "[%] File Downloaded !\n",
            "\n",
            "[%] Downloading Image #138 from https://www.wallpapers13.com/wp-content/uploads/2016/05/Maternal-love-Lioness-with-cub-Widescreen-free-download-1920x1440.jpg\n",
            "[%] File Downloaded !\n",
            "\n",
            "\n",
            "\n",
            "[!!]Indexing page: 18\n",
            "\n",
            "[%] Indexed 12 Images on Page 18.\n",
            "\n",
            "===============================================\n",
            "\n",
            "[%] Downloading Image #139 from http://www.luvbat.com/uploads/baby_black_bear_smelling_flowers__362647883.jpg\n",
            "[%] File Downloaded !\n",
            "\n",
            "[%] Downloading Image #140 from http://www.ravenwoodpress.com/wp-content/uploads/picture-317.jpg\n",
            "[%] File Downloaded !\n",
            "\n",
            "[%] Downloading Image #141 from https://spongekids.com/wp-content/uploads/2014/04/pipe-cleaner-animals/52-pipe-cleaner-bees.JPG\n",
            "[%] File Downloaded !\n",
            "\n",
            "[%] Downloading Image #142 from https://hative.com/wp-content/uploads/2013/09/teddy-bear-drawings/teddy-bear-drawing-8.jpg\n",
            "[%] File Downloaded !\n",
            "\n",
            "[%] Downloading Image #143 from https://www.hdwallpapers.in/download/sunflowers_landscape-1366x768.jpg\n",
            "[%] File Downloaded !\n",
            "\n",
            "[%] Downloading Image #144 from https://weneedfun.com/wp-content/uploads/2016/03/Museum-Island-in-Berlin-8.jpg\n",
            "[%] File Downloaded !\n",
            "\n",
            "[%] Downloading Image #145 from https://www.theriaults.com/sites/default/files/lot_images/cat-1129_009_0.jpg\n",
            "[%] File Downloaded !\n",
            "\n",
            "[%] Downloading Image #146 from https://hative.com/wp-content/uploads/2014/04/pipe-cleaner-animals/18-pipe-cleaner-zebra.jpg\n",
            "[%] File Downloaded !\n",
            "\n",
            "[%] Downloading Image #147 from http://www.littlebcakes.com/wp-content/uploads/2014/01/Cat-Cakes-For-Kids.jpg\n",
            "[%] File Downloaded !\n",
            "\n",
            "[%] Downloading Image #148 from http://www.luvbat.com/uploads/cute_baby_gorilla_holding_onto_parents_arm_7638247678.jpg\n",
            "[%] File Downloaded !\n",
            "\n",
            "[%] Downloading Image #149 from https://spongekids.com/wp-content/uploads/2014/04/pipe-cleaner-animals/36-pipe-cleaner-rhino.jpg\n",
            "[%] File Downloaded !\n",
            "\n",
            "[%] Downloading Image #150 from https://www.wallpapers13.com/wp-content/uploads/2016/05/Maternal-love-Lioness-with-cub-Widescreen-free-download-1920x1440.jpg\n",
            "[%] File Downloaded !\n",
            "\n",
            "\n",
            "\n",
            "[!!]Indexing page: 1\n",
            "\n",
            "[%] Indexed 13 Images on Page 1.\n",
            "\n",
            "===============================================\n",
            "\n",
            "[%] Downloading Image #1 from http://bestanimations.com/Holidays/Valentines/teddy/teddy-bear-holing-heart-greeting-gif-2.gif\n",
            "[%] File Downloaded !\n",
            "\n",
            "[%] Downloading Image #2 from https://www.bing.com/th/id/OGC.0720b1530a20ef0cdb0becab52113b1a?pid=1.7&amp;rurl=http%3a%2f%2fbestanimations.com%2fHolidays%2fValentines%2fteddy%2fteddy-bear-holing-heart-greeting-gif-2.gif&amp;ehk=Ufl3CacGLbe3BiKY4EpcAkF%2bsXpxWKsW5C9zENh0wIg%3d\n",
            "[!] Issue getting: https://www.bing.com/th/id/OGC.0720b1530a20ef0cdb0becab52113b1a?pid=1.7&amp;rurl=http%3a%2f%2fbestanimations.com%2fHolidays%2fValentines%2fteddy%2fteddy-bear-holing-heart-greeting-gif-2.gif&amp;ehk=Ufl3CacGLbe3BiKY4EpcAkF%2bsXpxWKsW5C9zENh0wIg%3d\n",
            "[!] Error:: HTTP Error 404: Not Found\n",
            "[%] Downloading Image #2 from https://www.phototadka.com/wp-content/uploads/2018/07/Emma-Stone-Hot-Photo.jpg\n",
            "[%] File Downloaded !\n",
            "\n",
            "[%] Downloading Image #3 from https://www.anime-planet.com/images/characters/kyouko-machi-113902.jpg\n",
            "[%] File Downloaded !\n",
            "\n",
            "[%] Downloading Image #4 from https://editorial.designtaxi.com/news-bear1012/10.jpg\n",
            "[%] File Downloaded !\n",
            "\n",
            "[%] Downloading Image #5 from https://elrincondelgato.org/wp-content/uploads/sites/19/2018/04/German-Shepherd-Akita-Corgi-Mix-02.jpg\n",
            "[%] File Downloaded !\n",
            "\n",
            "[%] Downloading Image #6 from http://www.movienewz.com/wp-content/uploads/2014/12/interview_movie_poster_2.jpg\n",
            "[%] File Downloaded !\n",
            "\n",
            "[%] Downloading Image #7 from http://necaonline.com/wp-content/uploads/2019/03/Jason5.jpg\n",
            "[%] File Downloaded !\n",
            "\n",
            "[%] Downloading Image #8 from https://s3-eu-west-1.amazonaws.com/bowwowtimes-new/wp-content/uploads/2015/05/449384322441a2b6ef1fe2fecddb8bea.jpg\n",
            "[%] File Downloaded !\n",
            "\n",
            "[%] Downloading Image #9 from https://i.pinimg.com/736x/cf/53/c9/cf53c9070a36429894989c8c49dfd884--frozen-shoes-giant-stuffed-animals.jpg\n",
            "[%] File Downloaded !\n",
            "\n",
            "[%] Downloading Image #10 from http://shamrockroseaussies.com/yahoo_site_admin/assets/images/DSC_0600.79195412_std.JPG\n",
            "[%] File Downloaded !\n",
            "\n",
            "[%] Downloading Image #11 from https://hative.com/wp-content/uploads/2014/04/pipe-cleaner-animals/12-pipe-cleaner-lion.jpg\n",
            "[%] File Downloaded !\n",
            "\n",
            "[%] Downloading Image #12 from https://weneedfun.com/wp-content/uploads/2016/08/Wedding-Invitation-Background-Designs-151.jpg\n",
            "[%] File Downloaded !\n",
            "\n",
            "\n",
            "\n",
            "[!!]Indexing page: 2\n",
            "\n",
            "[%] Indexed 13 Images on Page 2.\n",
            "\n",
            "===============================================\n",
            "\n",
            "[%] Downloading Image #13 from http://bestanimations.com/Holidays/Valentines/teddy/teddy-bear-holing-heart-greeting-gif-2.gif\n",
            "[%] File Downloaded !\n",
            "\n",
            "[%] Downloading Image #14 from https://www.bing.com/th/id/OGC.0720b1530a20ef0cdb0becab52113b1a?pid=1.7&amp;rurl=http%3a%2f%2fbestanimations.com%2fHolidays%2fValentines%2fteddy%2fteddy-bear-holing-heart-greeting-gif-2.gif&amp;ehk=Ufl3CacGLbe3BiKY4EpcAkF%2bsXpxWKsW5C9zENh0wIg%3d\n",
            "[!] Issue getting: https://www.bing.com/th/id/OGC.0720b1530a20ef0cdb0becab52113b1a?pid=1.7&amp;rurl=http%3a%2f%2fbestanimations.com%2fHolidays%2fValentines%2fteddy%2fteddy-bear-holing-heart-greeting-gif-2.gif&amp;ehk=Ufl3CacGLbe3BiKY4EpcAkF%2bsXpxWKsW5C9zENh0wIg%3d\n",
            "[!] Error:: HTTP Error 404: Not Found\n",
            "[%] Downloading Image #14 from https://www.phototadka.com/wp-content/uploads/2018/07/Emma-Stone-Hot-Photo.jpg\n",
            "[%] File Downloaded !\n",
            "\n",
            "[%] Downloading Image #15 from https://www.anime-planet.com/images/characters/kyouko-machi-113902.jpg\n",
            "[%] File Downloaded !\n",
            "\n",
            "[%] Downloading Image #16 from https://editorial.designtaxi.com/news-bear1012/10.jpg\n",
            "[%] File Downloaded !\n",
            "\n",
            "[%] Downloading Image #17 from https://elrincondelgato.org/wp-content/uploads/sites/19/2018/04/German-Shepherd-Akita-Corgi-Mix-02.jpg\n",
            "[%] File Downloaded !\n",
            "\n",
            "[%] Downloading Image #18 from http://www.movienewz.com/wp-content/uploads/2014/12/interview_movie_poster_2.jpg\n",
            "[%] File Downloaded !\n",
            "\n",
            "[%] Downloading Image #19 from http://necaonline.com/wp-content/uploads/2019/03/Jason5.jpg\n",
            "[%] File Downloaded !\n",
            "\n",
            "[%] Downloading Image #20 from https://s3-eu-west-1.amazonaws.com/bowwowtimes-new/wp-content/uploads/2015/05/449384322441a2b6ef1fe2fecddb8bea.jpg\n",
            "[%] File Downloaded !\n",
            "\n",
            "[%] Downloading Image #21 from https://i.pinimg.com/736x/cf/53/c9/cf53c9070a36429894989c8c49dfd884--frozen-shoes-giant-stuffed-animals.jpg\n",
            "[%] File Downloaded !\n",
            "\n",
            "[%] Downloading Image #22 from http://shamrockroseaussies.com/yahoo_site_admin/assets/images/DSC_0600.79195412_std.JPG\n",
            "[%] File Downloaded !\n",
            "\n",
            "[%] Downloading Image #23 from https://hative.com/wp-content/uploads/2014/04/pipe-cleaner-animals/12-pipe-cleaner-lion.jpg\n",
            "[%] File Downloaded !\n",
            "\n",
            "[%] Downloading Image #24 from https://weneedfun.com/wp-content/uploads/2016/08/Wedding-Invitation-Background-Designs-151.jpg\n",
            "[%] File Downloaded !\n",
            "\n",
            "\n",
            "\n",
            "[!!]Indexing page: 3\n",
            "\n",
            "[%] Indexed 12 Images on Page 3.\n",
            "\n",
            "===============================================\n",
            "\n",
            "[%] Downloading Image #25 from https://bestanimations.com/Holidays/Valentines/teddy/teddy-bear-holing-heart-greeting-gif-2.gif\n",
            "[%] File Downloaded !\n",
            "\n",
            "[%] Downloading Image #26 from https://www.bing.com/th/id/OGC.0720b1530a20ef0cdb0becab52113b1a?pid=1.7&amp;rurl=https%3a%2f%2fbestanimations.com%2fHolidays%2fValentines%2fteddy%2fteddy-bear-holing-heart-greeting-gif-2.gif&amp;ehk=%2fC8%2bTkk2E2SURkuH5FHpOxkJdW%2fC2FLrhS5EFJ8VdsI%3d\n",
            "[!] Issue getting: https://www.bing.com/th/id/OGC.0720b1530a20ef0cdb0becab52113b1a?pid=1.7&amp;rurl=https%3a%2f%2fbestanimations.com%2fHolidays%2fValentines%2fteddy%2fteddy-bear-holing-heart-greeting-gif-2.gif&amp;ehk=%2fC8%2bTkk2E2SURkuH5FHpOxkJdW%2fC2FLrhS5EFJ8VdsI%3d\n",
            "[!] Error:: HTTP Error 404: Not Found\n",
            "[%] Downloading Image #26 from https://www.homeanddecor.com.sg/sites/default/files/imagecache/hnd_revamp_1x1_large/blog/gallery_article/gallery_images/65626-47102-pornsak-home-6.jpg\n",
            "[%] File Downloaded !\n",
            "\n",
            "[%] Downloading Image #27 from https://4.bp.blogspot.com/-EnpGZGZA1Gw/UQ6Xn8zZFyI/AAAAAAAACw8/_5wQqaXalQU/s1600/teddykey.jpg\n",
            "[%] File Downloaded !\n",
            "\n",
            "[%] Downloading Image #28 from https://www.hdwallpapers.in/download/2015_mad_max_fury_road_movie-1366x768.jpg\n",
            "[%] File Downloaded !\n",
            "\n",
            "[%] Downloading Image #29 from https://i.pinimg.com/736x/5b/ad/70/5bad70023bba2b860ff72110165c3f7a.jpg\n",
            "[%] File Downloaded !\n",
            "\n",
            "[%] Downloading Image #30 from https://i.pinimg.com/736x/8b/d2/2e/8bd22e82f61068fc3e9a38203b90d1a5.jpg\n",
            "[%] File Downloaded !\n",
            "\n",
            "[%] Downloading Image #31 from http://www.bearpawsbernedoodles.com/uploads/1/1/2/5/112540713/s787780043872250465_p1_i3_w2250.jpeg\n",
            "[%] File Downloaded !\n",
            "\n",
            "[%] Downloading Image #32 from https://weneedfun.com/wp-content/uploads/2016/05/Liverpool-5.jpg\n",
            "[%] File Downloaded !\n",
            "\n",
            "[%] Downloading Image #33 from http://shamrockroseaussies.com/yahoo_site_admin/assets/images/DSC_0294.41181503_std.JPG\n",
            "[%] File Downloaded !\n",
            "\n",
            "[%] Downloading Image #34 from https://spongekids.com/wp-content/uploads/2014/04/pipe-cleaner-animals/15-white-tailed-deer.jpg\n",
            "[%] File Downloaded !\n",
            "\n",
            "[%] Downloading Image #35 from https://flashbak.com/wp-content/uploads/2016/12/Christmas-tree-mom-28.jpg\n",
            "[%] File Downloaded !\n",
            "\n",
            "\n",
            "\n",
            "[!!]Indexing page: 4\n",
            "\n",
            "[%] Indexed 10 Images on Page 4.\n",
            "\n",
            "===============================================\n",
            "\n",
            "[%] Downloading Image #36 from https://4.bp.blogspot.com/-EnpGZGZA1Gw/UQ6Xn8zZFyI/AAAAAAAACw8/_5wQqaXalQU/s1600/teddykey.jpg\n",
            "[%] File Downloaded !\n",
            "\n",
            "[%] Downloading Image #37 from https://i.pinimg.com/736x/5b/ad/70/5bad70023bba2b860ff72110165c3f7a.jpg\n",
            "[%] File Downloaded !\n",
            "\n",
            "[%] Downloading Image #38 from https://i.pinimg.com/736x/8b/d2/2e/8bd22e82f61068fc3e9a38203b90d1a5.jpg\n",
            "[%] File Downloaded !\n",
            "\n",
            "[%] Downloading Image #39 from https://www.homeanddecor.com.sg/sites/default/files/imagecache/hnd_revamp_1x1_large/blog/gallery_article/gallery_images/65626-47102-pornsak-home-6.jpg\n",
            "[%] File Downloaded !\n",
            "\n",
            "[%] Downloading Image #40 from http://www.bearpawsbernedoodles.com/uploads/1/1/2/5/112540713/s787780043872250465_p1_i3_w2250.jpeg\n",
            "[%] File Downloaded !\n",
            "\n",
            "[%] Downloading Image #41 from https://weneedfun.com/wp-content/uploads/2016/05/Liverpool-5.jpg\n",
            "[%] File Downloaded !\n",
            "\n",
            "[%] Downloading Image #42 from http://shamrockroseaussies.com/yahoo_site_admin/assets/images/DSC_0294.41181503_std.JPG\n",
            "[%] File Downloaded !\n",
            "\n",
            "[%] Downloading Image #43 from https://spongekids.com/wp-content/uploads/2014/04/pipe-cleaner-animals/15-white-tailed-deer.jpg\n",
            "[%] File Downloaded !\n",
            "\n",
            "[%] Downloading Image #44 from https://www.hdwallpapers.in/download/2015_mad_max_fury_road_movie-1366x768.jpg\n",
            "[%] File Downloaded !\n",
            "\n",
            "[%] Downloading Image #45 from https://flashbak.com/wp-content/uploads/2016/12/Christmas-tree-mom-28.jpg\n",
            "[%] File Downloaded !\n",
            "\n",
            "\n",
            "\n",
            "[!!]Indexing page: 5\n",
            "\n",
            "[%] Indexed 9 Images on Page 5.\n",
            "\n",
            "===============================================\n",
            "\n",
            "[%] Downloading Image #46 from http://necaonline.com/wp-content/uploads/2019/03/Jason5.jpg\n",
            "[%] File Downloaded !\n",
            "\n",
            "[%] Downloading Image #47 from https://weneedfun.com/wp-content/uploads/2016/08/Wedding-Invitation-Background-Designs-151.jpg\n",
            "[%] File Downloaded !\n",
            "\n",
            "[%] Downloading Image #48 from https://i.pinimg.com/736x/cf/53/c9/cf53c9070a36429894989c8c49dfd884--frozen-shoes-giant-stuffed-animals.jpg\n",
            "[%] File Downloaded !\n",
            "\n",
            "[%] Downloading Image #49 from https://hative.com/wp-content/uploads/2014/04/pipe-cleaner-animals/12-pipe-cleaner-lion.jpg\n",
            "[%] File Downloaded !\n",
            "\n",
            "[%] Downloading Image #50 from https://www.phototadka.com/wp-content/uploads/2018/07/Emma-Stone-Hot-Photo.jpg\n",
            "[%] File Downloaded !\n",
            "\n",
            "[%] Downloading Image #51 from http://shamrockroseaussies.com/yahoo_site_admin/assets/images/DSC_0600.79195412_std.JPG\n",
            "[%] File Downloaded !\n",
            "\n",
            "[%] Downloading Image #52 from https://s3-eu-west-1.amazonaws.com/bowwowtimes-new/wp-content/uploads/2015/05/449384322441a2b6ef1fe2fecddb8bea.jpg\n",
            "[%] File Downloaded !\n",
            "\n",
            "[%] Downloading Image #53 from http://www.movienewz.com/wp-content/uploads/2014/12/interview_movie_poster_2.jpg\n",
            "[%] File Downloaded !\n",
            "\n",
            "[%] Downloading Image #54 from https://www.anime-planet.com/images/characters/kyouko-machi-113902.jpg\n",
            "[%] File Downloaded !\n",
            "\n",
            "\n",
            "\n",
            "[!!]Indexing page: 6\n",
            "\n",
            "[%] Indexed 8 Images on Page 6.\n",
            "\n",
            "===============================================\n",
            "\n",
            "[%] Downloading Image #55 from https://i.pinimg.com/736x/cf/53/c9/cf53c9070a36429894989c8c49dfd884--frozen-shoes-giant-stuffed-animals.jpg\n",
            "[%] File Downloaded !\n",
            "\n",
            "[%] Downloading Image #56 from https://www.phototadka.com/wp-content/uploads/2018/07/Emma-Stone-Hot-Photo.jpg\n",
            "[%] File Downloaded !\n",
            "\n",
            "[%] Downloading Image #57 from http://shamrockroseaussies.com/yahoo_site_admin/assets/images/DSC_0600.79195412_std.JPG\n",
            "[%] File Downloaded !\n",
            "\n",
            "[%] Downloading Image #58 from https://hative.com/wp-content/uploads/2014/04/pipe-cleaner-animals/12-pipe-cleaner-lion.jpg\n",
            "[%] File Downloaded !\n",
            "\n",
            "[%] Downloading Image #59 from https://weneedfun.com/wp-content/uploads/2016/08/Wedding-Invitation-Background-Designs-151.jpg\n",
            "[%] File Downloaded !\n",
            "\n",
            "[%] Downloading Image #60 from http://www.movienewz.com/wp-content/uploads/2014/12/interview_movie_poster_2.jpg\n",
            "[%] File Downloaded !\n",
            "\n",
            "[%] Downloading Image #61 from https://s3-eu-west-1.amazonaws.com/bowwowtimes-new/wp-content/uploads/2015/05/449384322441a2b6ef1fe2fecddb8bea.jpg\n",
            "[%] File Downloaded !\n",
            "\n",
            "[%] Downloading Image #62 from https://www.anime-planet.com/images/characters/kyouko-machi-113902.jpg\n",
            "[%] File Downloaded !\n",
            "\n",
            "\n",
            "\n",
            "[!!]Indexing page: 7\n",
            "\n",
            "[%] Indexed 7 Images on Page 7.\n",
            "\n",
            "===============================================\n",
            "\n",
            "[%] Downloading Image #63 from https://www.phototadka.com/wp-content/uploads/2018/07/Emma-Stone-Hot-Photo.jpg\n",
            "[%] File Downloaded !\n",
            "\n",
            "[%] Downloading Image #64 from http://shamrockroseaussies.com/yahoo_site_admin/assets/images/DSC_0600.79195412_std.JPG\n",
            "[%] File Downloaded !\n",
            "\n",
            "[%] Downloading Image #65 from http://www.movienewz.com/wp-content/uploads/2014/12/interview_movie_poster_2.jpg\n",
            "[%] File Downloaded !\n",
            "\n",
            "[%] Downloading Image #66 from https://s3-eu-west-1.amazonaws.com/bowwowtimes-new/wp-content/uploads/2015/05/449384322441a2b6ef1fe2fecddb8bea.jpg\n",
            "[%] File Downloaded !\n",
            "\n",
            "[%] Downloading Image #67 from https://weneedfun.com/wp-content/uploads/2016/08/Wedding-Invitation-Background-Designs-151.jpg\n",
            "[%] File Downloaded !\n",
            "\n",
            "[%] Downloading Image #68 from https://hative.com/wp-content/uploads/2014/04/pipe-cleaner-animals/12-pipe-cleaner-lion.jpg\n",
            "[%] File Downloaded !\n",
            "\n",
            "[%] Downloading Image #69 from https://www.anime-planet.com/images/characters/kyouko-machi-113902.jpg\n",
            "[%] File Downloaded !\n",
            "\n",
            "\n",
            "\n",
            "[!!]Indexing page: 8\n",
            "\n",
            "[%] Indexed 6 Images on Page 8.\n",
            "\n",
            "===============================================\n",
            "\n",
            "[%] Downloading Image #70 from http://shamrockroseaussies.com/yahoo_site_admin/assets/images/DSC_0600.79195412_std.JPG\n",
            "[%] File Downloaded !\n",
            "\n",
            "[%] Downloading Image #71 from https://weneedfun.com/wp-content/uploads/2016/08/Wedding-Invitation-Background-Designs-151.jpg\n",
            "[%] File Downloaded !\n",
            "\n",
            "[%] Downloading Image #72 from http://www.movienewz.com/wp-content/uploads/2014/12/interview_movie_poster_2.jpg\n",
            "[%] File Downloaded !\n",
            "\n",
            "[%] Downloading Image #73 from https://s3-eu-west-1.amazonaws.com/bowwowtimes-new/wp-content/uploads/2015/05/449384322441a2b6ef1fe2fecddb8bea.jpg\n",
            "[%] File Downloaded !\n",
            "\n",
            "[%] Downloading Image #74 from https://hative.com/wp-content/uploads/2014/04/pipe-cleaner-animals/12-pipe-cleaner-lion.jpg\n",
            "[%] File Downloaded !\n",
            "\n",
            "[%] Downloading Image #75 from https://www.anime-planet.com/images/characters/kyouko-machi-113902.jpg\n",
            "[%] File Downloaded !\n",
            "\n",
            "\n",
            "\n",
            "[!!]Indexing page: 9\n",
            "\n",
            "[%] Indexed 5 Images on Page 9.\n",
            "\n",
            "===============================================\n",
            "\n",
            "[%] Downloading Image #76 from http://www.movienewz.com/wp-content/uploads/2014/12/interview_movie_poster_2.jpg\n",
            "[%] File Downloaded !\n",
            "\n",
            "[%] Downloading Image #77 from https://s3-eu-west-1.amazonaws.com/bowwowtimes-new/wp-content/uploads/2015/05/449384322441a2b6ef1fe2fecddb8bea.jpg\n",
            "[%] File Downloaded !\n",
            "\n",
            "[%] Downloading Image #78 from https://hative.com/wp-content/uploads/2014/04/pipe-cleaner-animals/12-pipe-cleaner-lion.jpg\n",
            "[%] File Downloaded !\n",
            "\n",
            "[%] Downloading Image #79 from https://www.anime-planet.com/images/characters/kyouko-machi-113902.jpg\n",
            "[%] File Downloaded !\n",
            "\n",
            "[%] Downloading Image #80 from https://weneedfun.com/wp-content/uploads/2016/08/Wedding-Invitation-Background-Designs-151.jpg\n",
            "[%] File Downloaded !\n",
            "\n",
            "\n",
            "\n",
            "[!!]Indexing page: 10\n",
            "\n",
            "[%] Indexed 4 Images on Page 10.\n",
            "\n",
            "===============================================\n",
            "\n",
            "[%] Downloading Image #81 from https://s3-eu-west-1.amazonaws.com/bowwowtimes-new/wp-content/uploads/2015/05/449384322441a2b6ef1fe2fecddb8bea.jpg\n",
            "[%] File Downloaded !\n",
            "\n",
            "[%] Downloading Image #82 from https://hative.com/wp-content/uploads/2014/04/pipe-cleaner-animals/12-pipe-cleaner-lion.jpg\n",
            "[%] File Downloaded !\n",
            "\n",
            "[%] Downloading Image #83 from https://www.anime-planet.com/images/characters/kyouko-machi-113902.jpg\n",
            "[%] File Downloaded !\n",
            "\n",
            "[%] Downloading Image #84 from https://weneedfun.com/wp-content/uploads/2016/08/Wedding-Invitation-Background-Designs-151.jpg\n",
            "[%] File Downloaded !\n",
            "\n",
            "\n",
            "\n",
            "[!!]Indexing page: 11\n",
            "\n",
            "[%] Indexed 3 Images on Page 11.\n",
            "\n",
            "===============================================\n",
            "\n",
            "[%] Downloading Image #85 from https://hative.com/wp-content/uploads/2014/04/pipe-cleaner-animals/12-pipe-cleaner-lion.jpg\n",
            "[%] File Downloaded !\n",
            "\n",
            "[%] Downloading Image #86 from https://www.anime-planet.com/images/characters/kyouko-machi-113902.jpg\n",
            "[%] File Downloaded !\n",
            "\n",
            "[%] Downloading Image #87 from https://weneedfun.com/wp-content/uploads/2016/08/Wedding-Invitation-Background-Designs-151.jpg\n",
            "[%] File Downloaded !\n",
            "\n",
            "\n",
            "\n",
            "[!!]Indexing page: 12\n",
            "\n",
            "[%] Indexed 2 Images on Page 12.\n",
            "\n",
            "===============================================\n",
            "\n",
            "[%] Downloading Image #88 from https://www.anime-planet.com/images/characters/kyouko-machi-113902.jpg\n",
            "[%] File Downloaded !\n",
            "\n",
            "[%] Downloading Image #89 from https://weneedfun.com/wp-content/uploads/2016/08/Wedding-Invitation-Background-Designs-151.jpg\n",
            "[%] File Downloaded !\n",
            "\n",
            "\n",
            "\n",
            "[!!]Indexing page: 13\n",
            "\n",
            "[%] Indexed 1 Images on Page 13.\n",
            "\n",
            "===============================================\n",
            "\n",
            "[%] Downloading Image #90 from https://weneedfun.com/wp-content/uploads/2016/08/Wedding-Invitation-Background-Designs-151.jpg\n",
            "[%] File Downloaded !\n",
            "\n",
            "\n",
            "\n",
            "[!!]Indexing page: 14\n",
            "\n",
            "[%] Indexed 13 Images on Page 14.\n",
            "\n",
            "===============================================\n",
            "\n",
            "[%] Downloading Image #91 from http://bestanimations.com/Holidays/Valentines/teddy/teddy-bear-holing-heart-greeting-gif-2.gif\n",
            "[%] File Downloaded !\n",
            "\n",
            "[%] Downloading Image #92 from https://www.bing.com/th/id/OGC.0720b1530a20ef0cdb0becab52113b1a?pid=1.7&amp;rurl=http%3a%2f%2fbestanimations.com%2fHolidays%2fValentines%2fteddy%2fteddy-bear-holing-heart-greeting-gif-2.gif&amp;ehk=Ufl3CacGLbe3BiKY4EpcAkF%2bsXpxWKsW5C9zENh0wIg%3d\n",
            "[!] Issue getting: https://www.bing.com/th/id/OGC.0720b1530a20ef0cdb0becab52113b1a?pid=1.7&amp;rurl=http%3a%2f%2fbestanimations.com%2fHolidays%2fValentines%2fteddy%2fteddy-bear-holing-heart-greeting-gif-2.gif&amp;ehk=Ufl3CacGLbe3BiKY4EpcAkF%2bsXpxWKsW5C9zENh0wIg%3d\n",
            "[!] Error:: HTTP Error 404: Not Found\n",
            "[%] Downloading Image #92 from https://www.phototadka.com/wp-content/uploads/2018/07/Emma-Stone-Hot-Photo.jpg\n",
            "[%] File Downloaded !\n",
            "\n",
            "[%] Downloading Image #93 from https://www.anime-planet.com/images/characters/kyouko-machi-113902.jpg\n",
            "[%] File Downloaded !\n",
            "\n",
            "[%] Downloading Image #94 from https://editorial.designtaxi.com/news-bear1012/10.jpg\n",
            "[%] File Downloaded !\n",
            "\n",
            "[%] Downloading Image #95 from https://elrincondelgato.org/wp-content/uploads/sites/19/2018/04/German-Shepherd-Akita-Corgi-Mix-02.jpg\n",
            "[%] File Downloaded !\n",
            "\n",
            "[%] Downloading Image #96 from http://www.movienewz.com/wp-content/uploads/2014/12/interview_movie_poster_2.jpg\n",
            "[%] File Downloaded !\n",
            "\n",
            "[%] Downloading Image #97 from http://necaonline.com/wp-content/uploads/2019/03/Jason5.jpg\n",
            "[%] File Downloaded !\n",
            "\n",
            "[%] Downloading Image #98 from https://s3-eu-west-1.amazonaws.com/bowwowtimes-new/wp-content/uploads/2015/05/449384322441a2b6ef1fe2fecddb8bea.jpg\n",
            "[%] File Downloaded !\n",
            "\n",
            "[%] Downloading Image #99 from https://i.pinimg.com/736x/cf/53/c9/cf53c9070a36429894989c8c49dfd884--frozen-shoes-giant-stuffed-animals.jpg\n",
            "[%] File Downloaded !\n",
            "\n",
            "[%] Downloading Image #100 from http://shamrockroseaussies.com/yahoo_site_admin/assets/images/DSC_0600.79195412_std.JPG\n",
            "[%] File Downloaded !\n",
            "\n",
            "[%] Downloading Image #101 from https://hative.com/wp-content/uploads/2014/04/pipe-cleaner-animals/12-pipe-cleaner-lion.jpg\n",
            "[%] File Downloaded !\n",
            "\n",
            "[%] Downloading Image #102 from https://weneedfun.com/wp-content/uploads/2016/08/Wedding-Invitation-Background-Designs-151.jpg\n",
            "[%] File Downloaded !\n",
            "\n",
            "\n",
            "\n",
            "[!!]Indexing page: 15\n",
            "\n",
            "[%] Indexed 13 Images on Page 15.\n",
            "\n",
            "===============================================\n",
            "\n",
            "[%] Downloading Image #103 from http://bestanimations.com/Holidays/Valentines/teddy/teddy-bear-holing-heart-greeting-gif-2.gif\n",
            "[%] File Downloaded !\n",
            "\n",
            "[%] Downloading Image #104 from https://www.bing.com/th/id/OGC.0720b1530a20ef0cdb0becab52113b1a?pid=1.7&amp;rurl=http%3a%2f%2fbestanimations.com%2fHolidays%2fValentines%2fteddy%2fteddy-bear-holing-heart-greeting-gif-2.gif&amp;ehk=Ufl3CacGLbe3BiKY4EpcAkF%2bsXpxWKsW5C9zENh0wIg%3d\n",
            "[!] Issue getting: https://www.bing.com/th/id/OGC.0720b1530a20ef0cdb0becab52113b1a?pid=1.7&amp;rurl=http%3a%2f%2fbestanimations.com%2fHolidays%2fValentines%2fteddy%2fteddy-bear-holing-heart-greeting-gif-2.gif&amp;ehk=Ufl3CacGLbe3BiKY4EpcAkF%2bsXpxWKsW5C9zENh0wIg%3d\n",
            "[!] Error:: HTTP Error 404: Not Found\n",
            "[%] Downloading Image #104 from https://www.phototadka.com/wp-content/uploads/2018/07/Emma-Stone-Hot-Photo.jpg\n",
            "[%] File Downloaded !\n",
            "\n",
            "[%] Downloading Image #105 from https://www.anime-planet.com/images/characters/kyouko-machi-113902.jpg\n",
            "[%] File Downloaded !\n",
            "\n",
            "[%] Downloading Image #106 from https://editorial.designtaxi.com/news-bear1012/10.jpg\n",
            "[%] File Downloaded !\n",
            "\n",
            "[%] Downloading Image #107 from https://elrincondelgato.org/wp-content/uploads/sites/19/2018/04/German-Shepherd-Akita-Corgi-Mix-02.jpg\n",
            "[%] File Downloaded !\n",
            "\n",
            "[%] Downloading Image #108 from http://www.movienewz.com/wp-content/uploads/2014/12/interview_movie_poster_2.jpg\n",
            "[%] File Downloaded !\n",
            "\n",
            "[%] Downloading Image #109 from http://necaonline.com/wp-content/uploads/2019/03/Jason5.jpg\n",
            "[%] File Downloaded !\n",
            "\n",
            "[%] Downloading Image #110 from https://s3-eu-west-1.amazonaws.com/bowwowtimes-new/wp-content/uploads/2015/05/449384322441a2b6ef1fe2fecddb8bea.jpg\n",
            "[%] File Downloaded !\n",
            "\n",
            "[%] Downloading Image #111 from https://i.pinimg.com/736x/cf/53/c9/cf53c9070a36429894989c8c49dfd884--frozen-shoes-giant-stuffed-animals.jpg\n",
            "[%] File Downloaded !\n",
            "\n",
            "[%] Downloading Image #112 from http://shamrockroseaussies.com/yahoo_site_admin/assets/images/DSC_0600.79195412_std.JPG\n",
            "[%] File Downloaded !\n",
            "\n",
            "[%] Downloading Image #113 from https://hative.com/wp-content/uploads/2014/04/pipe-cleaner-animals/12-pipe-cleaner-lion.jpg\n",
            "[%] File Downloaded !\n",
            "\n",
            "[%] Downloading Image #114 from https://weneedfun.com/wp-content/uploads/2016/08/Wedding-Invitation-Background-Designs-151.jpg\n",
            "[%] File Downloaded !\n",
            "\n",
            "\n",
            "\n",
            "[!!]Indexing page: 16\n",
            "\n",
            "[%] Indexed 13 Images on Page 16.\n",
            "\n",
            "===============================================\n",
            "\n",
            "[%] Downloading Image #115 from http://bestanimations.com/Holidays/Valentines/teddy/teddy-bear-holing-heart-greeting-gif-2.gif\n",
            "[%] File Downloaded !\n",
            "\n",
            "[%] Downloading Image #116 from https://www.bing.com/th/id/OGC.0720b1530a20ef0cdb0becab52113b1a?pid=1.7&amp;rurl=http%3a%2f%2fbestanimations.com%2fHolidays%2fValentines%2fteddy%2fteddy-bear-holing-heart-greeting-gif-2.gif&amp;ehk=Ufl3CacGLbe3BiKY4EpcAkF%2bsXpxWKsW5C9zENh0wIg%3d\n",
            "[!] Issue getting: https://www.bing.com/th/id/OGC.0720b1530a20ef0cdb0becab52113b1a?pid=1.7&amp;rurl=http%3a%2f%2fbestanimations.com%2fHolidays%2fValentines%2fteddy%2fteddy-bear-holing-heart-greeting-gif-2.gif&amp;ehk=Ufl3CacGLbe3BiKY4EpcAkF%2bsXpxWKsW5C9zENh0wIg%3d\n",
            "[!] Error:: HTTP Error 404: Not Found\n",
            "[%] Downloading Image #116 from https://www.phototadka.com/wp-content/uploads/2018/07/Emma-Stone-Hot-Photo.jpg\n",
            "[%] File Downloaded !\n",
            "\n",
            "[%] Downloading Image #117 from https://www.anime-planet.com/images/characters/kyouko-machi-113902.jpg\n",
            "[%] File Downloaded !\n",
            "\n",
            "[%] Downloading Image #118 from https://editorial.designtaxi.com/news-bear1012/10.jpg\n",
            "[%] File Downloaded !\n",
            "\n",
            "[%] Downloading Image #119 from https://elrincondelgato.org/wp-content/uploads/sites/19/2018/04/German-Shepherd-Akita-Corgi-Mix-02.jpg\n",
            "[%] File Downloaded !\n",
            "\n",
            "[%] Downloading Image #120 from http://www.movienewz.com/wp-content/uploads/2014/12/interview_movie_poster_2.jpg\n",
            "[%] File Downloaded !\n",
            "\n",
            "[%] Downloading Image #121 from http://necaonline.com/wp-content/uploads/2019/03/Jason5.jpg\n",
            "[%] File Downloaded !\n",
            "\n",
            "[%] Downloading Image #122 from https://s3-eu-west-1.amazonaws.com/bowwowtimes-new/wp-content/uploads/2015/05/449384322441a2b6ef1fe2fecddb8bea.jpg\n",
            "[%] File Downloaded !\n",
            "\n",
            "[%] Downloading Image #123 from https://i.pinimg.com/736x/cf/53/c9/cf53c9070a36429894989c8c49dfd884--frozen-shoes-giant-stuffed-animals.jpg\n",
            "[%] File Downloaded !\n",
            "\n",
            "[%] Downloading Image #124 from http://shamrockroseaussies.com/yahoo_site_admin/assets/images/DSC_0600.79195412_std.JPG\n",
            "[%] File Downloaded !\n",
            "\n",
            "[%] Downloading Image #125 from https://hative.com/wp-content/uploads/2014/04/pipe-cleaner-animals/12-pipe-cleaner-lion.jpg\n",
            "[%] File Downloaded !\n",
            "\n",
            "[%] Downloading Image #126 from https://weneedfun.com/wp-content/uploads/2016/08/Wedding-Invitation-Background-Designs-151.jpg\n",
            "[%] File Downloaded !\n",
            "\n",
            "\n",
            "\n",
            "[!!]Indexing page: 17\n",
            "\n",
            "[%] Indexed 13 Images on Page 17.\n",
            "\n",
            "===============================================\n",
            "\n",
            "[%] Downloading Image #127 from http://bestanimations.com/Holidays/Valentines/teddy/teddy-bear-holing-heart-greeting-gif-2.gif\n",
            "[%] File Downloaded !\n",
            "\n",
            "[%] Downloading Image #128 from https://www.bing.com/th/id/OGC.0720b1530a20ef0cdb0becab52113b1a?pid=1.7&amp;rurl=http%3a%2f%2fbestanimations.com%2fHolidays%2fValentines%2fteddy%2fteddy-bear-holing-heart-greeting-gif-2.gif&amp;ehk=Ufl3CacGLbe3BiKY4EpcAkF%2bsXpxWKsW5C9zENh0wIg%3d\n",
            "[!] Issue getting: https://www.bing.com/th/id/OGC.0720b1530a20ef0cdb0becab52113b1a?pid=1.7&amp;rurl=http%3a%2f%2fbestanimations.com%2fHolidays%2fValentines%2fteddy%2fteddy-bear-holing-heart-greeting-gif-2.gif&amp;ehk=Ufl3CacGLbe3BiKY4EpcAkF%2bsXpxWKsW5C9zENh0wIg%3d\n",
            "[!] Error:: HTTP Error 404: Not Found\n",
            "[%] Downloading Image #128 from https://www.phototadka.com/wp-content/uploads/2018/07/Emma-Stone-Hot-Photo.jpg\n",
            "[%] File Downloaded !\n",
            "\n",
            "[%] Downloading Image #129 from https://www.anime-planet.com/images/characters/kyouko-machi-113902.jpg\n",
            "[%] File Downloaded !\n",
            "\n",
            "[%] Downloading Image #130 from https://editorial.designtaxi.com/news-bear1012/10.jpg\n",
            "[%] File Downloaded !\n",
            "\n",
            "[%] Downloading Image #131 from https://elrincondelgato.org/wp-content/uploads/sites/19/2018/04/German-Shepherd-Akita-Corgi-Mix-02.jpg\n",
            "[%] File Downloaded !\n",
            "\n",
            "[%] Downloading Image #132 from http://www.movienewz.com/wp-content/uploads/2014/12/interview_movie_poster_2.jpg\n",
            "[%] File Downloaded !\n",
            "\n",
            "[%] Downloading Image #133 from http://necaonline.com/wp-content/uploads/2019/03/Jason5.jpg\n",
            "[%] File Downloaded !\n",
            "\n",
            "[%] Downloading Image #134 from https://s3-eu-west-1.amazonaws.com/bowwowtimes-new/wp-content/uploads/2015/05/449384322441a2b6ef1fe2fecddb8bea.jpg\n",
            "[%] File Downloaded !\n",
            "\n",
            "[%] Downloading Image #135 from https://i.pinimg.com/736x/cf/53/c9/cf53c9070a36429894989c8c49dfd884--frozen-shoes-giant-stuffed-animals.jpg\n",
            "[%] File Downloaded !\n",
            "\n",
            "[%] Downloading Image #136 from http://shamrockroseaussies.com/yahoo_site_admin/assets/images/DSC_0600.79195412_std.JPG\n",
            "[%] File Downloaded !\n",
            "\n",
            "[%] Downloading Image #137 from https://hative.com/wp-content/uploads/2014/04/pipe-cleaner-animals/12-pipe-cleaner-lion.jpg\n",
            "[%] File Downloaded !\n",
            "\n",
            "[%] Downloading Image #138 from https://weneedfun.com/wp-content/uploads/2016/08/Wedding-Invitation-Background-Designs-151.jpg\n",
            "[%] File Downloaded !\n",
            "\n",
            "\n",
            "\n",
            "[!!]Indexing page: 18\n",
            "\n",
            "[%] Indexed 13 Images on Page 18.\n",
            "\n",
            "===============================================\n",
            "\n",
            "[%] Downloading Image #139 from http://bestanimations.com/Holidays/Valentines/teddy/teddy-bear-holing-heart-greeting-gif-2.gif\n",
            "[%] File Downloaded !\n",
            "\n",
            "[%] Downloading Image #140 from https://www.bing.com/th/id/OGC.0720b1530a20ef0cdb0becab52113b1a?pid=1.7&amp;rurl=http%3a%2f%2fbestanimations.com%2fHolidays%2fValentines%2fteddy%2fteddy-bear-holing-heart-greeting-gif-2.gif&amp;ehk=Ufl3CacGLbe3BiKY4EpcAkF%2bsXpxWKsW5C9zENh0wIg%3d\n",
            "[!] Issue getting: https://www.bing.com/th/id/OGC.0720b1530a20ef0cdb0becab52113b1a?pid=1.7&amp;rurl=http%3a%2f%2fbestanimations.com%2fHolidays%2fValentines%2fteddy%2fteddy-bear-holing-heart-greeting-gif-2.gif&amp;ehk=Ufl3CacGLbe3BiKY4EpcAkF%2bsXpxWKsW5C9zENh0wIg%3d\n",
            "[!] Error:: HTTP Error 404: Not Found\n",
            "[%] Downloading Image #140 from https://www.phototadka.com/wp-content/uploads/2018/07/Emma-Stone-Hot-Photo.jpg\n",
            "[%] File Downloaded !\n",
            "\n",
            "[%] Downloading Image #141 from https://www.anime-planet.com/images/characters/kyouko-machi-113902.jpg\n",
            "[%] File Downloaded !\n",
            "\n",
            "[%] Downloading Image #142 from https://editorial.designtaxi.com/news-bear1012/10.jpg\n",
            "[%] File Downloaded !\n",
            "\n",
            "[%] Downloading Image #143 from https://elrincondelgato.org/wp-content/uploads/sites/19/2018/04/German-Shepherd-Akita-Corgi-Mix-02.jpg\n",
            "[%] File Downloaded !\n",
            "\n",
            "[%] Downloading Image #144 from http://www.movienewz.com/wp-content/uploads/2014/12/interview_movie_poster_2.jpg\n",
            "[%] File Downloaded !\n",
            "\n",
            "[%] Downloading Image #145 from http://necaonline.com/wp-content/uploads/2019/03/Jason5.jpg\n",
            "[%] File Downloaded !\n",
            "\n",
            "[%] Downloading Image #146 from https://s3-eu-west-1.amazonaws.com/bowwowtimes-new/wp-content/uploads/2015/05/449384322441a2b6ef1fe2fecddb8bea.jpg\n",
            "[%] File Downloaded !\n",
            "\n",
            "[%] Downloading Image #147 from https://i.pinimg.com/736x/cf/53/c9/cf53c9070a36429894989c8c49dfd884--frozen-shoes-giant-stuffed-animals.jpg\n",
            "[%] File Downloaded !\n",
            "\n",
            "[%] Downloading Image #148 from http://shamrockroseaussies.com/yahoo_site_admin/assets/images/DSC_0600.79195412_std.JPG\n",
            "[%] File Downloaded !\n",
            "\n",
            "[%] Downloading Image #149 from https://hative.com/wp-content/uploads/2014/04/pipe-cleaner-animals/12-pipe-cleaner-lion.jpg\n",
            "[%] File Downloaded !\n",
            "\n",
            "[%] Downloading Image #150 from https://weneedfun.com/wp-content/uploads/2016/08/Wedding-Invitation-Background-Designs-151.jpg\n",
            "[%] File Downloaded !\n",
            "\n"
          ],
          "name": "stdout"
        }
      ]
    },
    {
      "cell_type": "markdown",
      "metadata": {
        "id": "tphuqkNrWEIj"
      },
      "source": [
        "We've successfully downloaded the URLs of 150 grizzly bears (or, at least, images that Bing Image Search finds for that search term). \n",
        "\n",
        "**NB**: there's no way to be sure exactly what images a search like this will find. The results can change over time. We've heard of at least one case of a community member who found some unpleasant pictures of dead bears in their search results. You'll receive whatever images are found by the web search engine. If you're running this at work, or with kids, etc, then be cautious before you display the downloaded images.\n",
        "\n",
        "Let's look at one:"
      ]
    },
    {
      "cell_type": "code",
      "metadata": {
        "hide_input": true,
        "id": "PpTLcIAOWEIj"
      },
      "source": [
        "#just copy a link from the search results above\n",
        "ims = ['http://it.wikifur.com/w/images/6/64/Grizzlylive.jpg']"
      ],
      "execution_count": 6,
      "outputs": []
    },
    {
      "cell_type": "code",
      "metadata": {
        "id": "rx0CT5b-WEIk",
        "colab": {
          "base_uri": "https://localhost:8080/",
          "height": 17
        },
        "outputId": "d55217b4-619e-4bb9-ce7f-b212709b0f43"
      },
      "source": [
        "#deleted the first part of the code since i dodon't have an Images path in my drive folder\n",
        "# file has to be renamed if you change the link\n",
        "dest = 'bear3.jpg'\n",
        "download_url(ims[0], dest)"
      ],
      "execution_count": 7,
      "outputs": [
        {
          "output_type": "display_data",
          "data": {
            "text/html": [
              ""
            ],
            "text/plain": [
              "<IPython.core.display.HTML object>"
            ]
          },
          "metadata": {
            "tags": []
          }
        }
      ]
    },
    {
      "cell_type": "code",
      "metadata": {
        "id": "YXNkgpozWEIk",
        "colab": {
          "base_uri": "https://localhost:8080/",
          "height": 145
        },
        "outputId": "08fe5856-00e5-41e5-b3ee-f2edf0fc4e6a"
      },
      "source": [
        "im = Image.open(dest)\n",
        "im.to_thumb(128,128)"
      ],
      "execution_count": 8,
      "outputs": [
        {
          "output_type": "execute_result",
          "data": {
            "image/png": "[encoded data removed]",
            "text/plain": [
              "<PIL.Image.Image image mode=RGB size=96x128 at 0x7F63ADFECD90>"
            ]
          },
          "metadata": {
            "tags": []
          },
          "execution_count": 8
        }
      ]
    },
    {
      "cell_type": "markdown",
      "metadata": {
        "id": "Sd8PmOfoWEIk"
      },
      "source": [
        "This seems to have worked nicely, so let's use fastai's `download_images` to download all the URLs for each of our search terms. We'll put each in a separate folder:"
      ]
    },
    {
      "cell_type": "code",
      "metadata": {
        "id": "PVjYEEjXWEIk"
      },
      "source": [
        "bear_types = 'grizzly bear','black bear','teddy'\n",
        "path = Path('bears')"
      ],
      "execution_count": 9,
      "outputs": []
    },
    {
      "cell_type": "code",
      "metadata": {
        "id": "dm2Wql_dWEIl"
      },
      "source": [
        "if not path.exists():\n",
        "    path.mkdir()\n",
        "    for o in bear_types:\n",
        "        dest = (path/o)\n",
        "        dest.mkdir(exist_ok=True)\n",
        "        results = search_images_bing(key, f'{o} bear')\n",
        "        download_images(dest, urls=results.attrgot('contentUrl'))"
      ],
      "execution_count": 10,
      "outputs": []
    },
    {
      "cell_type": "markdown",
      "metadata": {
        "id": "UO9zoGFSWEIl"
      },
      "source": [
        "Our folder has image files, as we'd expect:"
      ]
    },
    {
      "cell_type": "code",
      "metadata": {
        "id": "rd27Kow2WEIl",
        "colab": {
          "base_uri": "https://localhost:8080/"
        },
        "outputId": "84e41ddc-2e04-4816-c77b-abb86d641940"
      },
      "source": [
        "fns = get_image_files(path)\n",
        "fns"
      ],
      "execution_count": 11,
      "outputs": [
        {
          "output_type": "execute_result",
          "data": {
            "text/plain": [
              "(#450) [Path('bears/grizzly bear/Image_96.jpg'),Path('bears/grizzly bear/Image_150.jpg'),Path('bears/grizzly bear/Image_37.jpg'),Path('bears/grizzly bear/Image_9.jpg'),Path('bears/grizzly bear/Image_84.jpg'),Path('bears/grizzly bear/Image_70.jpg'),Path('bears/grizzly bear/Image_35.jpg'),Path('bears/grizzly bear/Image_90.jpg'),Path('bears/grizzly bear/Image_44.jpg'),Path('bears/grizzly bear/Image_4.jpg')...]"
            ]
          },
          "metadata": {
            "tags": []
          },
          "execution_count": 11
        }
      ]
    },
    {
      "cell_type": "code",
      "metadata": {
        "id": "KEwYDav3WEIp"
      },
      "source": [
        "bears = DataBlock(\n",
        "    blocks=(ImageBlock, CategoryBlock), \n",
        "    get_items=get_image_files, \n",
        "    splitter=RandomSplitter(valid_pct=0.2, seed=42),\n",
        "    get_y=parent_label,\n",
        "    item_tfms=Resize(128))"
      ],
      "execution_count": 13,
      "outputs": []
    },
    {
      "cell_type": "code",
      "metadata": {
        "id": "LNN9T_1qWEIp"
      },
      "source": [
        "dls = bears.dataloaders(path)"
      ],
      "execution_count": 14,
      "outputs": []
    },
    {
      "cell_type": "markdown",
      "metadata": {
        "id": "M-DfUvdjWEIq"
      },
      "source": [
        "A `DataLoaders` includes validation and training `DataLoader`s. `DataLoader` is a class that provides batches of a few items at a time to the GPU. We'll be learning a lot more about this class in the next chapter. When you loop through a `DataLoader` fastai will give you 64 (by default) items at a time, all stacked up into a single tensor. We can take a look at a few of those items by calling the `show_batch` method on a `DataLoader`:"
      ]
    },
    {
      "cell_type": "code",
      "metadata": {
        "id": "cqVZi5PwWEIq",
        "colab": {
          "base_uri": "https://localhost:8080/",
          "height": 192
        },
        "outputId": "6e06b5c7-c1c7-4d00-82f1-92bce39607db"
      },
      "source": [
        "dls.valid.show_batch(max_n=4, nrows=1)"
      ],
      "execution_count": 15,
      "outputs": [
        {
          "output_type": "display_data",
          "data": {
            "image/png": "[encoded data removed]",
            "text/plain": [
              "<Figure size 864x216 with 4 Axes>"
            ]
          },
          "metadata": {
            "tags": [],
            "needs_background": "light"
          }
        }
      ]
    },
    {
      "cell_type": "markdown",
      "metadata": {
        "id": "1a_3eG10WEIv"
      },
      "source": [
        "Now that we have assembled our data in a format fit for model training, let's actually train an image classifier using it."
      ]
    },
    {
      "cell_type": "markdown",
      "metadata": {
        "id": "vtbmT87bWEIw"
      },
      "source": [
        "## Training Your Model, and Using It to Clean Your Data"
      ]
    },
    {
      "cell_type": "markdown",
      "metadata": {
        "id": "Cz9GGzKmWEIw"
      },
      "source": [
        "Time to use the same lines of code as in <<chapter_intro>> to train our bear classifier.\n",
        "\n",
        "We don't have a lot of data for our problem (150 pictures of each sort of bear at most), so to train our model, we'll use `RandomResizedCrop` with an image size of 224 px, which is fairly standard for image classification, and default `aug_transforms`:"
      ]
    },
    {
      "cell_type": "code",
      "metadata": {
        "id": "AC82aC1GWEIw"
      },
      "source": [
        "bears = bears.new(\n",
        "    item_tfms=RandomResizedCrop(224, min_scale=0.5),\n",
        "    batch_tfms=aug_transforms())\n",
        "dls = bears.dataloaders(path)"
      ],
      "execution_count": 16,
      "outputs": []
    },
    {
      "cell_type": "markdown",
      "metadata": {
        "id": "ASVSeMpxWEIw"
      },
      "source": [
        "We can now create our `Learner` and fine-tune it in the usual way:"
      ]
    },
    {
      "cell_type": "code",
      "metadata": {
        "id": "jqkqlpHfWEIw",
        "colab": {
          "base_uri": "https://localhost:8080/",
          "height": 302,
          "referenced_widgets": [
            "bdb9f37f9375471e86954d71076f6504",
            "3d7b9c020b684a72b0275265140afbd0",
            "17f33b10ca1142a9a24a66a506668605",
            "fecd0f4c0aef48ac9f9e579134ec83ea",
            "c0785af89d9e4ab1b7002b1effb04fe6",
            "4f5bf9e072fa4deeb566c4a16d8a6f9f",
            "8a263710ab3847cdb191e35a8bb33b51",
            "52739649ea134682ab9af51342f67e38"
          ]
        },
        "outputId": "d7ad7620-e307-4433-9128-dab0f111e5fb"
      },
      "source": [
        "learn = cnn_learner(dls, resnet18, metrics=error_rate)\n",
        "learn.fine_tune(4)"
      ],
      "execution_count": 17,
      "outputs": [
        {
          "output_type": "stream",
          "text": [
            "Downloading: \"https://download.pytorch.org/models/resnet18-5c106cde.pth\" to /root/.cache/torch/hub/checkpoints/resnet18-5c106cde.pth\n"
          ],
          "name": "stderr"
        },
        {
          "output_type": "display_data",
          "data": {
            "application/vnd.jupyter.widget-view+json": {
              "model_id": "bdb9f37f9375471e86954d71076f6504",
              "version_minor": 0,
              "version_major": 2
            },
            "text/plain": [
              "HBox(children=(FloatProgress(value=0.0, max=46827520.0), HTML(value='')))"
            ]
          },
          "metadata": {
            "tags": []
          }
        },
        {
          "output_type": "stream",
          "text": [
            "\n"
          ],
          "name": "stdout"
        },
        {
          "output_type": "display_data",
          "data": {
            "text/html": [
              "<table border=\"1\" class=\"dataframe\">\n",
              "  <thead>\n",
              "    <tr style=\"text-align: left;\">\n",
              "      <th>epoch</th>\n",
              "      <th>train_loss</th>\n",
              "      <th>valid_loss</th>\n",
              "      <th>error_rate</th>\n",
              "      <th>time</th>\n",
              "    </tr>\n",
              "  </thead>\n",
              "  <tbody>\n",
              "    <tr>\n",
              "      <td>0</td>\n",
              "      <td>1.622857</td>\n",
              "      <td>0.472182</td>\n",
              "      <td>0.177778</td>\n",
              "      <td>01:21</td>\n",
              "    </tr>\n",
              "  </tbody>\n",
              "</table>"
            ],
            "text/plain": [
              "<IPython.core.display.HTML object>"
            ]
          },
          "metadata": {
            "tags": []
          }
        },
        {
          "output_type": "display_data",
          "data": {
            "text/html": [
              "<table border=\"1\" class=\"dataframe\">\n",
              "  <thead>\n",
              "    <tr style=\"text-align: left;\">\n",
              "      <th>epoch</th>\n",
              "      <th>train_loss</th>\n",
              "      <th>valid_loss</th>\n",
              "      <th>error_rate</th>\n",
              "      <th>time</th>\n",
              "    </tr>\n",
              "  </thead>\n",
              "  <tbody>\n",
              "    <tr>\n",
              "      <td>0</td>\n",
              "      <td>0.487464</td>\n",
              "      <td>0.095776</td>\n",
              "      <td>0.033333</td>\n",
              "      <td>01:48</td>\n",
              "    </tr>\n",
              "    <tr>\n",
              "      <td>1</td>\n",
              "      <td>0.311531</td>\n",
              "      <td>0.038337</td>\n",
              "      <td>0.011111</td>\n",
              "      <td>01:47</td>\n",
              "    </tr>\n",
              "    <tr>\n",
              "      <td>2</td>\n",
              "      <td>0.230572</td>\n",
              "      <td>0.031746</td>\n",
              "      <td>0.011111</td>\n",
              "      <td>01:49</td>\n",
              "    </tr>\n",
              "    <tr>\n",
              "      <td>3</td>\n",
              "      <td>0.179962</td>\n",
              "      <td>0.030898</td>\n",
              "      <td>0.011111</td>\n",
              "      <td>01:46</td>\n",
              "    </tr>\n",
              "  </tbody>\n",
              "</table>"
            ],
            "text/plain": [
              "<IPython.core.display.HTML object>"
            ]
          },
          "metadata": {
            "tags": []
          }
        }
      ]
    },
    {
      "cell_type": "markdown",
      "metadata": {
        "id": "wxQUraT0WEIx"
      },
      "source": [
        "Now let's see whether the mistakes the model is making are mainly thinking that grizzlies are teddies (that would be bad for safety!), or that grizzlies are black bears, or something else. To visualize this, we can create a *confusion matrix*:"
      ]
    },
    {
      "cell_type": "code",
      "metadata": {
        "id": "0sqFBVX9WEIx",
        "colab": {
          "base_uri": "https://localhost:8080/",
          "height": 311
        },
        "outputId": "6b87767d-1697-4ec6-8752-d057312470e3"
      },
      "source": [
        "interp = ClassificationInterpretation.from_learner(learn)\n",
        "interp.plot_confusion_matrix()"
      ],
      "execution_count": 18,
      "outputs": [
        {
          "output_type": "display_data",
          "data": {
            "text/html": [
              ""
            ],
            "text/plain": [
              "<IPython.core.display.HTML object>"
            ]
          },
          "metadata": {
            "tags": []
          }
        },
        {
          "output_type": "display_data",
          "data": {
            "image/png": "[encoded data removed]",
            "text/plain": [
              "<Figure size 432x288 with 1 Axes>"
            ]
          },
          "metadata": {
            "tags": [],
            "needs_background": "light"
          }
        }
      ]
    },
    {
      "cell_type": "markdown",
      "metadata": {
        "id": "O8JydD9-WEIz"
      },
      "source": [
        "## Turning Your Model into an Online Application"
      ]
    },
    {
      "cell_type": "markdown",
      "metadata": {
        "id": "JgWAjoJNWEIz"
      },
      "source": [
        "We are now going to look at what it takes to turn this model into a working online application. We will just go as far as creating a basic working prototype; we do not have the scope in this book to teach you all the details of web application development generally."
      ]
    },
    {
      "cell_type": "markdown",
      "metadata": {
        "id": "BnVEg5aDWEI0"
      },
      "source": [
        "### Using the Model for Inference"
      ]
    },
    {
      "cell_type": "markdown",
      "metadata": {
        "id": "f48d5Qc_WEI0"
      },
      "source": [
        "Once you've got a model you're happy with, you need to save it, so that you can then copy it over to a server where you'll use it in production. Remember that a model consists of two parts: the *architecture* and the trained *parameters*. The easiest way to save the model is to save both of these, because that way when you load a model you can be sure that you have the matching architecture and parameters. To save both parts, use the `export` method.\n",
        "\n",
        "This method even saves the definition of how to create your `DataLoaders`. This is important, because otherwise you would have to redefine how to transform your data in order to use your model in production. fastai automatically uses your validation set `DataLoader` for inference by default, so your data augmentation will not be applied, which is generally what you want.\n",
        "\n",
        "When you call `export`, fastai will save a file called \"export.pkl\":"
      ]
    },
    {
      "cell_type": "code",
      "metadata": {
        "id": "g-coGESGWEI0"
      },
      "source": [
        "learn.export()"
      ],
      "execution_count": 19,
      "outputs": []
    },
    {
      "cell_type": "markdown",
      "metadata": {
        "id": "vZq3lvlkWEI0"
      },
      "source": [
        "Let's check that the file exists, by using the `ls` method that fastai adds to Python's `Path` class:"
      ]
    },
    {
      "cell_type": "code",
      "metadata": {
        "id": "RGp_GrpAWEI0",
        "colab": {
          "base_uri": "https://localhost:8080/"
        },
        "outputId": "14278adc-1b11-46f9-cf2c-206de5b43e65"
      },
      "source": [
        "path = Path()\n",
        "path.ls(file_exts='.pkl')"
      ],
      "execution_count": 20,
      "outputs": [
        {
          "output_type": "execute_result",
          "data": {
            "text/plain": [
              "(#1) [Path('export.pkl')]"
            ]
          },
          "metadata": {
            "tags": []
          },
          "execution_count": 20
        }
      ]
    },
    {
      "cell_type": "markdown",
      "metadata": {
        "id": "IRtSFu56WEI1"
      },
      "source": [
        "You'll need this file wherever you deploy your app to. For now, let's try to create a simple app within our notebook.\n",
        "\n",
        "When we use a model for getting predictions, instead of training, we call it *inference*. To create our inference learner from the exported file, we use `load_learner` (in this case, this isn't really necessary, since we already have a working `Learner` in our notebook; we're just doing it here so you can see the whole process end-to-end):"
      ]
    },
    {
      "cell_type": "code",
      "metadata": {
        "id": "fEClflFWWEI1"
      },
      "source": [
        "learn_inf = load_learner(path/'export.pkl')"
      ],
      "execution_count": 21,
      "outputs": []
    },
    {
      "cell_type": "markdown",
      "metadata": {
        "id": "XuNKTBuBWEI1"
      },
      "source": [
        "When we're doing inference, we're generally just getting predictions for one image at a time. To do this, pass a filename to `predict`:"
      ]
    },
    {
      "cell_type": "code",
      "metadata": {
        "id": "H6lSzK3iWEI1",
        "colab": {
          "base_uri": "https://localhost:8080/",
          "height": 34
        },
        "outputId": "cf4fb685-f295-4d0f-eba1-da4de820861f"
      },
      "source": [
        "learn_inf.predict('bear3.jpg')\n",
        "#this returns the prediction and probabilities of all the classes of bears  you predicted"
      ],
      "execution_count": 22,
      "outputs": [
        {
          "output_type": "display_data",
          "data": {
            "text/html": [
              ""
            ],
            "text/plain": [
              "<IPython.core.display.HTML object>"
            ]
          },
          "metadata": {
            "tags": []
          }
        },
        {
          "output_type": "execute_result",
          "data": {
            "text/plain": [
              "('grizzly bear', tensor(1), tensor([0.3277, 0.6716, 0.0007]))"
            ]
          },
          "metadata": {
            "tags": []
          },
          "execution_count": 22
        }
      ]
    },
    {
      "cell_type": "markdown",
      "metadata": {
        "id": "a3IYmuv6WEI2"
      },
      "source": [
        "This has returned three things: the predicted category in the same format you originally provided (in this case that's a string), the index of the predicted category, and the probabilities of each category. The last two are based on the order of categories in the *vocab* of the `DataLoaders`; that is, the stored list of all possible categories. At inference time, you can access the `DataLoaders` as an attribute of the `Learner`:"
      ]
    },
    {
      "cell_type": "code",
      "metadata": {
        "id": "Au7z9K1WWEI2",
        "colab": {
          "base_uri": "https://localhost:8080/"
        },
        "outputId": "a3151494-534c-4302-9132-d271b53832c4"
      },
      "source": [
        "learn_inf.dls.vocab\n",
        "#shows labels predicted"
      ],
      "execution_count": 23,
      "outputs": [
        {
          "output_type": "execute_result",
          "data": {
            "text/plain": [
              "['black bear', 'grizzly bear', 'teddy']"
            ]
          },
          "metadata": {
            "tags": []
          },
          "execution_count": 23
        }
      ]
    },
    {
      "cell_type": "markdown",
      "metadata": {
        "id": "L3_70PUAWEI2"
      },
      "source": [
        "We can see here that if we index into the vocab with the integer returned by `predict` then we get back \"grizzly,\" as expected. Also, note that if we index into the list of probabilities, we see a nearly 1.00 probability that this is a grizzly."
      ]
    },
    {
      "cell_type": "markdown",
      "metadata": {
        "id": "A3mwggHaWEI2"
      },
      "source": [
        "We know how to make predictions from our saved model, so we have everything we need to start building our app. We can do it directly in a Jupyter notebook."
      ]
    },
    {
      "cell_type": "markdown",
      "metadata": {
        "id": "l2xhoVCKWEI3"
      },
      "source": [
        "### Creating a Notebook App from the Model"
      ]
    },
    {
      "cell_type": "markdown",
      "metadata": {
        "id": "qvW4avU2WEI3"
      },
      "source": [
        "To use our model in an application, we can simply treat the `predict` method as a regular function. Therefore, creating an app from the model can be done using any of the myriad of frameworks and techniques available to application developers.\n",
        "\n",
        "However, most data scientists are not familiar with the world of web application development. So let's try using something that you do, at this point, know: it turns out that we can create a complete working web application using nothing but Jupyter notebooks! The two things we need to make this happen are:\n",
        "\n",
        "- IPython widgets (ipywidgets)\n",
        "- Voilà\n",
        "\n",
        "*IPython widgets* are GUI components that bring together JavaScript and Python functionality in a web browser, and can be created and used within a Jupyter notebook. For instance, the image cleaner that we saw earlier in this chapter is entirely written with IPython widgets. However, we don't want to require users of our application to run Jupyter themselves.\n",
        "\n",
        "That is why *Voilà* exists. It is a system for making applications consisting of IPython widgets available to end users, without them having to use Jupyter at all. Voilà is taking advantage of the fact that a notebook _already is_ a kind of web application, just a rather complex one that depends on another web application: Jupyter itself. Essentially, it helps us automatically convert the complex web application we've already implicitly made (the notebook) into a simpler, easier-to-deploy web application, which functions like a normal web application rather than like a notebook.\n",
        "\n",
        "But we still have the advantage of developing in a notebook, so with ipywidgets, we can build up our GUI step by step. We will use this approach to create a simple image classifier. First, we need a file upload widget:"
      ]
    },
    {
      "cell_type": "code",
      "metadata": {
        "id": "K3U3h13wWEI3",
        "colab": {
          "base_uri": "https://localhost:8080/",
          "height": 49,
          "referenced_widgets": [
            "52c3066a41244b74b34ec6ae7c247043",
            "c256d28433b84f75b6c29d3cc82b3915",
            "78d8bea1402a41c98c26683f9169ee80"
          ]
        },
        "outputId": "cd701162-1f8c-4ad1-a24e-9266e4543251"
      },
      "source": [
        "#hide_output\n",
        "btn_upload = widgets.FileUpload()\n",
        "btn_upload"
      ],
      "execution_count": 24,
      "outputs": [
        {
          "output_type": "display_data",
          "data": {
            "application/vnd.jupyter.widget-view+json": {
              "model_id": "52c3066a41244b74b34ec6ae7c247043",
              "version_minor": 0,
              "version_major": 2
            },
            "text/plain": [
              "FileUpload(value={}, description='Upload')"
            ]
          },
          "metadata": {
            "tags": []
          }
        }
      ]
    },
    {
      "cell_type": "markdown",
      "metadata": {
        "id": "h4EPmJnCWEI3"
      },
      "source": [
        "<img alt=\"An upload button\" width=\"159\" src=\"https://github.com/fastai/fastbook/blob/master/images/att_00008.png?raw=1\">\n",
        "\n",
        "Now we can grab the image:"
      ]
    },
    {
      "cell_type": "code",
      "metadata": {
        "hide_input": true,
        "id": "Boimdto4WEI3"
      },
      "source": [
        "#hide\n",
        "# For the book, we can't actually click an upload button, so we fake it\n",
        "btn_upload = SimpleNamespace(data = ['bear3.jpg'])"
      ],
      "execution_count": 25,
      "outputs": []
    },
    {
      "cell_type": "code",
      "metadata": {
        "id": "mn9pK5HcWEI4"
      },
      "source": [
        "img = PILImage.create(btn_upload.data[-1])"
      ],
      "execution_count": 26,
      "outputs": []
    },
    {
      "cell_type": "markdown",
      "metadata": {
        "id": "Z4yUO59RWEI4"
      },
      "source": [
        "<img alt=\"Output widget representing the image\" width=\"117\" src=\"https://github.com/fastai/fastbook/blob/master/images/att_00009.png?raw=1\">"
      ]
    },
    {
      "cell_type": "markdown",
      "metadata": {
        "id": "yk8uB2BWWEI4"
      },
      "source": [
        "We can use an `Output` widget to display it:"
      ]
    },
    {
      "cell_type": "code",
      "metadata": {
        "id": "IG2a0nVzWEI4",
        "colab": {
          "base_uri": "https://localhost:8080/",
          "height": 81,
          "referenced_widgets": [
            "9a0a2fd3ff7b43e1a43ac6cb9af989ba",
            "f06f1ca88a8248e38d225ca958cbd908"
          ]
        },
        "outputId": "9e1b0230-2a44-414f-9a2f-acdc97abaeaf"
      },
      "source": [
        "#hide_output\n",
        "out_pl = widgets.Output()\n",
        "out_pl.clear_output()\n",
        "with out_pl: display(img.to_thumb(128,128))\n",
        "out_pl"
      ],
      "execution_count": 27,
      "outputs": [
        {
          "output_type": "display_data",
          "data": {
            "application/vnd.jupyter.widget-view+json": {
              "model_id": "9a0a2fd3ff7b43e1a43ac6cb9af989ba",
              "version_minor": 0,
              "version_major": 2
            },
            "text/plain": [
              "Output()"
            ]
          },
          "metadata": {
            "tags": []
          }
        }
      ]
    },
    {
      "cell_type": "markdown",
      "metadata": {
        "id": "VIgCXo1WWEI4"
      },
      "source": [
        "<img alt=\"Output widget representing the image\" width=\"117\" src=\"https://github.com/fastai/fastbook/blob/master/images/att_00009.png?raw=1\">\n",
        "\n",
        "Then we can get our predictions:"
      ]
    },
    {
      "cell_type": "code",
      "metadata": {
        "id": "kSsOQohMWEI5",
        "colab": {
          "base_uri": "https://localhost:8080/",
          "height": 17
        },
        "outputId": "a465c4aa-6e1b-45e2-fac8-051eaf6d5053"
      },
      "source": [
        "pred,pred_idx,probs = learn_inf.predict(img)"
      ],
      "execution_count": 28,
      "outputs": [
        {
          "output_type": "display_data",
          "data": {
            "text/html": [
              ""
            ],
            "text/plain": [
              "<IPython.core.display.HTML object>"
            ]
          },
          "metadata": {
            "tags": []
          }
        }
      ]
    },
    {
      "cell_type": "markdown",
      "metadata": {
        "id": "aRYU_-eWWEI5"
      },
      "source": [
        "and use a `Label` to display them:"
      ]
    },
    {
      "cell_type": "code",
      "metadata": {
        "id": "b_UY3h_RWEI5",
        "colab": {
          "base_uri": "https://localhost:8080/",
          "height": 49,
          "referenced_widgets": [
            "181e33188d624d87a75ea04ae1e5e195",
            "f6f42e2d26784b88bbc2104aa39c05cd",
            "67a2db1bf1244d94b3c9e8ec8f935de3"
          ]
        },
        "outputId": "2bc60ca0-e70d-4449-d760-2ee3f7514cbc"
      },
      "source": [
        "#hide_output\n",
        "lbl_pred = widgets.Label()\n",
        "lbl_pred.value = f'Prediction: {pred}; Probability: {probs[pred_idx]:.04f}'\n",
        "lbl_pred"
      ],
      "execution_count": 29,
      "outputs": [
        {
          "output_type": "display_data",
          "data": {
            "application/vnd.jupyter.widget-view+json": {
              "model_id": "181e33188d624d87a75ea04ae1e5e195",
              "version_minor": 0,
              "version_major": 2
            },
            "text/plain": [
              "Label(value='Prediction: grizzly bear; Probability: 0.6716')"
            ]
          },
          "metadata": {
            "tags": []
          }
        }
      ]
    },
    {
      "cell_type": "markdown",
      "metadata": {
        "id": "bQPLx2szWEI5"
      },
      "source": [
        "`Prediction: grizzly; Probability: 1.0000`\n",
        "\n",
        "We'll need a button to do the classification. It looks exactly like the upload button:"
      ]
    },
    {
      "cell_type": "code",
      "metadata": {
        "id": "-MGRQnpyWEI5",
        "colab": {
          "base_uri": "https://localhost:8080/",
          "height": 49,
          "referenced_widgets": [
            "a1ad458a8d4d40c8a8c9e5dc4b41864f",
            "c948adcc712649fb94a22722d892017a",
            "c4627ec051b64f00afe1699665c21428"
          ]
        },
        "outputId": "3ac3a492-2f05-4d16-c252-33702e8e34ae"
      },
      "source": [
        "#hide_output\n",
        "btn_run = widgets.Button(description='Classify')\n",
        "btn_run"
      ],
      "execution_count": 30,
      "outputs": [
        {
          "output_type": "display_data",
          "data": {
            "application/vnd.jupyter.widget-view+json": {
              "model_id": "a1ad458a8d4d40c8a8c9e5dc4b41864f",
              "version_minor": 0,
              "version_major": 2
            },
            "text/plain": [
              "Button(description='Classify', style=ButtonStyle())"
            ]
          },
          "metadata": {
            "tags": []
          }
        }
      ]
    },
    {
      "cell_type": "markdown",
      "metadata": {
        "id": "r2RKCyMeWEI6"
      },
      "source": [
        "We'll also need a *click event handler*; that is, a function that will be called when it's pressed. We can just copy over the lines of code from above:"
      ]
    },
    {
      "cell_type": "code",
      "metadata": {
        "id": "8fMUG3PqWEI6"
      },
      "source": [
        "def on_click_classify(change):\n",
        "    img = PILImage.create(btn_upload.data[-1])\n",
        "    out_pl.clear_output()\n",
        "    with out_pl: display(img.to_thumb(128,128))\n",
        "    pred,pred_idx,probs = learn_inf.predict(img)\n",
        "    lbl_pred.value = f'Prediction: {pred}; Probability: {probs[pred_idx]:.04f}'\n",
        "\n",
        "btn_run.on_click(on_click_classify)"
      ],
      "execution_count": 31,
      "outputs": []
    },
    {
      "cell_type": "markdown",
      "metadata": {
        "id": "m1omZTU_WEI6"
      },
      "source": [
        "You can test the button now by pressing it, and you should see the image and predictions update automatically!\n",
        "\n",
        "We can now put them all in a vertical box (`VBox`) to complete our GUI:"
      ]
    },
    {
      "cell_type": "code",
      "metadata": {
        "id": "8ZfLQR1eWEI6"
      },
      "source": [
        "#hide\n",
        "#Putting back btn_upload to a widget for next cell\n",
        "btn_upload = widgets.FileUpload()"
      ],
      "execution_count": 32,
      "outputs": []
    },
    {
      "cell_type": "code",
      "metadata": {
        "id": "8-qsTSllWEI6",
        "colab": {
          "base_uri": "https://localhost:8080/",
          "height": 209,
          "referenced_widgets": [
            "7187e9beeef54e4d8e196726310fa144",
            "27a2a1bc9fe24b8886454b925eac66a0",
            "fd4a0c00ad47470f9a0be12f80a52d2d",
            "215c3adb46024726a87cdc6127f02566",
            "a1ad458a8d4d40c8a8c9e5dc4b41864f",
            "9a0a2fd3ff7b43e1a43ac6cb9af989ba",
            "181e33188d624d87a75ea04ae1e5e195",
            "61398aaf9eb54e318002b37afb88e0dd",
            "1db3fc05b78e44d08a2e77ec888b8168",
            "dfb517a33b6d47f987e8b1582a57d5b6",
            "c0f9d1d137b044608df6bab41bc599eb",
            "c948adcc712649fb94a22722d892017a",
            "c4627ec051b64f00afe1699665c21428",
            "f6f42e2d26784b88bbc2104aa39c05cd",
            "67a2db1bf1244d94b3c9e8ec8f935de3",
            "f06f1ca88a8248e38d225ca958cbd908"
          ]
        },
        "outputId": "d464fa5c-a7f5-4664-b1a6-a96bed1c6ea3"
      },
      "source": [
        "#hide_output\n",
        "VBox([widgets.Label('Select your bear!'), \n",
        "      btn_upload, btn_run, out_pl, lbl_pred])"
      ],
      "execution_count": 33,
      "outputs": [
        {
          "output_type": "display_data",
          "data": {
            "application/vnd.jupyter.widget-view+json": {
              "model_id": "7187e9beeef54e4d8e196726310fa144",
              "version_minor": 0,
              "version_major": 2
            },
            "text/plain": [
              "VBox(children=(Label(value='Select your bear!'), FileUpload(value={}, description='Upload'), Button(descriptio…"
            ]
          },
          "metadata": {
            "tags": []
          }
        },
        {
          "output_type": "display_data",
          "data": {
            "text/html": [
              ""
            ],
            "text/plain": [
              "<IPython.core.display.HTML object>"
            ]
          },
          "metadata": {
            "tags": []
          }
        },
        {
          "output_type": "display_data",
          "data": {
            "text/html": [
              ""
            ],
            "text/plain": [
              "<IPython.core.display.HTML object>"
            ]
          },
          "metadata": {
            "tags": []
          }
        },
        {
          "output_type": "display_data",
          "data": {
            "text/html": [
              ""
            ],
            "text/plain": [
              "<IPython.core.display.HTML object>"
            ]
          },
          "metadata": {
            "tags": []
          }
        }
      ]
    },
    {
      "cell_type": "markdown",
      "metadata": {
        "id": "OgNixorEWEI7"
      },
      "source": [
        "<img alt=\"The whole widget\" width=\"233\" src=\"https://github.com/fastai/fastbook/blob/master/images/att_00011.png?raw=1\">"
      ]
    },
    {
      "cell_type": "markdown",
      "metadata": {
        "id": "BTOR3KIAWEI7"
      },
      "source": [
        "We have written all the code necessary for our app. The next step is to convert it into something we can deploy."
      ]
    },
    {
      "cell_type": "markdown",
      "metadata": {
        "id": "MTsiS9ObWEI7"
      },
      "source": [
        "### Turning Your Notebook into a Real App"
      ]
    },
    {
      "cell_type": "code",
      "metadata": {
        "id": "0gp17k6nWEI7",
        "colab": {
          "base_uri": "https://localhost:8080/",
          "height": 1000
        },
        "outputId": "1251ebfa-1e79-46e6-a88d-b7f3c5e63e0a"
      },
      "source": [
        "\n",
        "!pip install voila\n",
        "!jupyter serverextension enable --sys-prefix voila "
      ],
      "execution_count": 34,
      "outputs": [
        {
          "output_type": "stream",
          "text": [
            "Collecting voila\n",
            "\u001b[?25l  Downloading https://files.pythonhosted.org/packages/ec/c6/99c98f5f545d8ef053c6b18263831001ee06c1b9b72f0b828a4a56b5dc5b/voila-0.2.9-py3-none-any.whl (1.6MB)\n",
            "\u001b[K     |████████████████████████████████| 1.6MB 5.9MB/s \n",
            "\u001b[?25hCollecting nbconvert<7,>=6.0.0\n",
            "\u001b[?25l  Downloading https://files.pythonhosted.org/packages/13/2f/acbe7006548f3914456ee47f97a2033b1b2f3daf921b12ac94105d87c163/nbconvert-6.0.7-py3-none-any.whl (552kB)\n",
            "\u001b[K     |████████████████████████████████| 552kB 19.3MB/s \n",
            "\u001b[?25hCollecting jupyter-client<7,>=6.1.3\n",
            "\u001b[?25l  Downloading https://files.pythonhosted.org/packages/77/e8/c3cf72a32a697256608d5fa96360c431adec6e1c6709ba7f13f99ff5ee04/jupyter_client-6.1.12-py3-none-any.whl (112kB)\n",
            "\u001b[K     |████████████████████████████████| 122kB 26.4MB/s \n",
            "\u001b[?25hRequirement already satisfied: nbclient<0.6,>=0.4.0 in /usr/local/lib/python3.7/dist-packages (from voila) (0.5.3)\n",
            "Collecting jupyter-server<2.0.0,>=0.3.0\n",
            "\u001b[?25l  Downloading https://files.pythonhosted.org/packages/ae/af/9181eb8e3759d04f591e4640c53fa276a5b630ad0c85e3b49fbd7c70579d/jupyter_server-1.6.4-py3-none-any.whl (377kB)\n",
            "\u001b[K     |████████████████████████████████| 378kB 23.2MB/s \n",
            "\u001b[?25hRequirement already satisfied: traitlets>=4.2 in /usr/local/lib/python3.7/dist-packages (from nbconvert<7,>=6.0.0->voila) (5.0.5)\n",
            "Requirement already satisfied: mistune<2,>=0.8.1 in /usr/local/lib/python3.7/dist-packages (from nbconvert<7,>=6.0.0->voila) (0.8.4)\n",
            "Requirement already satisfied: jupyter-core in /usr/local/lib/python3.7/dist-packages (from nbconvert<7,>=6.0.0->voila) (4.7.1)\n",
            "Requirement already satisfied: testpath in /usr/local/lib/python3.7/dist-packages (from nbconvert<7,>=6.0.0->voila) (0.4.4)\n",
            "Requirement already satisfied: nbformat>=4.4 in /usr/local/lib/python3.7/dist-packages (from nbconvert<7,>=6.0.0->voila) (5.1.3)\n",
            "Requirement already satisfied: defusedxml in /usr/local/lib/python3.7/dist-packages (from nbconvert<7,>=6.0.0->voila) (0.7.1)\n",
            "Requirement already satisfied: jupyterlab-pygments in /usr/local/lib/python3.7/dist-packages (from nbconvert<7,>=6.0.0->voila) (0.1.2)\n",
            "Requirement already satisfied: bleach in /usr/local/lib/python3.7/dist-packages (from nbconvert<7,>=6.0.0->voila) (3.3.0)\n",
            "Requirement already satisfied: pygments>=2.4.1 in /usr/local/lib/python3.7/dist-packages (from nbconvert<7,>=6.0.0->voila) (2.6.1)\n",
            "Requirement already satisfied: jinja2>=2.4 in /usr/local/lib/python3.7/dist-packages (from nbconvert<7,>=6.0.0->voila) (2.11.3)\n",
            "Requirement already satisfied: pandocfilters>=1.4.1 in /usr/local/lib/python3.7/dist-packages (from nbconvert<7,>=6.0.0->voila) (1.4.3)\n",
            "Requirement already satisfied: entrypoints>=0.2.2 in /usr/local/lib/python3.7/dist-packages (from nbconvert<7,>=6.0.0->voila) (0.3)\n",
            "Requirement already satisfied: python-dateutil>=2.1 in /usr/local/lib/python3.7/dist-packages (from jupyter-client<7,>=6.1.3->voila) (2.8.1)\n",
            "Requirement already satisfied: pyzmq>=13 in /usr/local/lib/python3.7/dist-packages (from jupyter-client<7,>=6.1.3->voila) (22.0.3)\n",
            "Requirement already satisfied: tornado>=4.1 in /usr/local/lib/python3.7/dist-packages (from jupyter-client<7,>=6.1.3->voila) (5.1.1)\n",
            "Requirement already satisfied: nest-asyncio in /usr/local/lib/python3.7/dist-packages (from nbclient<0.6,>=0.4.0->voila) (1.5.1)\n",
            "Requirement already satisfied: async-generator in /usr/local/lib/python3.7/dist-packages (from nbclient<0.6,>=0.4.0->voila) (1.10)\n",
            "Requirement already satisfied: Send2Trash in /usr/local/lib/python3.7/dist-packages (from jupyter-server<2.0.0,>=0.3.0->voila) (1.5.0)\n",
            "Collecting jupyter-packaging~=0.9\n",
            "  Downloading https://files.pythonhosted.org/packages/21/34/ecb37fca8e8ec84b63e1fca0d9ed22a311d8781db95787c04355647b3bfb/jupyter_packaging-0.9.2-py2.py3-none-any.whl\n",
            "Collecting anyio<3,>=2.0.2\n",
            "\u001b[?25l  Downloading https://files.pythonhosted.org/packages/49/c3/b83a3c02c7d6f66932e9a72621d7f207cbfd2bd72b4c8931567ee386fb55/anyio-2.2.0-py3-none-any.whl (65kB)\n",
            "\u001b[K     |████████████████████████████████| 71kB 5.7MB/s \n",
            "\u001b[?25hRequirement already satisfied: terminado>=0.8.3 in /usr/local/lib/python3.7/dist-packages (from jupyter-server<2.0.0,>=0.3.0->voila) (0.9.4)\n",
            "Requirement already satisfied: argon2-cffi in /usr/local/lib/python3.7/dist-packages (from jupyter-server<2.0.0,>=0.3.0->voila) (20.1.0)\n",
            "Requirement already satisfied: prometheus-client in /usr/local/lib/python3.7/dist-packages (from jupyter-server<2.0.0,>=0.3.0->voila) (0.10.1)\n",
            "Requirement already satisfied: ipython-genutils in /usr/local/lib/python3.7/dist-packages (from jupyter-server<2.0.0,>=0.3.0->voila) (0.2.0)\n",
            "Requirement already satisfied: jsonschema!=2.5.0,>=2.4 in /usr/local/lib/python3.7/dist-packages (from nbformat>=4.4->nbconvert<7,>=6.0.0->voila) (2.6.0)\n",
            "Requirement already satisfied: packaging in /usr/local/lib/python3.7/dist-packages (from bleach->nbconvert<7,>=6.0.0->voila) (20.9)\n",
            "Requirement already satisfied: webencodings in /usr/local/lib/python3.7/dist-packages (from bleach->nbconvert<7,>=6.0.0->voila) (0.5.1)\n",
            "Requirement already satisfied: six>=1.9.0 in /usr/local/lib/python3.7/dist-packages (from bleach->nbconvert<7,>=6.0.0->voila) (1.15.0)\n",
            "Requirement already satisfied: MarkupSafe>=0.23 in /usr/local/lib/python3.7/dist-packages (from jinja2>=2.4->nbconvert<7,>=6.0.0->voila) (1.1.1)\n",
            "Requirement already satisfied: setuptools>=46.4.0 in /usr/local/lib/python3.7/dist-packages (from jupyter-packaging~=0.9->jupyter-server<2.0.0,>=0.3.0->voila) (56.0.0)\n",
            "Collecting deprecation\n",
            "  Downloading https://files.pythonhosted.org/packages/02/c3/253a89ee03fc9b9682f1541728eb66db7db22148cd94f89ab22528cd1e1b/deprecation-2.1.0-py2.py3-none-any.whl\n",
            "Collecting tomlkit\n",
            "  Downloading https://files.pythonhosted.org/packages/bc/01/a0ee34fe37dd54f795e8f8a820af57c9a94d7358276acf6cdc21ae8d9533/tomlkit-0.7.0-py2.py3-none-any.whl\n",
            "Requirement already satisfied: wheel in /usr/local/lib/python3.7/dist-packages (from jupyter-packaging~=0.9->jupyter-server<2.0.0,>=0.3.0->voila) (0.36.2)\n",
            "Collecting sniffio>=1.1\n",
            "  Downloading https://files.pythonhosted.org/packages/52/b0/7b2e028b63d092804b6794595871f936aafa5e9322dcaaad50ebf67445b3/sniffio-1.2.0-py3-none-any.whl\n",
            "Requirement already satisfied: typing-extensions; python_version < \"3.8\" in /usr/local/lib/python3.7/dist-packages (from anyio<3,>=2.0.2->jupyter-server<2.0.0,>=0.3.0->voila) (3.7.4.3)\n",
            "Requirement already satisfied: idna>=2.8 in /usr/local/lib/python3.7/dist-packages (from anyio<3,>=2.0.2->jupyter-server<2.0.0,>=0.3.0->voila) (2.10)\n",
            "Requirement already satisfied: ptyprocess; os_name != \"nt\" in /usr/local/lib/python3.7/dist-packages (from terminado>=0.8.3->jupyter-server<2.0.0,>=0.3.0->voila) (0.7.0)\n",
            "Requirement already satisfied: cffi>=1.0.0 in /usr/local/lib/python3.7/dist-packages (from argon2-cffi->jupyter-server<2.0.0,>=0.3.0->voila) (1.14.5)\n",
            "Requirement already satisfied: pyparsing>=2.0.2 in /usr/local/lib/python3.7/dist-packages (from packaging->bleach->nbconvert<7,>=6.0.0->voila) (2.4.7)\n",
            "Requirement already satisfied: pycparser in /usr/local/lib/python3.7/dist-packages (from cffi>=1.0.0->argon2-cffi->jupyter-server<2.0.0,>=0.3.0->voila) (2.20)\n",
            "\u001b[31mERROR: nbdev 1.1.14 has requirement nbconvert<6, but you'll have nbconvert 6.0.7 which is incompatible.\u001b[0m\n",
            "\u001b[31mERROR: jupyter-server 1.6.4 has requirement tornado>=6.1.0, but you'll have tornado 5.1.1 which is incompatible.\u001b[0m\n",
            "Installing collected packages: nbconvert, jupyter-client, deprecation, tomlkit, jupyter-packaging, sniffio, anyio, jupyter-server, voila\n",
            "  Found existing installation: nbconvert 5.6.1\n",
            "    Uninstalling nbconvert-5.6.1:\n",
            "      Successfully uninstalled nbconvert-5.6.1\n",
            "  Found existing installation: jupyter-client 5.3.5\n",
            "    Uninstalling jupyter-client-5.3.5:\n",
            "      Successfully uninstalled jupyter-client-5.3.5\n",
            "Successfully installed anyio-2.2.0 deprecation-2.1.0 jupyter-client-6.1.12 jupyter-packaging-0.9.2 jupyter-server-1.6.4 nbconvert-6.0.7 sniffio-1.2.0 tomlkit-0.7.0 voila-0.2.9\n"
          ],
          "name": "stdout"
        },
        {
          "output_type": "display_data",
          "data": {
            "application/vnd.colab-display-data+json": {
              "pip_warning": {
                "packages": [
                  "jupyter_client",
                  "nbconvert"
                ]
              }
            }
          },
          "metadata": {
            "tags": []
          }
        },
        {
          "output_type": "stream",
          "text": [
            "Enabling: voila\n",
            "- Writing config: /usr/etc/jupyter\n",
            "    - Validating...\n",
            "Error loading server extension voila\n",
            "     \u001b[31m X\u001b[0m is voila importable?\n"
          ],
          "name": "stdout"
        }
      ]
    },
    {
      "cell_type": "markdown",
      "metadata": {
        "id": "FfOB5toWWEI7"
      },
      "source": [
        "Now that we have everything working in this Jupyter notebook, we can create our application. To do this, start a new notebook and add to it only the code needed to create and show the widgets that you need, and markdown for any text that you want to appear. Have a look at the *bear_classifier* notebook in the book's repo to see the simple notebook application we created.\n",
        "\n",
        "Next, install Voilà if you haven't already, by copying these lines into a notebook cell and executing it:\n",
        "\n",
        "    !pip install voila\n",
        "    !jupyter serverextension enable --sys-prefix voila\n",
        "\n",
        "Cells that begin with a `!` do not contain Python code, but instead contain code that is passed to your shell (bash, Windows PowerShell, etc.). If you are comfortable using the command line, which we'll discuss more later in this book, you can of course simply type these two lines (without the `!` prefix) directly into your terminal. In this case, the first line installs the `voila` library and application, and the second connects it to your existing Jupyter notebook.\n",
        "\n",
        "Voilà runs Jupyter notebooks just like the Jupyter notebook server you are using now does, but it also does something very important: it removes all of the cell inputs, and only shows output (including ipywidgets), along with your markdown cells. So what's left is a web application! To view your notebook as a Voilà web application, replace the word \"notebooks\" in your browser's URL with: \"voila/render\". You will see the same content as your notebook, but without any of the code cells.\n",
        "\n",
        "Of course, you don't need to use Voilà or ipywidgets. Your model is just a function you can call (`pred,pred_idx,probs = learn.predict(img)`), so you can use it with any framework, hosted on any platform. And you can take something you've prototyped in ipywidgets and Voilà and later convert it into a regular web application. We're showing you this approach in the book because we think it's a great way for data scientists and other folks that aren't web development experts to create applications from their models.\n",
        "\n",
        "We have our app, now let's deploy it!"
      ]
    },
    {
      "cell_type": "markdown",
      "metadata": {
        "id": "XYI0SLVOWEI8"
      },
      "source": [
        "### Deploying your app"
      ]
    },
    {
      "cell_type": "markdown",
      "metadata": {
        "id": "U3StqJ1yWEI8"
      },
      "source": [
        "As you now know, you need a GPU to train nearly any useful deep learning model. So, do you need a GPU to use that model in production? No! You almost certainly *do not need a GPU to serve your model in production*. There are a few reasons for this:\n",
        "\n",
        "- As we've seen, GPUs are only useful when they do lots of identical work in parallel. If you're doing (say) image classification, then you'll normally be classifying just one user's image at a time, and there isn't normally enough work to do in a single image to keep a GPU busy for long enough for it to be very efficient. So, a CPU will often be more cost-effective.\n",
        "- An alternative could be to wait for a few users to submit their images, and then batch them up and process them all at once on a GPU. But then you're asking your users to wait, rather than getting answers straight away! And you need a high-volume site for this to be workable. If you do need this functionality, you can use a tool such as Microsoft's [ONNX Runtime](https://github.com/microsoft/onnxruntime), or [AWS Sagemaker](https://aws.amazon.com/sagemaker/)\n",
        "- The complexities of dealing with GPU inference are significant. In particular, the GPU's memory will need careful manual management, and you'll need a careful queueing system to ensure you only process one batch at a time.\n",
        "- There's a lot more market competition in CPU than GPU servers, as a result of which there are much cheaper options available for CPU servers.\n",
        "\n",
        "Because of the complexity of GPU serving, many systems have sprung up to try to automate this. However, managing and running these systems is also complex, and generally requires compiling your model into a different form that's specialized for that system. It's typically preferable to avoid dealing with this complexity until/unless your app gets popular enough that it makes clear financial sense for you to do so."
      ]
    },
    {
      "cell_type": "markdown",
      "metadata": {
        "id": "TfeN5_ekWEI8"
      },
      "source": [
        "For at least the initial prototype of your application, and for any hobby projects that you want to show off, you can easily host them for free. The best place and the best way to do this will vary over time, so check the [book's website](https://book.fast.ai/) for the most up-to-date recommendations. As we're writing this book in early 2020 the simplest (and free!) approach is to use [Binder](https://mybinder.org/). To publish your web app on Binder, you follow these steps:\n",
        "\n",
        "1. Add your notebook to a [GitHub repository](http://github.com/).\n",
        "2. Paste the URL of that repo into Binder's URL, as shown in <<deploy-binder>>.\n",
        "3. Change the File dropdown to instead select URL.\n",
        "4. In the \"URL to open\" field, enter `/voila/render/name.ipynb` (replacing `name` with the name of for your notebook).\n",
        "5. Click the clickboard button at the bottom right to copyt the URL and paste it somewhere safe. \n",
        "6. Click Launch."
      ]
    },
    {
      "cell_type": "markdown",
      "metadata": {
        "id": "9c4nIYYCWEI8"
      },
      "source": [
        "<img alt=\"Deploying to Binder\" width=\"800\" caption=\"Deploying to Binder\" id=\"deploy-binder\" src=\"https://github.com/fastai/fastbook/blob/master/images/att_00001.png?raw=1\">"
      ]
    },
    {
      "cell_type": "markdown",
      "metadata": {
        "id": "agMQFGwHWEI8"
      },
      "source": [
        "The first time you do this, Binder will take around 5 minutes to build your site. Behind the scenes, it is finding a virtual machine that can run your app, allocating storage, collecting the files needed for Jupyter, for your notebook, and for presenting your notebook as a web application.\n",
        "\n",
        "Finally, once it has started the app running, it will navigate your browser to your new web app. You can share the URL you copied to allow others to access your app as well.\n",
        "\n",
        "For other (both free and paid) options for deploying your web app, be sure to take a look at the [book's website](https://book.fast.ai/)."
      ]
    },
    {
      "cell_type": "markdown",
      "metadata": {
        "id": "AGbw305MWEI9"
      },
      "source": [
        "You may well want to deploy your application onto mobile devices, or edge devices such as a Raspberry Pi. There are a lot of libraries and frameworks that allow you to integrate a model directly into a mobile application. However, these approaches tend to require a lot of extra steps and boilerplate, and do not always support all the PyTorch and fastai layers that your model might use. In addition, the work you do will depend on what kind of mobile devices you are targeting for deployment—you might need to do some work to run on iOS devices, different work to run on newer Android devices, different work for older Android devices, etc. Instead, we recommend wherever possible that you deploy the model itself to a server, and have your mobile or edge application connect to it as a web service.\n",
        "\n",
        "There are quite a few upsides to this approach. The initial installation is easier, because you only have to deploy a small GUI application, which connects to the server to do all the heavy lifting. More importantly perhaps, upgrades of that core logic can happen on your server, rather than needing to be distributed to all of your users. Your server will have a lot more memory and processing capacity than most edge devices, and it is far easier to scale those resources if your model becomes more demanding. The hardware that you will have on a server is also going to be more standard and more easily supported by fastai and PyTorch, so you don't have to compile your model into a different form.\n",
        "\n",
        "There are downsides too, of course. Your application will require a network connection, and there will be some latency each time the model is called. (It takes a while for a neural network model to run anyway, so this additional network latency may not make a big difference to your users in practice. In fact, since you can use better hardware on the server, the overall latency may even be less than if it were running locally!) Also, if your application uses sensitive data then your users may be concerned about an approach which sends that data to a remote server, so sometimes privacy considerations will mean that you need to run the model on the edge device (it may be possible to avoid this by having an *on-premise* server, such as inside a company's firewall). Managing the complexity and scaling the server can create additional overhead too, whereas if your model runs on the edge devices then each user is bringing their own compute resources, which leads to easier scaling with an increasing number of users (also known as *horizontal scaling*)."
      ]
    },
    {
      "cell_type": "markdown",
      "metadata": {
        "id": "m5Jl9YqpWEI9"
      },
      "source": [
        "> A: I've had a chance to see up close how the mobile ML landscape is changing in my work. We offer an iPhone app that depends on computer vision, and for years we ran our own computer vision models in the cloud. This was the only way to do it then since those models needed significant memory and compute resources and took minutes to process inputs. This approach required building not only the models (fun!) but also the infrastructure to ensure a certain number of \"compute worker machines\" were absolutely always running (scary), that more machines would automatically come online if traffic increased, that there was stable storage for large inputs and outputs, that the iOS app could know and tell the user how their job was doing, etc. Nowadays Apple provides APIs for converting models to run efficiently on device and most iOS devices have dedicated ML hardware, so that's the strategy we use for our newer models. It's still not easy but in our case it's worth it, for a faster user experience and to worry less about servers. What works for you will depend, realistically, on the user experience you're trying to create and what you personally find is easy to do. If you really know how to run servers, do it. If you really know how to build native mobile apps, do that. There are many roads up the hill.\n",
        "\n",
        "Overall, we'd recommend using a simple CPU-based server approach where possible, for as long as you can get away with it. If you're lucky enough to have a very successful application, then you'll be able to justify the investment in more complex deployment approaches at that time.\n",
        "\n",
        "Congratulations, you have successfully built a deep learning model and deployed it! Now is a good time to take a pause and think about what could go wrong."
      ]
    },
    {
      "cell_type": "markdown",
      "metadata": {
        "id": "MSGSNEQVWEI9"
      },
      "source": [
        "## How to Avoid Disaster"
      ]
    },
    {
      "cell_type": "markdown",
      "metadata": {
        "id": "SYEGVuv5WEI9"
      },
      "source": [
        "In practice, a deep learning model will be just one piece of a much bigger system. As we discussed at the start of this chapter, a data product requires thinking about the entire end-to-end process, from conception to use in production. In this book, we can't hope to cover all the complexity of managing deployed data products, such as managing multiple versions of models, A/B testing, canarying, refreshing the data (should we just grow and grow our datasets all the time, or should we regularly remove some of the old data?), handling data labeling, monitoring all this, detecting model rot, and so forth. In this section we will give an overview of some of the most important issues to consider; for a more detailed discussion of deployment issues we refer to you to the excellent [Building Machine Learning Powered Applications](http://shop.oreilly.com/product/0636920215912.do) by Emmanuel Ameisen (O'Reilly)\n",
        "\n",
        "One of the biggest issues to consider is that understanding and testing the behavior of a deep learning model is much more difficult than with most other code you write. With normal software development you can analyze the exact steps that the software is taking, and carefully study which of these steps match the desired behavior that you are trying to create. But with a neural network the behavior emerges from the model's attempt to match the training data, rather than being exactly defined.\n",
        "\n",
        "This can result in disaster! For instance, let's say we really were rolling out a bear detection system that will be attached to video cameras around campsites in national parks, and will warn campers of incoming bears. If we used a model trained with the dataset we downloaded there would be all kinds of problems in practice, such as:\n",
        "\n",
        "- Working with video data instead of images\n",
        "- Handling nighttime images, which may not appear in this dataset\n",
        "- Dealing with low-resolution camera images\n",
        "- Ensuring results are returned fast enough to be useful in practice\n",
        "- Recognizing bears in positions that are rarely seen in photos that people post online (for example from behind, partially covered by bushes, or when a long way away from the camera)"
      ]
    },
    {
      "cell_type": "markdown",
      "metadata": {
        "id": "ylP7HcynWEI-"
      },
      "source": [
        "A big part of the issue is that the kinds of photos that people are most likely to upload to the internet are the kinds of photos that do a good job of clearly and artistically displaying their subject matter—which isn't the kind of input this system is going to be getting. So, we may need to do a lot of our own data collection and labelling to create a useful system.\n",
        "\n",
        "This is just one example of the more general problem of *out-of-domain* data. That is to say, there may be data that our model sees in production which is very different to what it saw during training. There isn't really a complete technical solution to this problem; instead, we have to be careful about our approach to rolling out the technology.\n",
        "\n",
        "There are other reasons we need to be careful too. One very common problem is *domain shift*, where the type of data that our model sees changes over time. For instance, an insurance company may use a deep learning model as part of its pricing and risk algorithm, but over time the types of customers that the company attracts, and the types of risks they represent, may change so much that the original training data is no longer relevant.\n",
        "\n",
        "Out-of-domain data and domain shift are examples of a larger problem: that you can never fully understand the entire behaviour of your neural network. They have far too many parameters to be able to analytically understand all of their possible behaviors. This is the natural downside of their best feature—their flexibility, which enables them to solve complex problems where we may not even be able to fully specify our preferred solution approaches. The good news, however, is that there are ways to mitigate these risks using a carefully thought-out process. The details of this will vary depending on the details of the problem you are solving, but we will attempt to lay out here a high-level approach, summarized in <<deploy_process>>, which we hope will provide useful guidance."
      ]
    },
    {
      "cell_type": "markdown",
      "metadata": {
        "id": "gCr9sFaxWEI-"
      },
      "source": [
        "<img alt=\"Deployment process\" width=\"500\" caption=\"Deployment process\" id=\"deploy_process\" src=\"https://github.com/fastai/fastbook/blob/master/images/att_00061.png?raw=1\">"
      ]
    },
    {
      "cell_type": "markdown",
      "metadata": {
        "id": "1hI8gW6RWEI-"
      },
      "source": [
        "Where possible, the first step is to use an entirely manual process, with your deep learning model approach running in parallel but not being used directly to drive any actions. The humans involved in the manual process should look at the deep learning outputs and check whether they make sense. For instance, with our bear classifier a park ranger could have a screen displaying video feeds from all the cameras, with any possible bear sightings simply highlighted in red. The park ranger would still be expected to be just as alert as before the model was deployed; the model is simply helping to check for problems at this point.\n",
        "\n",
        "The second step is to try to limit the scope of the model, and have it carefully supervised by people. For instance, do a small geographically and time-constrained trial of the model-driven approach. Rather than rolling our bear classifier out in every national park throughout the country, we could pick a single observation post, for a one-week period, and have a park ranger check each alert before it goes out.\n",
        "\n",
        "Then, gradually increase the scope of your rollout. As you do so, ensure that you have really good reporting systems in place, to make sure that you are aware of any significant changes to the actions being taken compared to your manual process. For instance, if the number of bear alerts doubles or halves after rollout of the new system in some location, we should be very concerned. Try to think about all the ways in which your system could go wrong, and then think about what measure or report or picture could reflect that problem, and ensure that your regular reporting includes that information."
      ]
    },
    {
      "cell_type": "markdown",
      "metadata": {
        "id": "XWyUXHm4WEI-"
      },
      "source": [
        "> J: I started a company 20 years ago called _Optimal Decisions_ that used machine learning and optimization to help giant insurance companies set their pricing, impacting tens of billions of dollars of risks. We used the approaches described here to manage the potential downsides of something going wrong. Also, before we worked with our clients to put anything in production, we tried to simulate the impact by testing the end-to-end system on their previous year's data. It was always quite a nerve-wracking process, putting these new algorithms into production, but every rollout was successful."
      ]
    },
    {
      "cell_type": "markdown",
      "metadata": {
        "id": "dvA41TcoWEI_"
      },
      "source": [
        "### Unforeseen Consequences and Feedback Loops"
      ]
    },
    {
      "cell_type": "markdown",
      "metadata": {
        "id": "RPVCY2-8WEI_"
      },
      "source": [
        "One of the biggest challenges in rolling out a model is that your model may change the behaviour of the system it is a part of. For instance, consider a \"predictive policing\" algorithm that predicts more crime in certain neighborhoods, causing more police officers to be sent to those neighborhoods, which can result in more crimes being recorded in those neighborhoods, and so on. In the Royal Statistical Society paper [\"To Predict and Serve?\"](https://rss.onlinelibrary.wiley.com/doi/full/10.1111/j.1740-9713.2016.00960.x), Kristian Lum and William Isaac observe that: \"predictive policing is aptly named: it is predicting future policing, not future crime.\"\n",
        "\n",
        "Part of the issue in this case is that in the presence of bias (which we'll discuss in depth in the next chapter), *feedback loops* can result in negative implications of that bias getting worse and worse. For instance, there are concerns that this is already happening in the US, where there is significant bias in arrest rates on racial grounds. [According to the ACLU](https://www.aclu.org/issues/smart-justice/sentencing-reform/war-marijuana-black-and-white), \"despite roughly equal usage rates, Blacks are 3.73 times more likely than whites to be arrested for marijuana.\" The impact of this bias, along with the rollout of predictive policing algorithms in many parts of the US, led Bärí Williams to [write in the *New York Times*](https://www.nytimes.com/2017/12/02/opinion/sunday/intelligent-policing-and-my-innocent-children.html): \"The same technology that’s the source of so much excitement in my career is being used in law enforcement in ways that could mean that in the coming years, my son, who is 7 now, is more likely to be profiled or arrested—or worse—for no reason other than his race and where we live.\"\n",
        "\n",
        "A helpful exercise prior to rolling out a significant machine learning system is to consider this question: \"What would happen if it went really, really well?\" In other words, what if the predictive power was extremely high, and its ability to influence behavior was extremely significant? In that case, who would be most impacted? What would the most extreme results potentially look like? How would you know what was really going on?\n",
        "\n",
        "Such a thought exercise might help you to construct a more careful rollout plan, with ongoing monitoring systems and human oversight. Of course, human oversight isn't useful if it isn't listened to, so make sure that there are reliable and resilient communication channels so that the right people will be aware of issues, and will have the power to fix them."
      ]
    },
    {
      "cell_type": "markdown",
      "metadata": {
        "id": "IY7oRcYTWEI_"
      },
      "source": [
        "## Get Writing!"
      ]
    },
    {
      "cell_type": "markdown",
      "metadata": {
        "id": "208pxY06WEI_"
      },
      "source": [
        "One of the things our students have found most helpful to solidify their understanding of this material is to write it down. There is no better test of your understanding of a topic than attempting to teach it to somebody else. This is helpful even if you never show your writing to anybody—but it's even better if you share it! So we recommend that, if you haven't already, you start a blog. Now that you've completed Chapter 2 and have learned how to train and deploy models, you're well placed to write your first blog post about your deep learning journey. What's surprised you? What opportunities do you see for deep learning in your field? What obstacles do you see?\n",
        "\n",
        "Rachel Thomas, cofounder of fast.ai, wrote in the article [\"Why You (Yes, You) Should Blog\"](https://medium.com/@racheltho/why-you-yes-you-should-blog-7d2544ac1045):\n",
        "\n",
        "```asciidoc\n",
        "____\n",
        "The top advice I would give my younger self would be to start blogging sooner. Here are some reasons to blog:\n",
        "\n",
        "* It’s like a resume, only better. I know of a few people who have had blog posts lead to job offers!\n",
        "* Helps you learn. Organizing knowledge always helps me synthesize my own ideas. One of the tests of whether you understand something is whether you can explain it to someone else. A blog post is a great way to do that.\n",
        "* I’ve gotten invitations to conferences and invitations to speak from my blog posts. I was invited to the TensorFlow Dev Summit (which was awesome!) for writing a blog post about how I don’t like TensorFlow.\n",
        "* Meet new people. I’ve met several people who have responded to blog posts I wrote.\n",
        "* Saves time. Any time you answer a question multiple times through email, you should turn it into a blog post, which makes it easier for you to share the next time someone asks.\n",
        "____\n",
        "```\n",
        "\n",
        "Perhaps her most important tip is this: \n",
        "\n",
        "> : You are best positioned to help people one step behind you. The material is still fresh in your mind. Many experts have forgotten what it was like to be a beginner (or an intermediate) and have forgotten why the topic is hard to understand when you first hear it. The context of your particular background, your particular style, and your knowledge level will give a different twist to what you’re writing about.\n",
        "\n",
        "We've provided full details on how to set up a blog in <<appendix_blog>>. If you don't have a blog already, take a look at that now, because we've got a really great approach set up for you to start blogging for free, with no ads—and you can even use Jupyter Notebook!"
      ]
    },
    {
      "cell_type": "markdown",
      "metadata": {
        "id": "Yh3QKPJ6WEJA"
      },
      "source": [
        "## Questionnaire"
      ]
    },
    {
      "cell_type": "markdown",
      "metadata": {
        "id": "bjVOUFqNWEJA"
      },
      "source": [
        "1. Provide an example of where the bear classification model might work poorly in production, due to structural or style differences in the training data.\n",
        "1. Where do text models currently have a major deficiency?\n",
        "1. What are possible negative societal implications of text generation models?\n",
        "1. In situations where a model might make mistakes, and those mistakes could be harmful, what is a good alternative to automating a process?\n",
        "1. What kind of tabular data is deep learning particularly good at?\n",
        "1. What's a key downside of directly using a deep learning model for recommendation systems?\n",
        "1. What are the steps of the Drivetrain Approach?\n",
        "1. How do the steps of the Drivetrain Approach map to a recommendation system?\n",
        "1. Create an image recognition model using data you curate, and deploy it on the web.\n",
        "1. What is `DataLoaders`?\n",
        "1. What four things do we need to tell fastai to create `DataLoaders`?\n",
        "1. What does the `splitter` parameter to `DataBlock` do?\n",
        "1. How do we ensure a random split always gives the same validation set?\n",
        "1. What letters are often used to signify the independent and dependent variables?\n",
        "1. What's the difference between the crop, pad, and squish resize approaches? When might you choose one over the others?\n",
        "1. What is data augmentation? Why is it needed?\n",
        "1. What is the difference between `item_tfms` and `batch_tfms`?\n",
        "1. What is a confusion matrix?\n",
        "1. What does `export` save?\n",
        "1. What is it called when we use a model for getting predictions, instead of training?\n",
        "1. What are IPython widgets?\n",
        "1. When might you want to use CPU for deployment? When might GPU be better?\n",
        "1. What are the downsides of deploying your app to a server, instead of to a client (or edge) device such as a phone or PC?\n",
        "1. What are three examples of problems that could occur when rolling out a bear warning system in practice?\n",
        "1. What is \"out-of-domain data\"?\n",
        "1. What is \"domain shift\"?\n",
        "1. What are the three steps in the deployment process?"
      ]
    },
    {
      "cell_type": "markdown",
      "metadata": {
        "id": "NQVf3UNfWEJA"
      },
      "source": [
        "### Further Research"
      ]
    },
    {
      "cell_type": "markdown",
      "metadata": {
        "id": "ttgMn6ryWEJA"
      },
      "source": [
        "1. Consider how the Drivetrain Approach maps to a project or problem you're interested in.\n",
        "1. When might it be best to avoid certain types of data augmentation?\n",
        "1. For a project you're interested in applying deep learning to, consider the thought experiment \"What would happen if it went really, really well?\"\n",
        "1. Start a blog, and write your first blog post. For instance, write about what you think deep learning might be useful for in a domain you're interested in."
      ]
    },
    {
      "cell_type": "code",
      "metadata": {
        "id": "gHShBW7uWEJA"
      },
      "source": [
        ""
      ],
      "execution_count": null,
      "outputs": []
    }
  ]
}